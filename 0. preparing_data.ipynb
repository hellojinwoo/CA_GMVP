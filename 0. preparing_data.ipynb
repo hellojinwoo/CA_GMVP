{
 "cells": [
  {
   "cell_type": "markdown",
   "metadata": {},
   "source": [
    "# __Chapter 0. Preparing data__\n",
    "\n",
    "- In this chapter, we are going to download the '__adjusted closing price__' of stocks listed in the stock index __Russel 1000__. \n",
    "- The reason that we use Russel 1000 instead of S&P 500 is that the number of stocks left is not many when we filter stocks with missing values from 1999 to 2019, if we use S&P 500.\n",
    "- We are aware of that filtering stocks with missing values will cause __Survivorship bias__. This will be fixed in the future research\n",
    "- The adjusted closing price is going to turn into daily returns of stocks and then be used when we optimize a portfolio.\n",
    "\n",
    "#### __Description of Data__\n",
    "- __Timespan :__ Nov.1999 - Nov.2019 (recent 20 years)\n",
    "- __Stock index used :__ Russel 1000\n",
    "- __Source :__ Yahoo Finance\n",
    "- __Library used for downloading data__ : Pandas datareader\n",
    "\n",
    "#### __Contents__\n",
    "\n",
    "- [__Step 01. Loading stock data__](#Step-01.-Loading-stock-data)\n",
    "- [__Step 02. Filtering tickers__](#Step-02.-Filtering-tickers)\n",
    "- [__Step 03. Creating a daily_price_df__](#Step-03.-Creating-a-daily_price_df)\n",
    "- [__Step 04. Grouping daily_return by a year__](#Step-04.-Grouping-daily_return-by-a-year)\n",
    "- [__Step 05. Downloading industry information__](#Step-05.-Downloading-industry-information)"
   ]
  },
  {
   "cell_type": "markdown",
   "metadata": {},
   "source": [
    "---"
   ]
  },
  {
   "cell_type": "markdown",
   "metadata": {
    "toc-hr-collapsed": true,
    "toc-nb-collapsed": true
   },
   "source": [
    "## Step 01. Loading stock data"
   ]
  },
  {
   "cell_type": "markdown",
   "metadata": {},
   "source": [
    "__1. Importing required libraries__"
   ]
  },
  {
   "cell_type": "code",
   "execution_count": 1,
   "metadata": {},
   "outputs": [],
   "source": [
    "# for importing libraries again that is already imported, just in case that any change is made in libraries\n",
    "%load_ext autoreload\n",
    "%autoreload 2\n",
    "\n",
    "# libraries for general work\n",
    "import pickle\n",
    "import numpy as np\n",
    "import pandas as pd\n",
    "from tqdm import tqdm_notebook as tqdm\n",
    "\n",
    "# for downloading stock data\n",
    "import pandas_datareader.data as pdr\n",
    "import datetime\n",
    "\n",
    "# for downloading industry information of each company\n",
    "# source : https://github.com/davidastephens/pandas-finance\n",
    "from pandas_finance import Equity\n",
    "\n",
    "# Disable printing all warnings on python \n",
    "import warnings\n",
    "warnings.filterwarnings(\"ignore\")"
   ]
  },
  {
   "cell_type": "markdown",
   "metadata": {},
   "source": [
    "__2. Loading Russel 1000 index constituents__\n",
    "- loading the tickers consisting the Russel 1000 index from the beginning of __Nov.1999__ till the end of __Nov.2019__"
   ]
  },
  {
   "cell_type": "code",
   "execution_count": 2,
   "metadata": {},
   "outputs": [
    {
     "data": {
      "text/plain": [
       "['TWOU', 'MMM', 'ABT', 'ABBV', 'ABMD']"
      ]
     },
     "execution_count": 2,
     "metadata": {},
     "output_type": "execute_result"
    }
   ],
   "source": [
    "russel1000_tickers = pd.read_csv(\"./data/russel1000_constituents.csv\", header=None)\n",
    "russel1000_tickers = list(russel1000_tickers.iloc[:,0])\n",
    "russel1000_tickers[:5]"
   ]
  },
  {
   "cell_type": "code",
   "execution_count": 3,
   "metadata": {},
   "outputs": [
    {
     "data": {
      "text/plain": [
       "968"
      ]
     },
     "execution_count": 3,
     "metadata": {},
     "output_type": "execute_result"
    }
   ],
   "source": [
    "len(russel1000_tickers)"
   ]
  },
  {
   "cell_type": "markdown",
   "metadata": {},
   "source": [
    "__3. Setting dates of `start` and `end` (the start and end dates when we download stocks)__"
   ]
  },
  {
   "cell_type": "code",
   "execution_count": 4,
   "metadata": {},
   "outputs": [],
   "source": [
    "# We will look at stock prices over the past year, starting at January 1, 2016\n",
    "start = (1999, 11, 1)\n",
    "start = datetime.datetime(*start)\n",
    "end = (2019, 12, 1)\n",
    "end = datetime.datetime(*end)"
   ]
  },
  {
   "cell_type": "markdown",
   "metadata": {},
   "source": [
    "__4. Download stock data__"
   ]
  },
  {
   "cell_type": "code",
   "execution_count": 5,
   "metadata": {},
   "outputs": [
    {
     "data": {
      "application/vnd.jupyter.widget-view+json": {
       "model_id": "3ca75cc51a1f4b7480d69f68159522a0",
       "version_major": 2,
       "version_minor": 0
      },
      "text/plain": [
       "HBox(children=(FloatProgress(value=0.0, max=968.0), HTML(value='')))"
      ]
     },
     "metadata": {},
     "output_type": "display_data"
    },
    {
     "name": "stdout",
     "output_type": "stream",
     "text": [
      "The following ticker made an error : BHGE\n",
      "The following ticker made an error : BRK.B\n",
      "The following ticker made an error : BFA\n",
      "The following ticker made an error : BFB\n",
      "The following ticker made an error : DPS\n",
      "The following ticker made an error : DNB\n",
      "The following ticker made an error : EGN\n",
      "The following ticker made an error : FDC\n",
      "The following ticker made an error : HEI.A\n",
      "The following ticker made an error : HPT\n",
      "The following ticker made an error : LEN.B\n",
      "The following ticker made an error : LGF.A\n",
      "The following ticker made an error : PF\n",
      "The following ticker made an error : TSRO\n",
      "The following ticker made an error : TMK\n",
      "The following ticker made an error : TRCO\n",
      "The following ticker made an error : DATA\n",
      "The following ticker made an error : ULTI\n",
      "The following ticker made an error : VVC\n",
      "The following ticker made an error : VSM\n",
      "The following ticker made an error : USG\n",
      "The following ticker made an error : UBNT\n",
      "The following ticker made an error : WFT\n",
      "The following ticker made an error : JW.A\n",
      "The following ticker made an error : WP\n",
      "\n"
     ]
    }
   ],
   "source": [
    "stock_data_dict = {}\n",
    "missing_tickers = []\n",
    "\n",
    "for ticker in tqdm(russel1000_tickers):\n",
    "    try:\n",
    "        stock_data = pdr.DataReader(ticker, 'yahoo', start, end)\n",
    "        stock_data_dict[ticker] = stock_data\n",
    "    except:\n",
    "        print(f\"The following ticker made an error : {ticker}\")\n",
    "        missing_tickers.append(ticker)"
   ]
  },
  {
   "cell_type": "code",
   "execution_count": 6,
   "metadata": {},
   "outputs": [
    {
     "data": {
      "text/plain": [
       "943"
      ]
     },
     "execution_count": 6,
     "metadata": {},
     "output_type": "execute_result"
    }
   ],
   "source": [
    "len(stock_data_dict)"
   ]
  },
  {
   "cell_type": "code",
   "execution_count": 7,
   "metadata": {},
   "outputs": [
    {
     "data": {
      "text/plain": [
       "25"
      ]
     },
     "execution_count": 7,
     "metadata": {},
     "output_type": "execute_result"
    }
   ],
   "source": [
    "len(missing_tickers)"
   ]
  },
  {
   "cell_type": "markdown",
   "metadata": {},
   "source": [
    "__5. Checking `missing_tickers` once again__"
   ]
  },
  {
   "cell_type": "code",
   "execution_count": 8,
   "metadata": {},
   "outputs": [],
   "source": [
    "replaced_missing_tickers = []\n",
    "\n",
    "for ticker in missing_tickers:\n",
    "    replaced_ticker = ticker.replace('.','-')\n",
    "    replaced_missing_tickers.append(replaced_ticker)"
   ]
  },
  {
   "cell_type": "code",
   "execution_count": 9,
   "metadata": {},
   "outputs": [
    {
     "data": {
      "application/vnd.jupyter.widget-view+json": {
       "model_id": "44e5782954714f72b6093e3e30d91eca",
       "version_major": 2,
       "version_minor": 0
      },
      "text/plain": [
       "HBox(children=(FloatProgress(value=0.0, max=25.0), HTML(value='')))"
      ]
     },
     "metadata": {},
     "output_type": "display_data"
    },
    {
     "name": "stdout",
     "output_type": "stream",
     "text": [
      "The following ticker made an error : BHGE\n",
      "The following ticker made an error : BFA\n",
      "The following ticker made an error : BFB\n",
      "The following ticker made an error : DPS\n",
      "The following ticker made an error : DNB\n",
      "The following ticker made an error : EGN\n",
      "The following ticker made an error : FDC\n",
      "The following ticker made an error : HPT\n",
      "The following ticker made an error : PF\n",
      "The following ticker made an error : TSRO\n",
      "The following ticker made an error : TMK\n",
      "The following ticker made an error : TRCO\n",
      "The following ticker made an error : DATA\n",
      "The following ticker made an error : ULTI\n",
      "The following ticker made an error : VVC\n",
      "The following ticker made an error : VSM\n",
      "The following ticker made an error : USG\n",
      "The following ticker made an error : UBNT\n",
      "The following ticker made an error : WFT\n",
      "The following ticker made an error : WP\n",
      "\n"
     ]
    }
   ],
   "source": [
    "for ticker in tqdm(replaced_missing_tickers):\n",
    "    try:\n",
    "        stock_data = pdr.DataReader(ticker, 'yahoo', start, end)\n",
    "        stock_data_dict[ticker] = stock_data\n",
    "    except:\n",
    "        print(f\"The following ticker made an error : {ticker}\")\n",
    "        missing_tickers.append(ticker)"
   ]
  },
  {
   "cell_type": "code",
   "execution_count": 10,
   "metadata": {},
   "outputs": [
    {
     "data": {
      "text/plain": [
       "948"
      ]
     },
     "execution_count": 10,
     "metadata": {},
     "output_type": "execute_result"
    }
   ],
   "source": [
    "len(stock_data_dict)"
   ]
  },
  {
   "cell_type": "code",
   "execution_count": 11,
   "metadata": {},
   "outputs": [],
   "source": [
    "# Saving\n",
    "with open('data/russel1000_raw_data_dict.pickle', 'wb') as f: # \n",
    "    pickle.dump(stock_data_dict, f, pickle.HIGHEST_PROTOCOL)"
   ]
  },
  {
   "cell_type": "markdown",
   "metadata": {},
   "source": [
    "---"
   ]
  },
  {
   "cell_type": "markdown",
   "metadata": {},
   "source": [
    "## Step 02. Filtering tickers"
   ]
  },
  {
   "cell_type": "markdown",
   "metadata": {},
   "source": [
    "__1. Filtering tickers with missing value__"
   ]
  },
  {
   "cell_type": "code",
   "execution_count": 12,
   "metadata": {},
   "outputs": [],
   "source": [
    "ticker_list_in_stock_data_dict = list(stock_data_dict.keys())\n",
    "stock_data_dict_len_list = []\n",
    "\n",
    "for ticker in ticker_list_in_stock_data_dict:\n",
    "    stock_data_dict_len_list.append(len(stock_data_dict[ticker]))"
   ]
  },
  {
   "cell_type": "code",
   "execution_count": 13,
   "metadata": {},
   "outputs": [
    {
     "data": {
      "text/plain": [
       "5053"
      ]
     },
     "execution_count": 13,
     "metadata": {},
     "output_type": "execute_result"
    }
   ],
   "source": [
    "maximum_len = pd.Series(stock_data_dict_len_list).max()\n",
    "maximum_len"
   ]
  },
  {
   "cell_type": "code",
   "execution_count": 14,
   "metadata": {},
   "outputs": [],
   "source": [
    "filtered_stock_data_dict = {}\n",
    "\n",
    "for ticker in ticker_list_in_stock_data_dict:\n",
    "    if len(stock_data_dict[ticker]) == maximum_len:\n",
    "        filtered_stock_data_dict[ticker] = stock_data_dict[ticker]"
   ]
  },
  {
   "cell_type": "code",
   "execution_count": 15,
   "metadata": {},
   "outputs": [
    {
     "data": {
      "text/plain": [
       "590"
      ]
     },
     "execution_count": 15,
     "metadata": {},
     "output_type": "execute_result"
    }
   ],
   "source": [
    "len(filtered_stock_data_dict)"
   ]
  },
  {
   "cell_type": "code",
   "execution_count": 16,
   "metadata": {},
   "outputs": [],
   "source": [
    "# # Saving\n",
    "# with open('data/russel1000_stock_data_dict.pickle', 'wb') as f: # \n",
    "#     pickle.dump(filtered_stock_data_dict, f, pickle.HIGHEST_PROTOCOL)"
   ]
  },
  {
   "cell_type": "code",
   "execution_count": 17,
   "metadata": {},
   "outputs": [],
   "source": [
    "# Loading\n",
    "with open('data/russel1000_stock_data_dict.pickle', 'rb') as f:\n",
    "    filtered_stock_data_dict = pickle.load(f)"
   ]
  },
  {
   "cell_type": "markdown",
   "metadata": {},
   "source": [
    "---"
   ]
  },
  {
   "cell_type": "markdown",
   "metadata": {},
   "source": [
    "## Step 03. Creating a daily_price_df"
   ]
  },
  {
   "cell_type": "markdown",
   "metadata": {},
   "source": [
    "__1. Creating a dataframe of price : `daily_price_df`__"
   ]
  },
  {
   "cell_type": "code",
   "execution_count": 18,
   "metadata": {},
   "outputs": [],
   "source": [
    "daily_price_dict = {}\n",
    "filtered_tickers = list(filtered_stock_data_dict.keys())\n",
    "\n",
    "for ticker in filtered_tickers:\n",
    "    daily_price_dict[ticker] = filtered_stock_data_dict[ticker].loc[:,'Adj Close']"
   ]
  },
  {
   "cell_type": "code",
   "execution_count": 19,
   "metadata": {},
   "outputs": [
    {
     "data": {
      "text/html": [
       "<div>\n",
       "<style scoped>\n",
       "    .dataframe tbody tr th:only-of-type {\n",
       "        vertical-align: middle;\n",
       "    }\n",
       "\n",
       "    .dataframe tbody tr th {\n",
       "        vertical-align: top;\n",
       "    }\n",
       "\n",
       "    .dataframe thead th {\n",
       "        text-align: right;\n",
       "    }\n",
       "</style>\n",
       "<table border=\"1\" class=\"dataframe\">\n",
       "  <thead>\n",
       "    <tr style=\"text-align: right;\">\n",
       "      <th></th>\n",
       "      <th>MMM</th>\n",
       "      <th>ABT</th>\n",
       "      <th>ABMD</th>\n",
       "      <th>ACHC</th>\n",
       "      <th>ATVI</th>\n",
       "      <th>ADBE</th>\n",
       "      <th>AMD</th>\n",
       "      <th>AES</th>\n",
       "      <th>AMG</th>\n",
       "      <th>AFL</th>\n",
       "      <th>...</th>\n",
       "      <th>ZBRA</th>\n",
       "      <th>ZION</th>\n",
       "      <th>XEL</th>\n",
       "      <th>XRX</th>\n",
       "      <th>XLNX</th>\n",
       "      <th>YUM</th>\n",
       "      <th>BRK-B</th>\n",
       "      <th>HEI-A</th>\n",
       "      <th>LGF-A</th>\n",
       "      <th>JW-A</th>\n",
       "    </tr>\n",
       "  </thead>\n",
       "  <tbody>\n",
       "    <tr>\n",
       "      <th>1999-11-01</th>\n",
       "      <td>26.186508</td>\n",
       "      <td>7.625059</td>\n",
       "      <td>10.2500</td>\n",
       "      <td>3.750</td>\n",
       "      <td>1.057096</td>\n",
       "      <td>17.013006</td>\n",
       "      <td>10.15625</td>\n",
       "      <td>22.383265</td>\n",
       "      <td>17.685398</td>\n",
       "      <td>5.895580</td>\n",
       "      <td>...</td>\n",
       "      <td>26.222221</td>\n",
       "      <td>44.172218</td>\n",
       "      <td>8.828288</td>\n",
       "      <td>59.627827</td>\n",
       "      <td>28.284966</td>\n",
       "      <td>4.807233</td>\n",
       "      <td>41.740002</td>\n",
       "      <td>1.899360</td>\n",
       "      <td>1.423901</td>\n",
       "      <td>12.179971</td>\n",
       "    </tr>\n",
       "    <tr>\n",
       "      <th>1999-11-02</th>\n",
       "      <td>26.430267</td>\n",
       "      <td>7.187653</td>\n",
       "      <td>10.3125</td>\n",
       "      <td>3.750</td>\n",
       "      <td>1.071191</td>\n",
       "      <td>16.888933</td>\n",
       "      <td>10.28125</td>\n",
       "      <td>22.780302</td>\n",
       "      <td>17.523146</td>\n",
       "      <td>6.068317</td>\n",
       "      <td>...</td>\n",
       "      <td>25.388889</td>\n",
       "      <td>45.481014</td>\n",
       "      <td>8.853581</td>\n",
       "      <td>57.188522</td>\n",
       "      <td>28.801279</td>\n",
       "      <td>4.733161</td>\n",
       "      <td>42.820000</td>\n",
       "      <td>1.891793</td>\n",
       "      <td>1.385417</td>\n",
       "      <td>12.134530</td>\n",
       "    </tr>\n",
       "    <tr>\n",
       "      <th>1999-11-03</th>\n",
       "      <td>26.325787</td>\n",
       "      <td>6.963037</td>\n",
       "      <td>10.2500</td>\n",
       "      <td>3.875</td>\n",
       "      <td>1.089984</td>\n",
       "      <td>17.075039</td>\n",
       "      <td>10.65625</td>\n",
       "      <td>22.209560</td>\n",
       "      <td>17.604273</td>\n",
       "      <td>6.150932</td>\n",
       "      <td>...</td>\n",
       "      <td>24.944445</td>\n",
       "      <td>44.920109</td>\n",
       "      <td>8.727110</td>\n",
       "      <td>57.324043</td>\n",
       "      <td>30.417568</td>\n",
       "      <td>4.651680</td>\n",
       "      <td>43.060001</td>\n",
       "      <td>1.755583</td>\n",
       "      <td>1.539352</td>\n",
       "      <td>11.725501</td>\n",
       "    </tr>\n",
       "  </tbody>\n",
       "</table>\n",
       "<p>3 rows × 590 columns</p>\n",
       "</div>"
      ],
      "text/plain": [
       "                  MMM       ABT     ABMD   ACHC      ATVI       ADBE  \\\n",
       "1999-11-01  26.186508  7.625059  10.2500  3.750  1.057096  17.013006   \n",
       "1999-11-02  26.430267  7.187653  10.3125  3.750  1.071191  16.888933   \n",
       "1999-11-03  26.325787  6.963037  10.2500  3.875  1.089984  17.075039   \n",
       "\n",
       "                 AMD        AES        AMG       AFL  ...       ZBRA  \\\n",
       "1999-11-01  10.15625  22.383265  17.685398  5.895580  ...  26.222221   \n",
       "1999-11-02  10.28125  22.780302  17.523146  6.068317  ...  25.388889   \n",
       "1999-11-03  10.65625  22.209560  17.604273  6.150932  ...  24.944445   \n",
       "\n",
       "                 ZION       XEL        XRX       XLNX       YUM      BRK-B  \\\n",
       "1999-11-01  44.172218  8.828288  59.627827  28.284966  4.807233  41.740002   \n",
       "1999-11-02  45.481014  8.853581  57.188522  28.801279  4.733161  42.820000   \n",
       "1999-11-03  44.920109  8.727110  57.324043  30.417568  4.651680  43.060001   \n",
       "\n",
       "               HEI-A     LGF-A       JW-A  \n",
       "1999-11-01  1.899360  1.423901  12.179971  \n",
       "1999-11-02  1.891793  1.385417  12.134530  \n",
       "1999-11-03  1.755583  1.539352  11.725501  \n",
       "\n",
       "[3 rows x 590 columns]"
      ]
     },
     "execution_count": 19,
     "metadata": {},
     "output_type": "execute_result"
    }
   ],
   "source": [
    "daily_price_df = pd.DataFrame.from_dict(daily_price_dict)\n",
    "del daily_price_df.index.name\n",
    "\n",
    "daily_price_df.head(3)"
   ]
  },
  {
   "cell_type": "markdown",
   "metadata": {},
   "source": [
    "__2. Checking the dtypes of__ `daily_price_df`\n",
    "- Need to check the datatypes of data included in dataframe because some of the numbers may not be numbers(floats, ints, etc) but actually strings.\n",
    "- If some strings are mixed with numbers in the dataframe, some computations such as `.cov()` cannot be performed."
   ]
  },
  {
   "cell_type": "code",
   "execution_count": 20,
   "metadata": {},
   "outputs": [
    {
     "data": {
      "text/plain": [
       "float64    590\n",
       "dtype: int64"
      ]
     },
     "execution_count": 20,
     "metadata": {},
     "output_type": "execute_result"
    }
   ],
   "source": [
    "daily_price_df.dtypes.value_counts()"
   ]
  },
  {
   "cell_type": "markdown",
   "metadata": {},
   "source": [
    "- The datatype `object` in pandas means string, while `float64` means float numbere.\n",
    "- Source : <a href=\"https://pbpython.com/pandas_dtypes.html\">_Overview of Pandas Data Types_</a>"
   ]
  },
  {
   "cell_type": "code",
   "execution_count": 22,
   "metadata": {},
   "outputs": [],
   "source": [
    "# # Saving\n",
    "# with open('data/russel1000_daily_price_df.pickle', 'wb') as f: # \n",
    "#     pickle.dump(daily_price_df, f, pickle.HIGHEST_PROTOCOL)"
   ]
  },
  {
   "cell_type": "code",
   "execution_count": 23,
   "metadata": {},
   "outputs": [],
   "source": [
    "# Loading\n",
    "with open('data/russel1000_daily_price_df.pickle', 'rb') as f:\n",
    "    daily_price_df = pickle.load(f)"
   ]
  },
  {
   "cell_type": "markdown",
   "metadata": {},
   "source": [
    "---"
   ]
  },
  {
   "cell_type": "markdown",
   "metadata": {},
   "source": [
    "## Step 04. Grouping daily_return by a year"
   ]
  },
  {
   "cell_type": "markdown",
   "metadata": {},
   "source": [
    "__1. Creating a dataframe of return : `daily_return_df`__"
   ]
  },
  {
   "cell_type": "code",
   "execution_count": 24,
   "metadata": {},
   "outputs": [
    {
     "data": {
      "text/html": [
       "<div>\n",
       "<style scoped>\n",
       "    .dataframe tbody tr th:only-of-type {\n",
       "        vertical-align: middle;\n",
       "    }\n",
       "\n",
       "    .dataframe tbody tr th {\n",
       "        vertical-align: top;\n",
       "    }\n",
       "\n",
       "    .dataframe thead th {\n",
       "        text-align: right;\n",
       "    }\n",
       "</style>\n",
       "<table border=\"1\" class=\"dataframe\">\n",
       "  <thead>\n",
       "    <tr style=\"text-align: right;\">\n",
       "      <th></th>\n",
       "      <th>MMM</th>\n",
       "      <th>ABT</th>\n",
       "      <th>ABMD</th>\n",
       "      <th>ACHC</th>\n",
       "      <th>ATVI</th>\n",
       "      <th>ADBE</th>\n",
       "      <th>AMD</th>\n",
       "      <th>AES</th>\n",
       "      <th>AMG</th>\n",
       "      <th>AFL</th>\n",
       "      <th>...</th>\n",
       "      <th>ZBRA</th>\n",
       "      <th>ZION</th>\n",
       "      <th>XEL</th>\n",
       "      <th>XRX</th>\n",
       "      <th>XLNX</th>\n",
       "      <th>YUM</th>\n",
       "      <th>BRK-B</th>\n",
       "      <th>HEI-A</th>\n",
       "      <th>LGF-A</th>\n",
       "      <th>JW-A</th>\n",
       "    </tr>\n",
       "  </thead>\n",
       "  <tbody>\n",
       "    <tr>\n",
       "      <th>1999-11-02</th>\n",
       "      <td>0.009309</td>\n",
       "      <td>-0.057364</td>\n",
       "      <td>0.006098</td>\n",
       "      <td>0.000000</td>\n",
       "      <td>0.013333</td>\n",
       "      <td>-0.007293</td>\n",
       "      <td>0.012308</td>\n",
       "      <td>0.017738</td>\n",
       "      <td>-0.009174</td>\n",
       "      <td>0.029299</td>\n",
       "      <td>...</td>\n",
       "      <td>-0.031780</td>\n",
       "      <td>0.029629</td>\n",
       "      <td>0.002865</td>\n",
       "      <td>-0.040909</td>\n",
       "      <td>0.018254</td>\n",
       "      <td>-0.015408</td>\n",
       "      <td>0.025874</td>\n",
       "      <td>-0.003984</td>\n",
       "      <td>-0.027027</td>\n",
       "      <td>-0.003731</td>\n",
       "    </tr>\n",
       "    <tr>\n",
       "      <th>1999-11-03</th>\n",
       "      <td>-0.003953</td>\n",
       "      <td>-0.031250</td>\n",
       "      <td>-0.006061</td>\n",
       "      <td>0.033333</td>\n",
       "      <td>0.017544</td>\n",
       "      <td>0.011019</td>\n",
       "      <td>0.036474</td>\n",
       "      <td>-0.025054</td>\n",
       "      <td>0.004630</td>\n",
       "      <td>0.013614</td>\n",
       "      <td>...</td>\n",
       "      <td>-0.017505</td>\n",
       "      <td>-0.012333</td>\n",
       "      <td>-0.014285</td>\n",
       "      <td>0.002370</td>\n",
       "      <td>0.056119</td>\n",
       "      <td>-0.017215</td>\n",
       "      <td>0.005605</td>\n",
       "      <td>-0.072000</td>\n",
       "      <td>0.111111</td>\n",
       "      <td>-0.033708</td>\n",
       "    </tr>\n",
       "    <tr>\n",
       "      <th>1999-11-04</th>\n",
       "      <td>0.002646</td>\n",
       "      <td>0.028863</td>\n",
       "      <td>0.021341</td>\n",
       "      <td>0.000000</td>\n",
       "      <td>0.008621</td>\n",
       "      <td>0.000908</td>\n",
       "      <td>-0.032258</td>\n",
       "      <td>-0.003352</td>\n",
       "      <td>0.006913</td>\n",
       "      <td>0.018315</td>\n",
       "      <td>...</td>\n",
       "      <td>-0.020045</td>\n",
       "      <td>0.009365</td>\n",
       "      <td>0.002898</td>\n",
       "      <td>0.011820</td>\n",
       "      <td>0.012546</td>\n",
       "      <td>0.000000</td>\n",
       "      <td>0.004645</td>\n",
       "      <td>0.000000</td>\n",
       "      <td>0.250000</td>\n",
       "      <td>0.019380</td>\n",
       "    </tr>\n",
       "  </tbody>\n",
       "</table>\n",
       "<p>3 rows × 590 columns</p>\n",
       "</div>"
      ],
      "text/plain": [
       "                 MMM       ABT      ABMD      ACHC      ATVI      ADBE  \\\n",
       "1999-11-02  0.009309 -0.057364  0.006098  0.000000  0.013333 -0.007293   \n",
       "1999-11-03 -0.003953 -0.031250 -0.006061  0.033333  0.017544  0.011019   \n",
       "1999-11-04  0.002646  0.028863  0.021341  0.000000  0.008621  0.000908   \n",
       "\n",
       "                 AMD       AES       AMG       AFL  ...      ZBRA      ZION  \\\n",
       "1999-11-02  0.012308  0.017738 -0.009174  0.029299  ... -0.031780  0.029629   \n",
       "1999-11-03  0.036474 -0.025054  0.004630  0.013614  ... -0.017505 -0.012333   \n",
       "1999-11-04 -0.032258 -0.003352  0.006913  0.018315  ... -0.020045  0.009365   \n",
       "\n",
       "                 XEL       XRX      XLNX       YUM     BRK-B     HEI-A  \\\n",
       "1999-11-02  0.002865 -0.040909  0.018254 -0.015408  0.025874 -0.003984   \n",
       "1999-11-03 -0.014285  0.002370  0.056119 -0.017215  0.005605 -0.072000   \n",
       "1999-11-04  0.002898  0.011820  0.012546  0.000000  0.004645  0.000000   \n",
       "\n",
       "               LGF-A      JW-A  \n",
       "1999-11-02 -0.027027 -0.003731  \n",
       "1999-11-03  0.111111 -0.033708  \n",
       "1999-11-04  0.250000  0.019380  \n",
       "\n",
       "[3 rows x 590 columns]"
      ]
     },
     "execution_count": 24,
     "metadata": {},
     "output_type": "execute_result"
    }
   ],
   "source": [
    "daily_return_df = daily_price_df.pct_change()\n",
    "daily_return_df = daily_return_df.dropna(axis=0)\n",
    "daily_return_df.head(3)"
   ]
  },
  {
   "cell_type": "code",
   "execution_count": 25,
   "metadata": {},
   "outputs": [
    {
     "data": {
      "text/html": [
       "<div>\n",
       "<style scoped>\n",
       "    .dataframe tbody tr th:only-of-type {\n",
       "        vertical-align: middle;\n",
       "    }\n",
       "\n",
       "    .dataframe tbody tr th {\n",
       "        vertical-align: top;\n",
       "    }\n",
       "\n",
       "    .dataframe thead th {\n",
       "        text-align: right;\n",
       "    }\n",
       "</style>\n",
       "<table border=\"1\" class=\"dataframe\">\n",
       "  <thead>\n",
       "    <tr style=\"text-align: right;\">\n",
       "      <th></th>\n",
       "      <th>MMM</th>\n",
       "      <th>ABT</th>\n",
       "      <th>ABMD</th>\n",
       "      <th>ACHC</th>\n",
       "      <th>ATVI</th>\n",
       "      <th>ADBE</th>\n",
       "      <th>AMD</th>\n",
       "      <th>AES</th>\n",
       "      <th>AMG</th>\n",
       "      <th>AFL</th>\n",
       "      <th>...</th>\n",
       "      <th>ZBRA</th>\n",
       "      <th>ZION</th>\n",
       "      <th>XEL</th>\n",
       "      <th>XRX</th>\n",
       "      <th>XLNX</th>\n",
       "      <th>YUM</th>\n",
       "      <th>BRK-B</th>\n",
       "      <th>HEI-A</th>\n",
       "      <th>LGF-A</th>\n",
       "      <th>JW-A</th>\n",
       "    </tr>\n",
       "  </thead>\n",
       "  <tbody>\n",
       "    <tr>\n",
       "      <th>2019-11-26</th>\n",
       "      <td>-0.005933</td>\n",
       "      <td>0.011007</td>\n",
       "      <td>0.035667</td>\n",
       "      <td>-0.017078</td>\n",
       "      <td>0.008189</td>\n",
       "      <td>0.008582</td>\n",
       "      <td>-0.020106</td>\n",
       "      <td>-0.001597</td>\n",
       "      <td>-0.010399</td>\n",
       "      <td>0.007919</td>\n",
       "      <td>...</td>\n",
       "      <td>-0.004981</td>\n",
       "      <td>-0.010165</td>\n",
       "      <td>0.006250</td>\n",
       "      <td>-0.011868</td>\n",
       "      <td>-0.006317</td>\n",
       "      <td>0.017753</td>\n",
       "      <td>-0.000730</td>\n",
       "      <td>0.004159</td>\n",
       "      <td>0.025082</td>\n",
       "      <td>0.010036</td>\n",
       "    </tr>\n",
       "    <tr>\n",
       "      <th>2019-11-27</th>\n",
       "      <td>0.008155</td>\n",
       "      <td>0.000000</td>\n",
       "      <td>0.013024</td>\n",
       "      <td>0.011480</td>\n",
       "      <td>0.005723</td>\n",
       "      <td>0.003767</td>\n",
       "      <td>0.010772</td>\n",
       "      <td>0.007467</td>\n",
       "      <td>0.003503</td>\n",
       "      <td>0.001644</td>\n",
       "      <td>...</td>\n",
       "      <td>0.030319</td>\n",
       "      <td>0.008256</td>\n",
       "      <td>0.006211</td>\n",
       "      <td>0.013055</td>\n",
       "      <td>0.023126</td>\n",
       "      <td>0.008922</td>\n",
       "      <td>0.007309</td>\n",
       "      <td>0.007374</td>\n",
       "      <td>0.018085</td>\n",
       "      <td>0.009725</td>\n",
       "    </tr>\n",
       "    <tr>\n",
       "      <th>2019-11-29</th>\n",
       "      <td>-0.004923</td>\n",
       "      <td>0.000351</td>\n",
       "      <td>-0.003100</td>\n",
       "      <td>-0.013497</td>\n",
       "      <td>0.006424</td>\n",
       "      <td>0.001521</td>\n",
       "      <td>-0.006597</td>\n",
       "      <td>0.001059</td>\n",
       "      <td>-0.006748</td>\n",
       "      <td>0.000365</td>\n",
       "      <td>...</td>\n",
       "      <td>-0.016731</td>\n",
       "      <td>-0.005792</td>\n",
       "      <td>-0.001137</td>\n",
       "      <td>0.003350</td>\n",
       "      <td>-0.006106</td>\n",
       "      <td>0.000298</td>\n",
       "      <td>-0.000907</td>\n",
       "      <td>0.007119</td>\n",
       "      <td>-0.022988</td>\n",
       "      <td>-0.010469</td>\n",
       "    </tr>\n",
       "  </tbody>\n",
       "</table>\n",
       "<p>3 rows × 590 columns</p>\n",
       "</div>"
      ],
      "text/plain": [
       "                 MMM       ABT      ABMD      ACHC      ATVI      ADBE  \\\n",
       "2019-11-26 -0.005933  0.011007  0.035667 -0.017078  0.008189  0.008582   \n",
       "2019-11-27  0.008155  0.000000  0.013024  0.011480  0.005723  0.003767   \n",
       "2019-11-29 -0.004923  0.000351 -0.003100 -0.013497  0.006424  0.001521   \n",
       "\n",
       "                 AMD       AES       AMG       AFL  ...      ZBRA      ZION  \\\n",
       "2019-11-26 -0.020106 -0.001597 -0.010399  0.007919  ... -0.004981 -0.010165   \n",
       "2019-11-27  0.010772  0.007467  0.003503  0.001644  ...  0.030319  0.008256   \n",
       "2019-11-29 -0.006597  0.001059 -0.006748  0.000365  ... -0.016731 -0.005792   \n",
       "\n",
       "                 XEL       XRX      XLNX       YUM     BRK-B     HEI-A  \\\n",
       "2019-11-26  0.006250 -0.011868 -0.006317  0.017753 -0.000730  0.004159   \n",
       "2019-11-27  0.006211  0.013055  0.023126  0.008922  0.007309  0.007374   \n",
       "2019-11-29 -0.001137  0.003350 -0.006106  0.000298 -0.000907  0.007119   \n",
       "\n",
       "               LGF-A      JW-A  \n",
       "2019-11-26  0.025082  0.010036  \n",
       "2019-11-27  0.018085  0.009725  \n",
       "2019-11-29 -0.022988 -0.010469  \n",
       "\n",
       "[3 rows x 590 columns]"
      ]
     },
     "execution_count": 25,
     "metadata": {},
     "output_type": "execute_result"
    }
   ],
   "source": [
    "daily_return_df.tail(3)"
   ]
  },
  {
   "cell_type": "markdown",
   "metadata": {},
   "source": [
    "__2. Grouping price data by a year__ : `grouped_daily_price_df_list`"
   ]
  },
  {
   "cell_type": "code",
   "execution_count": 26,
   "metadata": {},
   "outputs": [],
   "source": [
    "# past 252 days' daily returns are considered to calculate the covariance\n",
    "seq_length = 252\n",
    "\n",
    "# portfolio rebalnacing period is 60 days\n",
    "rebalancing_period = 60\n",
    "    \n",
    "# sliced dataframes are stored in the list below temporarily\n",
    "sliced_daily_return_df_list = []\n",
    "\n",
    "# for validation\n",
    "for i in range(0, (daily_return_df.shape[0]-(seq_length)+1), rebalancing_period):  # i gets bigger by 20 : 0, 20, 40,...\n",
    "    sliced_daily_return_df = (daily_return_df.iloc[(i):(i+seq_length),:])\n",
    "    sliced_daily_return_df_list.append(sliced_daily_return_df) # this is used for portfolio optimization, so can stay as pd.DataFrame"
   ]
  },
  {
   "cell_type": "code",
   "execution_count": 27,
   "metadata": {},
   "outputs": [
    {
     "data": {
      "text/plain": [
       "81"
      ]
     },
     "execution_count": 27,
     "metadata": {},
     "output_type": "execute_result"
    }
   ],
   "source": [
    "len(sliced_daily_return_df_list)"
   ]
  },
  {
   "cell_type": "code",
   "execution_count": 28,
   "metadata": {},
   "outputs": [],
   "source": [
    "validation_daily_price_df_list = []\n",
    "test_daily_price_df_list = []\n",
    "\n",
    "# for validation\n",
    "for i in range(len(sliced_daily_return_df_list)):\n",
    "    if i <= (47-1):\n",
    "        validation_daily_price_df_list.append(sliced_daily_return_df_list[i])\n",
    "    elif i >= (47+4-1) : \n",
    "        test_daily_price_df_list.append(sliced_daily_return_df_list[i])"
   ]
  },
  {
   "cell_type": "code",
   "execution_count": 29,
   "metadata": {},
   "outputs": [
    {
     "name": "stdout",
     "output_type": "stream",
     "text": [
      "len(validation_daily_price_df_list) : 47\n",
      "len(test_daily_price_df_list) : 31\n"
     ]
    }
   ],
   "source": [
    "print(f\"len(validation_daily_price_df_list) : {len(validation_daily_price_df_list)}\")\n",
    "print(f\"len(test_daily_price_df_list) : {len(test_daily_price_df_list)}\")"
   ]
  },
  {
   "cell_type": "code",
   "execution_count": 32,
   "metadata": {},
   "outputs": [],
   "source": [
    "# # Saving - validation data\n",
    "# with open('./data/russel1000_daily_return_df_validation.pickle', 'wb') as f: \n",
    "#     pickle.dump(validation_daily_price_df_list, f, pickle.HIGHEST_PROTOCOL)"
   ]
  },
  {
   "cell_type": "code",
   "execution_count": 34,
   "metadata": {},
   "outputs": [],
   "source": [
    "# # Saving - test data\n",
    "# with open('./data/russel1000_daily_return_df_test.pickle', 'wb') as f: \n",
    "#     pickle.dump(test_daily_price_df_list, f, pickle.HIGHEST_PROTOCOL)"
   ]
  },
  {
   "cell_type": "markdown",
   "metadata": {},
   "source": [
    "---"
   ]
  },
  {
   "cell_type": "markdown",
   "metadata": {},
   "source": [
    "## Step 05. Downloading industry information"
   ]
  },
  {
   "cell_type": "code",
   "execution_count": 35,
   "metadata": {},
   "outputs": [],
   "source": [
    "sector_dict = {}\n",
    "\n",
    "sector_dict['Industrials'] = []\n",
    "sector_dict['Healthcare'] = []\n",
    "sector_dict['Communication Services'] = []\n",
    "sector_dict['Technology'] = []\n",
    "sector_dict['Utilities'] = []\n",
    "sector_dict['Financial Services'] = []\n",
    "sector_dict['Basic Materials'] = []\n",
    "sector_dict['Real Estate'] = []\n",
    "sector_dict['Consumer Defensive'] = []\n",
    "sector_dict['Consumer Cyclical'] = []\n",
    "sector_dict['Energy'] = []"
   ]
  },
  {
   "cell_type": "code",
   "execution_count": 36,
   "metadata": {},
   "outputs": [
    {
     "data": {
      "application/vnd.jupyter.widget-view+json": {
       "model_id": "bcceb69c82e645898b604fff0108226e",
       "version_major": 2,
       "version_minor": 0
      },
      "text/plain": [
       "HBox(children=(FloatProgress(value=0.0, max=590.0), HTML(value='')))"
      ]
     },
     "metadata": {},
     "output_type": "display_data"
    },
    {
     "name": "stdout",
     "output_type": "stream",
     "text": [
      "following ticker made an issue : BBT\n",
      "following ticker made an issue : CHK\n",
      "following ticker made an issue : GD\n",
      "following ticker made an issue : JEC\n",
      "following ticker made an issue : STI\n",
      "\n"
     ]
    }
   ],
   "source": [
    "for ticker in tqdm(filtered_tickers):\n",
    "    try: \n",
    "        ticker_sector = Equity(ticker).sector\n",
    "        sector_dict[ticker_sector].append(ticker)\n",
    "    except:\n",
    "        print(f\"following ticker made an issue : {ticker}\")"
   ]
  },
  {
   "cell_type": "code",
   "execution_count": 37,
   "metadata": {},
   "outputs": [],
   "source": [
    "sector_dict[\"Financial Services\"].append('BBT')\n",
    "sector_dict[\"Energy\"].append('CHK')\n",
    "sector_dict[\"Industrials\"].append('GD')\n",
    "sector_dict[\"Industrials\"].append('JEC')\n",
    "sector_dict[\"Financial Services\"].append('STI')"
   ]
  },
  {
   "cell_type": "code",
   "execution_count": 38,
   "metadata": {},
   "outputs": [
    {
     "name": "stdout",
     "output_type": "stream",
     "text": [
      "Industrials : 93\n",
      "Healthcare : 68\n",
      "Communication Services : 18\n",
      "Technology : 67\n",
      "Utilities : 31\n",
      "Financial Services : 92\n",
      "Basic Materials : 30\n",
      "Real Estate : 49\n",
      "Consumer Defensive : 37\n",
      "Consumer Cyclical : 73\n",
      "Energy : 32\n",
      "\n",
      "Total number of tickers : 590\n"
     ]
    }
   ],
   "source": [
    "industry_sum = 0\n",
    "\n",
    "for industry in sector_dict.keys():\n",
    "    print(f\"{industry} : {len(sector_dict[industry])}\")\n",
    "    industry_sum+= int(len(sector_dict[industry]))\n",
    "\n",
    "print()\n",
    "print(f\"Total number of tickers : {industry_sum}\")"
   ]
  },
  {
   "cell_type": "code",
   "execution_count": 39,
   "metadata": {},
   "outputs": [],
   "source": [
    "# Saving\n",
    "with open('./data/russel1000_sector_dict.pickle', 'wb') as f: # \n",
    "    pickle.dump(sector_dict, f, pickle.HIGHEST_PROTOCOL)"
   ]
  }
 ],
 "metadata": {
  "kernelspec": {
   "display_name": "Python 3",
   "language": "python",
   "name": "python3"
  },
  "language_info": {
   "codemirror_mode": {
    "name": "ipython",
    "version": 3
   },
   "file_extension": ".py",
   "mimetype": "text/x-python",
   "name": "python",
   "nbconvert_exporter": "python",
   "pygments_lexer": "ipython3",
   "version": "3.7.7"
  },
  "toc-showcode": false,
  "toc-showmarkdowntxt": false
 },
 "nbformat": 4,
 "nbformat_minor": 4
}
