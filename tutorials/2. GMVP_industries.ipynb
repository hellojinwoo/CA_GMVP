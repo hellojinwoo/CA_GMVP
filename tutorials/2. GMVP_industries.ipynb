{
 "cells": [
  {
   "cell_type": "markdown",
   "metadata": {},
   "source": [
    "# Chapter 02. GMVP on industry sectors\n",
    "\n",
    "- In this chpater, we are going to apply a global minimum variance portfolio(GMVP) on industry sectors.\n",
    "- Rather than applying GMVP on individual stocks, this method performs portfolio optimization 2 times : firstly inside clusters and secondly between clusters.\n",
    "- More details can be found in the academic paper <a href=\"https://lup.lub.lu.se/student-papers/search/publication/8931835\"> __An alternative approach for solving the problem of close to singular covariance matrices in modern portfolio theory__ </a>.\n",
    "- The portfolio performance of it will be used as a second benchmark for comparison\n",
    "\n",
    "__Contents__\n",
    "\n",
    "- [__Step 01. Loading stock data__](#Step-01.-Loading-stock-data)\n",
    "- [__Step 02. Validation period performance__](#Step-02.-Validation-period-performance)\n",
    "- [__Step 03. Test period performance__](#Step-03.-Test-period-performance)"
   ]
  },
  {
   "cell_type": "markdown",
   "metadata": {},
   "source": [
    "---"
   ]
  },
  {
   "cell_type": "markdown",
   "metadata": {
    "toc-hr-collapsed": true
   },
   "source": [
    "## Step 01. Loading stock data"
   ]
  },
  {
   "cell_type": "markdown",
   "metadata": {},
   "source": [
    "__1. Importing required libraries__"
   ]
  },
  {
   "cell_type": "code",
   "execution_count": 2,
   "metadata": {},
   "outputs": [],
   "source": [
    "# for importing libraries again that is already imported, just in case that any change is made in libraries\n",
    "%load_ext autoreload\n",
    "%autoreload 2\n",
    "\n",
    "# libraries for general work\n",
    "import pickle\n",
    "import numpy as np\n",
    "import pandas as pd\n",
    "from tqdm import tqdm_notebook as tqdm\n",
    "\n",
    "# for computing portfolio performance\n",
    "from portfolio_performance_function import *\n",
    "\n",
    "# Disable printing all warnings on python \n",
    "import warnings\n",
    "warnings.filterwarnings(\"ignore\")\n",
    "\n",
    "# libraries related with plotting\n",
    "import seaborn as sns\n",
    "import matplotlib.pyplot as plt"
   ]
  },
  {
   "cell_type": "markdown",
   "metadata": {},
   "source": [
    "__2. Loading daily price of all stocks for indexing dates : `daily_price_df`__"
   ]
  },
  {
   "cell_type": "code",
   "execution_count": 3,
   "metadata": {},
   "outputs": [
    {
     "data": {
      "text/html": [
       "<div>\n",
       "<style scoped>\n",
       "    .dataframe tbody tr th:only-of-type {\n",
       "        vertical-align: middle;\n",
       "    }\n",
       "\n",
       "    .dataframe tbody tr th {\n",
       "        vertical-align: top;\n",
       "    }\n",
       "\n",
       "    .dataframe thead th {\n",
       "        text-align: right;\n",
       "    }\n",
       "</style>\n",
       "<table border=\"1\" class=\"dataframe\">\n",
       "  <thead>\n",
       "    <tr style=\"text-align: right;\">\n",
       "      <th></th>\n",
       "      <th>MMM</th>\n",
       "      <th>ABT</th>\n",
       "      <th>ABMD</th>\n",
       "      <th>ACHC</th>\n",
       "      <th>ATVI</th>\n",
       "      <th>ADBE</th>\n",
       "      <th>AMD</th>\n",
       "      <th>AES</th>\n",
       "      <th>AMG</th>\n",
       "      <th>AFL</th>\n",
       "      <th>...</th>\n",
       "      <th>ZBRA</th>\n",
       "      <th>ZION</th>\n",
       "      <th>XEL</th>\n",
       "      <th>XRX</th>\n",
       "      <th>XLNX</th>\n",
       "      <th>YUM</th>\n",
       "      <th>BRK-B</th>\n",
       "      <th>HEI-A</th>\n",
       "      <th>LGF-A</th>\n",
       "      <th>JW-A</th>\n",
       "    </tr>\n",
       "  </thead>\n",
       "  <tbody>\n",
       "    <tr>\n",
       "      <th>1999-11-01</th>\n",
       "      <td>26.186508</td>\n",
       "      <td>7.625059</td>\n",
       "      <td>10.2500</td>\n",
       "      <td>3.750</td>\n",
       "      <td>1.057096</td>\n",
       "      <td>17.013006</td>\n",
       "      <td>10.15625</td>\n",
       "      <td>22.383265</td>\n",
       "      <td>17.685398</td>\n",
       "      <td>5.895580</td>\n",
       "      <td>...</td>\n",
       "      <td>26.222221</td>\n",
       "      <td>44.172218</td>\n",
       "      <td>8.828288</td>\n",
       "      <td>59.627827</td>\n",
       "      <td>28.284966</td>\n",
       "      <td>4.807233</td>\n",
       "      <td>41.740002</td>\n",
       "      <td>1.899360</td>\n",
       "      <td>1.423901</td>\n",
       "      <td>12.179971</td>\n",
       "    </tr>\n",
       "    <tr>\n",
       "      <th>1999-11-02</th>\n",
       "      <td>26.430267</td>\n",
       "      <td>7.187653</td>\n",
       "      <td>10.3125</td>\n",
       "      <td>3.750</td>\n",
       "      <td>1.071191</td>\n",
       "      <td>16.888933</td>\n",
       "      <td>10.28125</td>\n",
       "      <td>22.780302</td>\n",
       "      <td>17.523146</td>\n",
       "      <td>6.068317</td>\n",
       "      <td>...</td>\n",
       "      <td>25.388889</td>\n",
       "      <td>45.481014</td>\n",
       "      <td>8.853581</td>\n",
       "      <td>57.188522</td>\n",
       "      <td>28.801279</td>\n",
       "      <td>4.733161</td>\n",
       "      <td>42.820000</td>\n",
       "      <td>1.891793</td>\n",
       "      <td>1.385417</td>\n",
       "      <td>12.134530</td>\n",
       "    </tr>\n",
       "    <tr>\n",
       "      <th>1999-11-03</th>\n",
       "      <td>26.325787</td>\n",
       "      <td>6.963037</td>\n",
       "      <td>10.2500</td>\n",
       "      <td>3.875</td>\n",
       "      <td>1.089984</td>\n",
       "      <td>17.075039</td>\n",
       "      <td>10.65625</td>\n",
       "      <td>22.209560</td>\n",
       "      <td>17.604273</td>\n",
       "      <td>6.150932</td>\n",
       "      <td>...</td>\n",
       "      <td>24.944445</td>\n",
       "      <td>44.920109</td>\n",
       "      <td>8.727110</td>\n",
       "      <td>57.324043</td>\n",
       "      <td>30.417568</td>\n",
       "      <td>4.651680</td>\n",
       "      <td>43.060001</td>\n",
       "      <td>1.755583</td>\n",
       "      <td>1.539352</td>\n",
       "      <td>11.725501</td>\n",
       "    </tr>\n",
       "  </tbody>\n",
       "</table>\n",
       "<p>3 rows × 590 columns</p>\n",
       "</div>"
      ],
      "text/plain": [
       "                  MMM       ABT     ABMD   ACHC      ATVI       ADBE  \\\n",
       "1999-11-01  26.186508  7.625059  10.2500  3.750  1.057096  17.013006   \n",
       "1999-11-02  26.430267  7.187653  10.3125  3.750  1.071191  16.888933   \n",
       "1999-11-03  26.325787  6.963037  10.2500  3.875  1.089984  17.075039   \n",
       "\n",
       "                 AMD        AES        AMG       AFL  ...       ZBRA  \\\n",
       "1999-11-01  10.15625  22.383265  17.685398  5.895580  ...  26.222221   \n",
       "1999-11-02  10.28125  22.780302  17.523146  6.068317  ...  25.388889   \n",
       "1999-11-03  10.65625  22.209560  17.604273  6.150932  ...  24.944445   \n",
       "\n",
       "                 ZION       XEL        XRX       XLNX       YUM      BRK-B  \\\n",
       "1999-11-01  44.172218  8.828288  59.627827  28.284966  4.807233  41.740002   \n",
       "1999-11-02  45.481014  8.853581  57.188522  28.801279  4.733161  42.820000   \n",
       "1999-11-03  44.920109  8.727110  57.324043  30.417568  4.651680  43.060001   \n",
       "\n",
       "               HEI-A     LGF-A       JW-A  \n",
       "1999-11-01  1.899360  1.423901  12.179971  \n",
       "1999-11-02  1.891793  1.385417  12.134530  \n",
       "1999-11-03  1.755583  1.539352  11.725501  \n",
       "\n",
       "[3 rows x 590 columns]"
      ]
     },
     "execution_count": 3,
     "metadata": {},
     "output_type": "execute_result"
    }
   ],
   "source": [
    "# Loading\n",
    "with open('./data/russel1000_daily_price_df.pickle', 'rb') as f:\n",
    "    daily_price_df = pickle.load(f)\n",
    "del daily_price_df.index.name\n",
    "\n",
    "daily_price_df.head(3)"
   ]
  },
  {
   "cell_type": "markdown",
   "metadata": {},
   "source": [
    "__3. Creating a list of all tickers : `all_tickers_list`__"
   ]
  },
  {
   "cell_type": "code",
   "execution_count": 4,
   "metadata": {},
   "outputs": [],
   "source": [
    "all_tickers_list = list(daily_price_df.columns)"
   ]
  },
  {
   "cell_type": "markdown",
   "metadata": {},
   "source": [
    "__4. Loading a grouped daily return data for validation : `daily_return_df_list_validation`__"
   ]
  },
  {
   "cell_type": "code",
   "execution_count": 5,
   "metadata": {},
   "outputs": [
    {
     "name": "stdout",
     "output_type": "stream",
     "text": [
      "Total number of portfolio rebalancing  : 47\n",
      "shape of dataframe : (252, 590)\n"
     ]
    }
   ],
   "source": [
    "# Loading\n",
    "with open('./data/russel1000_daily_return_df_validation.pickle', 'rb') as f:\n",
    "    daily_return_df_list_validation = pickle.load(f)\n",
    "    \n",
    "print(f\"Total number of portfolio rebalancing  : {len(daily_return_df_list_validation)}\" )\n",
    "print(f\"shape of dataframe : {daily_return_df_list_validation[0].shape}\" )"
   ]
  },
  {
   "cell_type": "code",
   "execution_count": 6,
   "metadata": {},
   "outputs": [
    {
     "name": "stdout",
     "output_type": "stream",
     "text": [
      "---validation---\n",
      "first day date: 2000-10-31\n",
      "last day date: 2011-10-20\n"
     ]
    }
   ],
   "source": [
    "print(\"---validation---\")\n",
    "print(f\"first day date: {daily_return_df_list_validation[1].index[-60].date()}\")\n",
    "print(f\"last day date: {daily_return_df_list_validation[-1].index[-1].date()}\")"
   ]
  },
  {
   "cell_type": "code",
   "execution_count": 7,
   "metadata": {},
   "outputs": [
    {
     "data": {
      "text/plain": [
       "2760"
      ]
     },
     "execution_count": 7,
     "metadata": {},
     "output_type": "execute_result"
    }
   ],
   "source": [
    "# investment dates\n",
    "investment_dates_validation = daily_price_df.loc['2000-10-31':'2011-10-20',:].index\n",
    "len(investment_dates_validation)"
   ]
  },
  {
   "cell_type": "markdown",
   "metadata": {},
   "source": [
    "__5. Loading a grouped daily return data for test : `daily_return_df_list_test`__"
   ]
  },
  {
   "cell_type": "code",
   "execution_count": 8,
   "metadata": {},
   "outputs": [
    {
     "name": "stdout",
     "output_type": "stream",
     "text": [
      "Total number of portfolio rebalancing : 31\n",
      "shape of dataframe : (252, 590)\n"
     ]
    }
   ],
   "source": [
    "# Loading\n",
    "with open('./data/russel1000_daily_return_df_test.pickle', 'rb') as f:\n",
    "    daily_return_df_list_test = pickle.load(f)\n",
    "    \n",
    "print(f\"Total number of portfolio rebalancing : {len(daily_return_df_list_test)}\" )\n",
    "print(f\"shape of dataframe : {daily_return_df_list_test[0].shape}\" )"
   ]
  },
  {
   "cell_type": "code",
   "execution_count": 9,
   "metadata": {},
   "outputs": [
    {
     "name": "stdout",
     "output_type": "stream",
     "text": [
      "---test---\n",
      "first day date: 2012-10-04\n",
      "last day date: 2019-11-29\n"
     ]
    }
   ],
   "source": [
    "print(\"---test---\")\n",
    "print(f\"first day date: {daily_return_df_list_test[1].index[-60].date()}\")\n",
    "print(f\"last day date: {daily_return_df_list_test[-1].index[-1].date()}\")"
   ]
  },
  {
   "cell_type": "code",
   "execution_count": 10,
   "metadata": {},
   "outputs": [
    {
     "data": {
      "text/plain": [
       "1800"
      ]
     },
     "execution_count": 10,
     "metadata": {},
     "output_type": "execute_result"
    }
   ],
   "source": [
    "# investment dates\n",
    "investment_dates_test = daily_price_df.loc['2012-10-04':'2019-11-29',:].index\n",
    "len(investment_dates_test)"
   ]
  },
  {
   "cell_type": "markdown",
   "metadata": {},
   "source": [
    "__6. loading the dictinary file containing sector information of each company__"
   ]
  },
  {
   "cell_type": "code",
   "execution_count": 11,
   "metadata": {},
   "outputs": [],
   "source": [
    "# Loading\n",
    "with open('./data/russel1000_sector_dict.pickle', 'rb') as f:\n",
    "    sector_info_dict = pickle.load(f)"
   ]
  },
  {
   "cell_type": "code",
   "execution_count": 12,
   "metadata": {},
   "outputs": [
    {
     "data": {
      "text/plain": [
       "['Industrials',\n",
       " 'Healthcare',\n",
       " 'Communication Services',\n",
       " 'Technology',\n",
       " 'Utilities',\n",
       " 'Financial Services',\n",
       " 'Basic Materials',\n",
       " 'Real Estate',\n",
       " 'Consumer Defensive',\n",
       " 'Consumer Cyclical',\n",
       " 'Energy']"
      ]
     },
     "execution_count": 12,
     "metadata": {},
     "output_type": "execute_result"
    }
   ],
   "source": [
    "industry_list = list(sector_info_dict.keys())\n",
    "industry_list"
   ]
  },
  {
   "cell_type": "code",
   "execution_count": 34,
   "metadata": {},
   "outputs": [
    {
     "name": "stdout",
     "output_type": "stream",
     "text": [
      " Industrials : 93\n",
      " Healthcare : 68\n",
      " Communication Services : 18\n",
      " Technology : 67\n",
      " Utilities : 31\n",
      " Financial Services : 92\n",
      " Basic Materials : 30\n",
      " Real Estate : 49\n",
      " Consumer Defensive : 37\n",
      " Consumer Cyclical : 73\n",
      " Energy : 32\n"
     ]
    }
   ],
   "source": [
    "for industry in industry_list:\n",
    "    print(f\" {industry} : {len(sector_info_dict[industry])}\")"
   ]
  },
  {
   "cell_type": "markdown",
   "metadata": {},
   "source": [
    "---"
   ]
  },
  {
   "cell_type": "markdown",
   "metadata": {},
   "source": [
    "## Step 02. Creating functions for portfolio optimization"
   ]
  },
  {
   "cell_type": "markdown",
   "metadata": {},
   "source": [
    "- As the clustering approach to GMVP performs portfolio optimization twice, we are going to build two functions\n",
    "    1. __within cluster optimization__ : `GMVP_within_sector`\n",
    "    2. __between clusters optimization__: `GMVP_between_sectors`"
   ]
  },
  {
   "cell_type": "markdown",
   "metadata": {},
   "source": [
    "__1. `GMVP_within_sector` : This function is used inside another function, `GMVP_between_sectors`.__\n",
    "- __Input :__  \n",
    "    1. daily_return_df_list_validation\n",
    "- __Output :__  \n",
    "    1. daily_sector_returns    \n",
    "    2. within_sector_weights   "
   ]
  },
  {
   "cell_type": "code",
   "execution_count": 13,
   "metadata": {},
   "outputs": [],
   "source": [
    "def GMVP_within_sector(data_period, index, sector):\n",
    "    \n",
    "    if data_period == 'validation':\n",
    "        daily_return_df_list = daily_return_df_list_validation\n",
    "    elif data_period == 'test':\n",
    "        daily_return_df_list = daily_return_df_list_test\n",
    "    \n",
    "    # slice the data needed\n",
    "    sliced_data_df = daily_return_df_list[index].loc[:, sector_info_dict[sector]]\n",
    "    \n",
    "    # get the covariance matrix and inverse matrix of covariance matrix respectively\n",
    "    cov_mat = sliced_data_df.cov()\n",
    "    cov_mat_values = cov_mat.values\n",
    "    inv_cov_mat = np.linalg.pinv(cov_mat_values) # Use pseudo-inverse incase matrix is singular / ill-conditioned\n",
    "\n",
    "    # get the portfolio weights of GMVP\n",
    "    ones = np.ones(len(inv_cov_mat))\n",
    "    inv_dot_ones = np.dot(inv_cov_mat, ones)\n",
    "    within_sector_weights = inv_dot_ones/ np.dot(inv_dot_ones, ones)\n",
    "    \n",
    "    # using the portfolio weights, get the daily portfolio returns\n",
    "    daily_weighted_returns = (sliced_data_df * within_sector_weights)\n",
    "    daily_sector_returns = daily_weighted_returns.sum(axis=1)\n",
    "    \n",
    "    return daily_sector_returns, within_sector_weights"
   ]
  },
  {
   "cell_type": "markdown",
   "metadata": {},
   "source": [
    "__2. `GMVP_between_sectors`__\n",
    "- __Input :__  \n",
    "    1. daily_return_df_list\n",
    "- __Output :__  \n",
    "    1. daily_portfolio_returns   \n",
    "    2. in_sample_stdev  \n",
    "    3. out_of_sample_stdev  \n",
    "    4. individual_stock_weights  \n",
    "    5. sector_weights  \n",
    "    6. sector_returns_df_list"
   ]
  },
  {
   "cell_type": "code",
   "execution_count": 14,
   "metadata": {},
   "outputs": [],
   "source": [
    "def GMVP_between_sectors(data_period):\n",
    "    rebalancing_period = 60\n",
    "\n",
    "    # creating lists for storing outcomes\n",
    "    out_of_sample_daily_portfolio_returns_list = []\n",
    "    in_sample_stdev_list = []\n",
    "    out_of_sample_stdev_list = []\n",
    "    daily_sector_returns_list = []\n",
    "    portfolio_weights_list = []\n",
    "    between_sector_weights_list = []\n",
    "\n",
    "    if data_period == 'validation':\n",
    "        daily_return_df_list = daily_return_df_list_validation\n",
    "    elif data_period == 'test':\n",
    "        daily_return_df_list = daily_return_df_list_test\n",
    "\n",
    "    # ----------------------------------------------- #\n",
    "    # portfolio optimization for each daily_return_df #\n",
    "    # ----------------------------------------------- #\n",
    "    for index_no, daily_return_df in enumerate(tqdm(daily_return_df_list)):\n",
    "        \n",
    "        daily_sector_returns_dict = {}\n",
    "        within_sector_weights_dict = {}\n",
    "\n",
    "        # --------------------------- #\n",
    "        # within cluster optimization #\n",
    "        # --------------------------- #\n",
    "        for industry in industry_list:\n",
    "            daily_sector_returns, within_sector_weights = GMVP_within_sector(data_period, index_no, industry)\n",
    "            daily_sector_returns_dict[industry] = daily_sector_returns\n",
    "            within_sector_weights_dict[industry] = within_sector_weights\n",
    "\n",
    "        # ----------------------------- #\n",
    "        # between clusters optimization #\n",
    "        # ----------------------------- #\n",
    "        sector_daily_returns_df = pd.DataFrame.from_dict(daily_sector_returns_dict)\n",
    "        daily_sector_returns_list.append(sector_daily_returns_df)\n",
    "\n",
    "        cov_mat = sector_daily_returns_df.cov()\n",
    "        cov_mat_values = cov_mat.values\n",
    "        inv_cov_mat = np.linalg.pinv(cov_mat_values) # Use pseudo-inverse incase matrix is singular / ill-conditioned\n",
    "\n",
    "        # get the weights of each sector(between_sector_weights)\n",
    "        ones = np.ones(len(inv_cov_mat))\n",
    "        inv_dot_ones = np.dot(inv_cov_mat, ones)\n",
    "        between_sector_weights = inv_dot_ones/ np.dot(inv_dot_ones, ones)\n",
    "        between_sector_weights_df = pd.DataFrame(between_sector_weights, index = industry_list, columns = ['sector_weight'])\n",
    "\n",
    "        temp_portfolio_weights_list = []\n",
    "\n",
    "        for industry in industry_list:\n",
    "            stock_weights_within_sector =  between_sector_weights_df.loc[industry,'sector_weight'] * within_sector_weights_dict[industry]\n",
    "            stock_weights_within_sector_df = pd.DataFrame(stock_weights_within_sector, index = sector_info_dict[industry], columns = ['weight'])\n",
    "            temp_portfolio_weights_list.append(stock_weights_within_sector_df)\n",
    "\n",
    "        portfolio_weights = pd.concat(temp_portfolio_weights_list)\n",
    "        portfolio_weights_list.append(portfolio_weights)\n",
    "\n",
    "        # in_sample portfolio_variance\n",
    "        in_sample_variance = np.dot(between_sector_weights, np.dot(cov_mat_values, between_sector_weights))\n",
    "        in_sample_stdev = np.sqrt(in_sample_variance)\n",
    "\n",
    "        # ---------------------------------------------------------- #\n",
    "        # Calculating daily return based on GMV optimization results #\n",
    "        # ---------------------------------------------------------- #\n",
    "        # we should use 'index+1' ; we optimize portfolio at the time point 'index' and see how it goes for the time period from 'index' to 'index+1'\n",
    "\n",
    "        if (index_no+1) < len(daily_return_df_list):\n",
    "\n",
    "            # appending\n",
    "            between_sector_weights_list.append(between_sector_weights_df)\n",
    "            in_sample_stdev_list.append(in_sample_stdev)\n",
    "\n",
    "            # for calculating the future returns\n",
    "            future_daily_returns_df = daily_return_df_list[index_no+1]\n",
    "            future_sector_returns_dict = {}\n",
    "\n",
    "            for industry in industry_list:\n",
    "                weighted_returns = (future_daily_returns_df.loc[:,sector_info_dict[industry]] * between_sector_weights_df.loc[industry,'sector_weight'] * within_sector_weights_dict[industry])\n",
    "                sector_returns = weighted_returns.sum(axis=1)\n",
    "                future_sector_returns_dict[industry] = sector_returns\n",
    "\n",
    "            temp_out_of_sample_portfolio_returns = pd.DataFrame.from_dict(future_sector_returns_dict)\n",
    "            out_of_sample_portfolio_returns = temp_out_of_sample_portfolio_returns.sum(axis=1)[-rebalancing_period:]\n",
    "\n",
    "            # out of 180 days, the first 160 days are overlappign with each other\n",
    "            out_of_sample_stdev_list.append(out_of_sample_portfolio_returns.std())\n",
    "            out_of_sample_daily_portfolio_returns_list.extend(out_of_sample_portfolio_returns)\n",
    "\n",
    "    out_of_sample_daily_portfolio_returns_array = np.array(out_of_sample_daily_portfolio_returns_list)\n",
    "\n",
    "    result_dict = {'daily_portfolio_returns' : out_of_sample_daily_portfolio_returns_array,\n",
    "                   'in_sample_stdev' : pd.Series(in_sample_stdev_list), \n",
    "                   'out_of_sample_stdev' : pd.Series(out_of_sample_stdev_list),\n",
    "                   'individual_stock_weights' : portfolio_weights_list,\n",
    "                   'sector_weights' : between_sector_weights_list,\n",
    "                   'sector_return_df_list' : daily_sector_returns_list,}\n",
    "\n",
    "    return result_dict"
   ]
  },
  {
   "cell_type": "markdown",
   "metadata": {},
   "source": [
    "---"
   ]
  },
  {
   "cell_type": "markdown",
   "metadata": {},
   "source": [
    "## Step 03. Validation period performance"
   ]
  },
  {
   "cell_type": "markdown",
   "metadata": {},
   "source": [
    "__1. Portfolio optimization for validation period__"
   ]
  },
  {
   "cell_type": "code",
   "execution_count": 15,
   "metadata": {},
   "outputs": [
    {
     "data": {
      "application/vnd.jupyter.widget-view+json": {
       "model_id": "8a54d32c54344cdf8a162a2e37030a72",
       "version_major": 2,
       "version_minor": 0
      },
      "text/plain": [
       "HBox(children=(FloatProgress(value=0.0, max=47.0), HTML(value='')))"
      ]
     },
     "metadata": {},
     "output_type": "display_data"
    },
    {
     "name": "stdout",
     "output_type": "stream",
     "text": [
      "\n"
     ]
    }
   ],
   "source": [
    "result_dict_validation = GMVP_between_sectors('validation')"
   ]
  },
  {
   "cell_type": "code",
   "execution_count": 16,
   "metadata": {},
   "outputs": [
    {
     "data": {
      "text/plain": [
       "0.005971469986548483"
      ]
     },
     "execution_count": 16,
     "metadata": {},
     "output_type": "execute_result"
    }
   ],
   "source": [
    "result_dict_validation['out_of_sample_stdev'].mean()"
   ]
  },
  {
   "cell_type": "code",
   "execution_count": 17,
   "metadata": {},
   "outputs": [
    {
     "data": {
      "text/plain": [
       "<matplotlib.axes._subplots.AxesSubplot at 0x7f41d0340710>"
      ]
     },
     "execution_count": 17,
     "metadata": {},
     "output_type": "execute_result"
    },
    {
     "data": {
      "image/png": "[encoded data removed]",
      "text/plain": [
       "<Figure size 432x288 with 1 Axes>"
      ]
     },
     "metadata": {
      "needs_background": "light"
     },
     "output_type": "display_data"
    }
   ],
   "source": [
    "pd.Series(result_dict_validation['daily_portfolio_returns']+1).cumprod().plot()"
   ]
  },
  {
   "cell_type": "code",
   "execution_count": 18,
   "metadata": {},
   "outputs": [
    {
     "data": {
      "text/plain": [
       "0.006959977804612992"
      ]
     },
     "execution_count": 18,
     "metadata": {},
     "output_type": "execute_result"
    }
   ],
   "source": [
    "result_dict_validation['daily_portfolio_returns'].std()"
   ]
  },
  {
   "cell_type": "code",
   "execution_count": 19,
   "metadata": {},
   "outputs": [
    {
     "name": "stdout",
     "output_type": "stream",
     "text": [
      "sharpe_ratio : 0.08348\n",
      "sortino_ratio : 0.10831\n"
     ]
    }
   ],
   "source": [
    "print(f\"sharpe_ratio : {get_single_sharpe_ratio(result_dict_validation['daily_portfolio_returns']):.5f}\")\n",
    "print(f\"sortino_ratio : {get_single_sortino_ratio(result_dict_validation['daily_portfolio_returns']):.5f}\")"
   ]
  },
  {
   "cell_type": "code",
   "execution_count": 20,
   "metadata": {},
   "outputs": [],
   "source": [
    "# # Saving\n",
    "# with open('result/2. GMVP_industries_validation.pickle', 'wb') as f: # \n",
    "#     pickle.dump(result_dict_validation, f, pickle.HIGHEST_PROTOCOL)"
   ]
  },
  {
   "cell_type": "code",
   "execution_count": 21,
   "metadata": {},
   "outputs": [],
   "source": [
    "# Loading\n",
    "with open('result/2. GMVP_industries_validation.pickle', 'rb') as f:\n",
    "    result_dict_validation = pickle.load(f)"
   ]
  },
  {
   "cell_type": "markdown",
   "metadata": {},
   "source": [
    "__2. Performance check-up__"
   ]
  },
  {
   "cell_type": "code",
   "execution_count": 22,
   "metadata": {},
   "outputs": [
    {
     "name": "stdout",
     "output_type": "stream",
     "text": [
      "in-sample stdev : 0.00309\n",
      "out-of-sample stdev : 0.00597\n",
      "------------------------------\n",
      "downside_std : 0.00537\n",
      "MDD : -29.58%\n",
      "CVaR_95 : -1.18%\n"
     ]
    }
   ],
   "source": [
    "# estimated_std\n",
    "print(f\"in-sample stdev : {pd.Series(result_dict_validation['in_sample_stdev']).mean():.5f}\")\n",
    "# realized_std\n",
    "print(f\"out-of-sample stdev : {pd.Series(result_dict_validation['out_of_sample_stdev']).mean():.5f}\")\n",
    "print('------------------------------')\n",
    "# downside_std\n",
    "print(f\"downside_std : {get_single_downside_stdev(result_dict_validation['daily_portfolio_returns']):.5f}\")\n",
    "# MDD\n",
    "print(f\"MDD : {get_maximum_drawdown(result_dict_validation['daily_portfolio_returns'])*100:.2f}%\")\n",
    "# CVaR_95\n",
    "print(f\"CVaR_95 : {get_cvar_95(result_dict_validation['daily_portfolio_returns'])*100:.2f}%\")"
   ]
  },
  {
   "cell_type": "code",
   "execution_count": 23,
   "metadata": {},
   "outputs": [
    {
     "data": {
      "image/png": "[encoded data removed]",
      "text/plain": [
       "<Figure size 432x288 with 1 Axes>"
      ]
     },
     "metadata": {
      "needs_background": "light"
     },
     "output_type": "display_data"
    }
   ],
   "source": [
    "# cumulative wealth\n",
    "(pd.DataFrame(result_dict_validation['daily_portfolio_returns'], index=investment_dates_validation , columns=['sectors'])+1).cumprod().plot();"
   ]
  },
  {
   "cell_type": "markdown",
   "metadata": {},
   "source": [
    "__Portfolio weights__"
   ]
  },
  {
   "cell_type": "code",
   "execution_count": 24,
   "metadata": {},
   "outputs": [
    {
     "name": "stdout",
     "output_type": "stream",
     "text": [
      "time index : 0\n",
      "maximum weight: CHK, 0.22%\n",
      "minimum weight: MMM, 0.03%\n"
     ]
    }
   ],
   "source": [
    "time_index = 0\n",
    "\n",
    "print(f\"time index : {time_index}\")\n",
    "weight_df = result_dict_validation['individual_stock_weights'][time_index]\n",
    "print(f\"maximum weight: {weight_df.index[-1]}, {weight_df.iloc[0,0]*100:.2f}%\")\n",
    "print(f\"minimum weight: {weight_df.index[0]}, {weight_df.iloc[-1,0]*100:.2f}%\")"
   ]
  },
  {
   "cell_type": "markdown",
   "metadata": {},
   "source": [
    "__Difference between `in-sample stdev` and `out-of-sample stdev`__"
   ]
  },
  {
   "cell_type": "code",
   "execution_count": 25,
   "metadata": {},
   "outputs": [
    {
     "data": {
      "text/plain": [
       "<matplotlib.axes._subplots.AxesSubplot at 0x7f418c7be9e8>"
      ]
     },
     "execution_count": 25,
     "metadata": {},
     "output_type": "execute_result"
    },
    {
     "data": {
      "image/png": "[encoded data removed]",
      "text/plain": [
       "<Figure size 432x288 with 1 Axes>"
      ]
     },
     "metadata": {
      "needs_background": "light"
     },
     "output_type": "display_data"
    }
   ],
   "source": [
    "(pd.Series(result_dict_validation['out_of_sample_stdev'])/pd.Series(result_dict_validation['in_sample_stdev'])).plot()"
   ]
  },
  {
   "cell_type": "markdown",
   "metadata": {},
   "source": [
    "---"
   ]
  },
  {
   "cell_type": "markdown",
   "metadata": {},
   "source": [
    "## Step 04. Test period performance"
   ]
  },
  {
   "cell_type": "markdown",
   "metadata": {},
   "source": [
    "__1. Portfolio optimization for test period__"
   ]
  },
  {
   "cell_type": "code",
   "execution_count": 26,
   "metadata": {},
   "outputs": [
    {
     "data": {
      "application/vnd.jupyter.widget-view+json": {
       "model_id": "76bdb6a411474721be47b764f24bc027",
       "version_major": 2,
       "version_minor": 0
      },
      "text/plain": [
       "HBox(children=(FloatProgress(value=0.0, max=31.0), HTML(value='')))"
      ]
     },
     "metadata": {},
     "output_type": "display_data"
    },
    {
     "name": "stdout",
     "output_type": "stream",
     "text": [
      "\n"
     ]
    }
   ],
   "source": [
    "result_dict_test = GMVP_between_sectors('test')"
   ]
  },
  {
   "cell_type": "code",
   "execution_count": 27,
   "metadata": {},
   "outputs": [],
   "source": [
    "# # Saving\n",
    "# with open('result/2. GMVP_industries_test.pickle', 'wb') as f: # \n",
    "#     pickle.dump(result_dict_test, f, pickle.HIGHEST_PROTOCOL)"
   ]
  },
  {
   "cell_type": "code",
   "execution_count": 28,
   "metadata": {},
   "outputs": [],
   "source": [
    "# Loading\n",
    "with open('result/2. GMVP_industries_test.pickle', 'rb') as f:\n",
    "    result_dict_test = pickle.load(f)"
   ]
  },
  {
   "cell_type": "markdown",
   "metadata": {},
   "source": [
    "__2. Performance check-up__"
   ]
  },
  {
   "cell_type": "code",
   "execution_count": 33,
   "metadata": {},
   "outputs": [
    {
     "name": "stdout",
     "output_type": "stream",
     "text": [
      "sharpe_ratio : 0.11405\n",
      "sortino_ratio : 0.15768\n",
      "------------------------------\n",
      "in-sample stdev : 0.00290\n",
      "out-of-sample stdev : 0.00532\n",
      "real_stdev : 0.00554\n",
      "------------------------------\n",
      "downside_std : 0.00401\n",
      "MDD : -9.32%\n",
      "CVaR_95 : -0.97%\n"
     ]
    }
   ],
   "source": [
    "# sharpe_raito\n",
    "print(f\"sharpe_ratio : {get_single_sharpe_ratio(result_dict_test['daily_portfolio_returns']):.5f}\")\n",
    "print(f\"sortino_ratio : {get_single_sortino_ratio(result_dict_test['daily_portfolio_returns']):.5f}\")\n",
    "print('------------------------------')\n",
    "# estimated_std\n",
    "print(f\"in-sample stdev : {pd.Series(result_dict_test['in_sample_stdev']).mean():.5f}\")\n",
    "# realized_std\n",
    "print(f\"out-of-sample stdev : {pd.Series(result_dict_test['out_of_sample_stdev']).mean():.5f}\")\n",
    "# real_stdev\n",
    "print(f\"real_stdev : {result_dict_test['daily_portfolio_returns'].std():.5f}\")\n",
    "print('------------------------------')\n",
    "# downside_std\n",
    "print(f\"downside_std : {get_single_downside_stdev(result_dict_test['daily_portfolio_returns']):.5f}\")\n",
    "# MDD\n",
    "print(f\"MDD : {get_maximum_drawdown(result_dict_test['daily_portfolio_returns'])*100:.2f}%\")\n",
    "# CVaR_95\n",
    "print(f\"CVaR_95 : {get_cvar_95(result_dict_test['daily_portfolio_returns'])*100:.2f}%\")"
   ]
  },
  {
   "cell_type": "code",
   "execution_count": 30,
   "metadata": {},
   "outputs": [
    {
     "data": {
      "image/png": "[encoded data removed]",
      "text/plain": [
       "<Figure size 432x288 with 1 Axes>"
      ]
     },
     "metadata": {
      "needs_background": "light"
     },
     "output_type": "display_data"
    }
   ],
   "source": [
    "# cumulative wealth\n",
    "(pd.DataFrame(result_dict_test['daily_portfolio_returns'], index=investment_dates_test , columns=['sectors'])+1).cumprod().plot();"
   ]
  },
  {
   "cell_type": "markdown",
   "metadata": {},
   "source": [
    "__Portfolio weights__"
   ]
  },
  {
   "cell_type": "code",
   "execution_count": 41,
   "metadata": {},
   "outputs": [
    {
     "name": "stdout",
     "output_type": "stream",
     "text": [
      "time index : 0\n",
      "maximum weight: CHK, 3.26%\n",
      "minimum weight: MMM, -0.08%\n"
     ]
    }
   ],
   "source": [
    "time_index = 0\n",
    "\n",
    "print(f\"time index : {time_index}\")\n",
    "weight_df = result_dict_test['individual_stock_weights'][time_index]\n",
    "print(f\"maximum weight: {weight_df.index[-1]}, {weight_df.iloc[0,0]*100:.2f}%\")\n",
    "print(f\"minimum weight: {weight_df.index[0]}, {weight_df.iloc[-1,0]*100:.2f}%\")"
   ]
  },
  {
   "cell_type": "markdown",
   "metadata": {},
   "source": [
    "__Difference between `in-sample stdev` and `out-of-sample stdev`__"
   ]
  },
  {
   "cell_type": "code",
   "execution_count": 42,
   "metadata": {},
   "outputs": [
    {
     "data": {
      "text/plain": [
       "<matplotlib.axes._subplots.AxesSubplot at 0x7feaacdff2e8>"
      ]
     },
     "execution_count": 42,
     "metadata": {},
     "output_type": "execute_result"
    },
    {
     "data": {
      "image/png": "[encoded data removed]",
      "text/plain": [
       "<Figure size 432x288 with 1 Axes>"
      ]
     },
     "metadata": {
      "needs_background": "light"
     },
     "output_type": "display_data"
    }
   ],
   "source": [
    "(pd.Series(result_dict_test['out_of_sample_stdev'])/pd.Series(result_dict_test['in_sample_stdev'])).plot()"
   ]
  },
  {
   "cell_type": "markdown",
   "metadata": {},
   "source": [
    "---"
   ]
  }
 ],
 "metadata": {
  "kernelspec": {
   "display_name": "Python 3",
   "language": "python",
   "name": "python3"
  },
  "language_info": {
   "codemirror_mode": {
    "name": "ipython",
    "version": 3
   },
   "file_extension": ".py",
   "mimetype": "text/x-python",
   "name": "python",
   "nbconvert_exporter": "python",
   "pygments_lexer": "ipython3",
   "version": "3.7.3"
  },
  "toc-showcode": false,
  "toc-showmarkdowntxt": false
 },
 "nbformat": 4,
 "nbformat_minor": 4
}
