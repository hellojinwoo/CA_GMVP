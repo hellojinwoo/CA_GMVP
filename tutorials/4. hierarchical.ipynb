{
 "cells": [
  {
   "cell_type": "markdown",
   "metadata": {},
   "source": [
    "# Chapter 4. GMVP Optimization using Hierarchical Clustering \n",
    "\n",
    "\n",
    "- __Hyper-parameters to choose from :__\n",
    "\n",
    "    1. __Scaling methods__ : Standard scaling, Minmax Scaling, or none \n",
    "    2. __Dimensionality reduction__ : Principal Component Analysis (PCA), t-distributed stochastic neighbor embedding(t-sne), or none\n",
    "    3. __How many components to use__ : If we decide to use dimensionality reduction, we also need to decide how many __principal components__ or __t-sne components__ to use.\n",
    "    4. __Linkage method__ : Several linkage methods exist for hierarchical clustering. e.g. : complete, ward, single..."
   ]
  },
  {
   "cell_type": "markdown",
   "metadata": {},
   "source": [
    "__Contents__\n",
    "\n",
    "- [__Step 01. Loading stock data__](#Step-01.-Loading-stock-data)\n",
    "- [__Step 02. Creating functions for portfolio optimization__](#Step-02.-Creating-functions-for-portfolio-optimization)\n",
    "- [__Step 03. Portfolio optimization__](#Step-03.-Portfolio-optimization)"
   ]
  },
  {
   "cell_type": "markdown",
   "metadata": {},
   "source": [
    "---"
   ]
  },
  {
   "cell_type": "markdown",
   "metadata": {
    "toc-hr-collapsed": true
   },
   "source": [
    "## Step 01. Loading stock data"
   ]
  },
  {
   "cell_type": "markdown",
   "metadata": {},
   "source": [
    "__1. Importing required libraries__"
   ]
  },
  {
   "cell_type": "code",
   "execution_count": 15,
   "metadata": {},
   "outputs": [
    {
     "name": "stdout",
     "output_type": "stream",
     "text": [
      "The autoreload extension is already loaded. To reload it, use:\n",
      "  %reload_ext autoreload\n"
     ]
    }
   ],
   "source": [
    "# for importing libraries again that is already imported, just in case that any change is made in libraries\n",
    "%load_ext autoreload\n",
    "%autoreload 2\n",
    "\n",
    "# libraries for general work\n",
    "import pickle\n",
    "import numpy as np\n",
    "import pandas as pd\n",
    "from tqdm import tqdm_notebook as tqdm\n",
    "\n",
    "# for computing portfolio performance\n",
    "from portfolio_performance_function import *\n",
    "\n",
    "# Disable printing all warnings on python \n",
    "import warnings\n",
    "warnings.filterwarnings(\"ignore\")\n",
    "\n",
    "# libraries for hierarchical clustering\n",
    "from scipy.cluster.hierarchy import fcluster, linkage\n",
    "from scipy.cluster.vq import kmeans, vq\n",
    "\n",
    "# libraries related with normalization\n",
    "from sklearn.preprocessing import StandardScaler\n",
    "standard_scaler = StandardScaler()\n",
    "from sklearn.preprocessing import MinMaxScaler\n",
    "minmax_scaler = MinMaxScaler()\n",
    "\n",
    "# libraries related with plotting\n",
    "import seaborn as sns\n",
    "import matplotlib.pyplot as plt\n",
    "\n",
    "# libraries for using PCA\n",
    "from sklearn.decomposition import PCA\n",
    "\n",
    "# libraries for using t-sne on GPU : https://github.com/rapidsai/cuml\n",
    "import cudf\n",
    "from cuml.manifold import TSNE "
   ]
  },
  {
   "cell_type": "markdown",
   "metadata": {},
   "source": [
    "__2. Loading daily price of all stocks for indexing dates : `daily_price_df`__"
   ]
  },
  {
   "cell_type": "code",
   "execution_count": 16,
   "metadata": {},
   "outputs": [
    {
     "data": {
      "text/html": [
       "<div>\n",
       "<style scoped>\n",
       "    .dataframe tbody tr th:only-of-type {\n",
       "        vertical-align: middle;\n",
       "    }\n",
       "\n",
       "    .dataframe tbody tr th {\n",
       "        vertical-align: top;\n",
       "    }\n",
       "\n",
       "    .dataframe thead th {\n",
       "        text-align: right;\n",
       "    }\n",
       "</style>\n",
       "<table border=\"1\" class=\"dataframe\">\n",
       "  <thead>\n",
       "    <tr style=\"text-align: right;\">\n",
       "      <th></th>\n",
       "      <th>MMM</th>\n",
       "      <th>ABT</th>\n",
       "      <th>ABMD</th>\n",
       "      <th>ACHC</th>\n",
       "      <th>ATVI</th>\n",
       "      <th>ADBE</th>\n",
       "      <th>AMD</th>\n",
       "      <th>AES</th>\n",
       "      <th>AMG</th>\n",
       "      <th>AFL</th>\n",
       "      <th>...</th>\n",
       "      <th>ZBRA</th>\n",
       "      <th>ZION</th>\n",
       "      <th>XEL</th>\n",
       "      <th>XRX</th>\n",
       "      <th>XLNX</th>\n",
       "      <th>YUM</th>\n",
       "      <th>BRK-B</th>\n",
       "      <th>HEI-A</th>\n",
       "      <th>LGF-A</th>\n",
       "      <th>JW-A</th>\n",
       "    </tr>\n",
       "  </thead>\n",
       "  <tbody>\n",
       "    <tr>\n",
       "      <th>1999-11-01</th>\n",
       "      <td>26.186508</td>\n",
       "      <td>7.625059</td>\n",
       "      <td>10.2500</td>\n",
       "      <td>3.750</td>\n",
       "      <td>1.057096</td>\n",
       "      <td>17.013006</td>\n",
       "      <td>10.15625</td>\n",
       "      <td>22.383265</td>\n",
       "      <td>17.685398</td>\n",
       "      <td>5.895580</td>\n",
       "      <td>...</td>\n",
       "      <td>26.222221</td>\n",
       "      <td>44.172218</td>\n",
       "      <td>8.828288</td>\n",
       "      <td>59.627827</td>\n",
       "      <td>28.284966</td>\n",
       "      <td>4.807233</td>\n",
       "      <td>41.740002</td>\n",
       "      <td>1.899360</td>\n",
       "      <td>1.423901</td>\n",
       "      <td>12.179971</td>\n",
       "    </tr>\n",
       "    <tr>\n",
       "      <th>1999-11-02</th>\n",
       "      <td>26.430267</td>\n",
       "      <td>7.187653</td>\n",
       "      <td>10.3125</td>\n",
       "      <td>3.750</td>\n",
       "      <td>1.071191</td>\n",
       "      <td>16.888933</td>\n",
       "      <td>10.28125</td>\n",
       "      <td>22.780302</td>\n",
       "      <td>17.523146</td>\n",
       "      <td>6.068317</td>\n",
       "      <td>...</td>\n",
       "      <td>25.388889</td>\n",
       "      <td>45.481014</td>\n",
       "      <td>8.853581</td>\n",
       "      <td>57.188522</td>\n",
       "      <td>28.801279</td>\n",
       "      <td>4.733161</td>\n",
       "      <td>42.820000</td>\n",
       "      <td>1.891793</td>\n",
       "      <td>1.385417</td>\n",
       "      <td>12.134530</td>\n",
       "    </tr>\n",
       "    <tr>\n",
       "      <th>1999-11-03</th>\n",
       "      <td>26.325787</td>\n",
       "      <td>6.963037</td>\n",
       "      <td>10.2500</td>\n",
       "      <td>3.875</td>\n",
       "      <td>1.089984</td>\n",
       "      <td>17.075039</td>\n",
       "      <td>10.65625</td>\n",
       "      <td>22.209560</td>\n",
       "      <td>17.604273</td>\n",
       "      <td>6.150932</td>\n",
       "      <td>...</td>\n",
       "      <td>24.944445</td>\n",
       "      <td>44.920109</td>\n",
       "      <td>8.727110</td>\n",
       "      <td>57.324043</td>\n",
       "      <td>30.417568</td>\n",
       "      <td>4.651680</td>\n",
       "      <td>43.060001</td>\n",
       "      <td>1.755583</td>\n",
       "      <td>1.539352</td>\n",
       "      <td>11.725501</td>\n",
       "    </tr>\n",
       "  </tbody>\n",
       "</table>\n",
       "<p>3 rows × 590 columns</p>\n",
       "</div>"
      ],
      "text/plain": [
       "                  MMM       ABT     ABMD   ACHC      ATVI       ADBE  \\\n",
       "1999-11-01  26.186508  7.625059  10.2500  3.750  1.057096  17.013006   \n",
       "1999-11-02  26.430267  7.187653  10.3125  3.750  1.071191  16.888933   \n",
       "1999-11-03  26.325787  6.963037  10.2500  3.875  1.089984  17.075039   \n",
       "\n",
       "                 AMD        AES        AMG       AFL  ...       ZBRA  \\\n",
       "1999-11-01  10.15625  22.383265  17.685398  5.895580  ...  26.222221   \n",
       "1999-11-02  10.28125  22.780302  17.523146  6.068317  ...  25.388889   \n",
       "1999-11-03  10.65625  22.209560  17.604273  6.150932  ...  24.944445   \n",
       "\n",
       "                 ZION       XEL        XRX       XLNX       YUM      BRK-B  \\\n",
       "1999-11-01  44.172218  8.828288  59.627827  28.284966  4.807233  41.740002   \n",
       "1999-11-02  45.481014  8.853581  57.188522  28.801279  4.733161  42.820000   \n",
       "1999-11-03  44.920109  8.727110  57.324043  30.417568  4.651680  43.060001   \n",
       "\n",
       "               HEI-A     LGF-A       JW-A  \n",
       "1999-11-01  1.899360  1.423901  12.179971  \n",
       "1999-11-02  1.891793  1.385417  12.134530  \n",
       "1999-11-03  1.755583  1.539352  11.725501  \n",
       "\n",
       "[3 rows x 590 columns]"
      ]
     },
     "execution_count": 16,
     "metadata": {},
     "output_type": "execute_result"
    }
   ],
   "source": [
    "# Loading\n",
    "with open('./data/russel1000_daily_price_df.pickle', 'rb') as f:\n",
    "    daily_price_df = pickle.load(f)\n",
    "del daily_price_df.index.name\n",
    "\n",
    "daily_price_df.head(3)"
   ]
  },
  {
   "cell_type": "markdown",
   "metadata": {},
   "source": [
    "__3. Creating a list of all tickers : `all_tickers_list`__"
   ]
  },
  {
   "cell_type": "code",
   "execution_count": 17,
   "metadata": {},
   "outputs": [],
   "source": [
    "all_ticker_list = list(daily_price_df.columns)"
   ]
  },
  {
   "cell_type": "markdown",
   "metadata": {},
   "source": [
    "__4. Loading a grouped daily return data for validation : `daily_return_df_list_validation`__"
   ]
  },
  {
   "cell_type": "code",
   "execution_count": 18,
   "metadata": {},
   "outputs": [
    {
     "name": "stdout",
     "output_type": "stream",
     "text": [
      "Total number of portfolio rebalancing  : 47\n",
      "shape of dataframe : (252, 590)\n"
     ]
    }
   ],
   "source": [
    "# Loading\n",
    "with open('./data/russel1000_daily_return_df_validation.pickle', 'rb') as f:\n",
    "    daily_return_df_list_validation = pickle.load(f)\n",
    "    \n",
    "print(f\"Total number of portfolio rebalancing  : {len(daily_return_df_list_validation)}\" )\n",
    "print(f\"shape of dataframe : {daily_return_df_list_validation[0].shape}\" )"
   ]
  },
  {
   "cell_type": "code",
   "execution_count": 19,
   "metadata": {},
   "outputs": [
    {
     "name": "stdout",
     "output_type": "stream",
     "text": [
      "---validation---\n",
      "first day date: 2000-10-31\n",
      "last day date: 2011-10-20\n"
     ]
    }
   ],
   "source": [
    "print(\"---validation---\")\n",
    "print(f\"first day date: {daily_return_df_list_validation[1].index[-60].date()}\")\n",
    "print(f\"last day date: {daily_return_df_list_validation[-1].index[-1].date()}\")"
   ]
  },
  {
   "cell_type": "code",
   "execution_count": 20,
   "metadata": {},
   "outputs": [
    {
     "data": {
      "text/plain": [
       "2760"
      ]
     },
     "execution_count": 20,
     "metadata": {},
     "output_type": "execute_result"
    }
   ],
   "source": [
    "# investment dates\n",
    "investment_date_validation = daily_price_df.loc['2000-10-31':'2011-10-20',:].index\n",
    "len(investment_date_validation)"
   ]
  },
  {
   "cell_type": "markdown",
   "metadata": {},
   "source": [
    "__5. Loading a grouped daily return data for test : `daily_return_df_list_test`__"
   ]
  },
  {
   "cell_type": "code",
   "execution_count": 21,
   "metadata": {},
   "outputs": [
    {
     "name": "stdout",
     "output_type": "stream",
     "text": [
      "Total number of portfolio rebalancing : 31\n",
      "shape of dataframe : (252, 590)\n"
     ]
    }
   ],
   "source": [
    "# Loading\n",
    "with open('./data/russel1000_daily_return_df_test.pickle', 'rb') as f:\n",
    "    daily_return_df_list_test = pickle.load(f)\n",
    "    \n",
    "print(f\"Total number of portfolio rebalancing : {len(daily_return_df_list_test)}\" )\n",
    "print(f\"shape of dataframe : {daily_return_df_list_test[0].shape}\" )"
   ]
  },
  {
   "cell_type": "code",
   "execution_count": 22,
   "metadata": {},
   "outputs": [
    {
     "name": "stdout",
     "output_type": "stream",
     "text": [
      "---test---\n",
      "first day date: 2012-10-04\n",
      "last day date: 2019-11-29\n"
     ]
    }
   ],
   "source": [
    "print(\"---test---\")\n",
    "print(f\"first day date: {daily_return_df_list_test[1].index[-60].date()}\")\n",
    "print(f\"last day date: {daily_return_df_list_test[-1].index[-1].date()}\")"
   ]
  },
  {
   "cell_type": "code",
   "execution_count": 23,
   "metadata": {},
   "outputs": [
    {
     "data": {
      "text/plain": [
       "1800"
      ]
     },
     "execution_count": 23,
     "metadata": {},
     "output_type": "execute_result"
    }
   ],
   "source": [
    "# investment dates\n",
    "investment_date_test = daily_price_df.loc['2012-10-04':'2019-11-29',:].index\n",
    "len(investment_date_test)"
   ]
  },
  {
   "cell_type": "markdown",
   "metadata": {},
   "source": [
    "---"
   ]
  },
  {
   "cell_type": "markdown",
   "metadata": {},
   "source": [
    "## Step 02. Creating functions for portfolio optimization"
   ]
  },
  {
   "cell_type": "markdown",
   "metadata": {},
   "source": [
    "- As the clustering approach to GMVP performs portfolio optimization twice, we are going to build two functions\n",
    "    1. __within cluster optimization : `GMVP_within_cluster`__\n",
    "    2. __between clusters optimization: `GMVP_between_clusters`__"
   ]
  },
  {
   "cell_type": "markdown",
   "metadata": {},
   "source": [
    "__1. `GMVP_within_cluster` : This function is used inside another function, `GMVP_between_clusters`.__\n",
    "- __Input :__  \n",
    "    1. daily returns of stocks for 1 year\n",
    "- __Output :__  \n",
    "    1. daily cluster returns    \n",
    "    2. within cluster weights   "
   ]
  },
  {
   "cell_type": "code",
   "execution_count": 24,
   "metadata": {},
   "outputs": [],
   "source": [
    "def GMVP_within_cluster(data_period, index, stock_list_of_cluster):\n",
    "    \n",
    "    if data_period == 'validation':\n",
    "        daily_return_df_list = daily_return_df_list_validation\n",
    "    elif data_period == 'test':\n",
    "        daily_return_df_list = daily_return_df_list_test\n",
    "    \n",
    "    # slice the data needed\n",
    "    daily_stock_return_of_cluster_df = daily_return_df_list[index].loc[:, stock_list_of_cluster]\n",
    "    \n",
    "    # get the covariance matrix and inverse matrix of covariance matrix respectively\n",
    "    cov_mat_of_stock_within_cluster_df = daily_stock_return_of_cluster_df.cov()\n",
    "    cov_mat_of_stock_within_cluster_array = cov_mat_of_stock_within_cluster_df.values\n",
    "    inv_cov_mat_array = np.linalg.pinv(cov_mat_of_stock_within_cluster_array) # Use pseudo-inverse incase matrix is singular / ill-conditioned\n",
    "\n",
    "    # construct minimum variance weights\n",
    "    one_vector_array = np.ones(len(inv_cov_mat_array))\n",
    "    inv_dot_one_array = np.dot(inv_cov_mat_array, one_vector_array)\n",
    "    within_cluster_weight_array = inv_dot_one_array/ np.dot(inv_dot_one_array, one_vector_array)\n",
    "    \n",
    "    # calculate the daily_return\n",
    "    daily_weighted_stock_return_df = (daily_stock_return_of_cluster_df * within_cluster_weight_array)\n",
    "    daily_cluster_return_df = daily_weighted_stock_return_df.sum(axis=1)\n",
    "    \n",
    "    return daily_cluster_return_df, within_cluster_weight_array"
   ]
  },
  {
   "cell_type": "markdown",
   "metadata": {},
   "source": [
    "__2. `GMVP_between_clusters`__\n",
    "- __Input :__  \n",
    "    1. daily returns of stocks for 1 year\n",
    "- __Output :__  \n",
    "    1. portfolio weights   \n",
    "    2. daily portfolio returns   \n",
    "    3. in-sample stdev  \n",
    "    4. out-of-sample stdev\n",
    "    5. cluster weights  \n",
    "    6. daily cluster returns (the same thing from the `GMVP_within_cluster`)"
   ]
  },
  {
   "cell_type": "code",
   "execution_count": 28,
   "metadata": {},
   "outputs": [],
   "source": [
    "def GMVP_between_clusters(data_period, linkage_method, scaling_method='none', dim_reduction_method='none', no_of_PCA_components = 0, no_of_tsne_components = 0):\n",
    "    rebalancing_period = 60\n",
    "    \n",
    "    ################## creating lists and dictionaries for storing outcomes ##################\n",
    "    # 1) returns\n",
    "    daily_portfolio_return_list = []   # daily returns of portfolio\n",
    "    # 2) stdev\n",
    "    in_sample_stdev_list = []          # standard deviation of in-sample (252-day-long) daily portfolio returns\n",
    "    out_of_sample_stdev_list = []      # standard deviation of out-of-sample (60-day-long) daily portfolio returns\n",
    "    # 3) cluster & stock \n",
    "    cluster_and_stock_dict = {}        # 1. cluster_return : 252_daily_returns * 11_clusters\n",
    "                                       # 2. cluster_weight : weights of each 11 cluster\n",
    "                                       # 3. cluster_ticker : tickers belonging to each cluster \n",
    "                                       # 4. stock_weight   : weights of each individual stock\n",
    "                                       # 5. daily_return_for_viz \n",
    "    ##########################################################################################\n",
    "    \n",
    "    if data_period == 'validation':\n",
    "        daily_return_df_list = daily_return_df_list_validation\n",
    "    elif data_period == 'test':\n",
    "        daily_return_df_list = daily_return_df_list_test\n",
    "    \n",
    "    for index_no, daily_return_df in enumerate(tqdm(daily_return_df_list)):  \n",
    "\n",
    "        cluster_weight_dict = {}   # weights of each 11 cluster\n",
    "        cluster_ticker_dict = {}   # tickers belonging to each cluster \n",
    "        stock_weight_within_cluster_dict = {} # weights of each individual stock\n",
    "        \n",
    "        ################## 1. normalizing data ##################\n",
    "        if scaling_method == 'standard_scale':    \n",
    "            scaled_daily_price_array = (standard_scaler.fit_transform(daily_return_df))\n",
    "            after_scaling_return_df = pd.DataFrame(scaled_daily_price_array, columns = all_ticker_list).T\n",
    "        elif scaling_method == 'none':\n",
    "            after_scaling_return_df = daily_return_df.T\n",
    "        \n",
    "        ################## 2. dimensionality reduction ##################\n",
    "        if dim_reduction_method == 'PCA':\n",
    "            pca = PCA(n_components=no_of_PCA_components)\n",
    "            scaled_daily_return_PCA_array = pca.fit_transform(after_scaling_return_df)\n",
    "            after_dim_reduction_return_df = pd.DataFrame(scaled_daily_return_PCA_array, index = all_ticker_list)  # shape : [stocks * PCs]\n",
    "        elif dim_reduction_method == 'tsne':\n",
    "            tsne = TSNE(n_components = no_of_tsne_components)\n",
    "            scaled_daily_return_tsne_cudf = tsne.fit_transform(after_scaling_return_df.values)\n",
    "            after_dim_reduction_return_df = pd.DataFrame(scaled_daily_return_tsne_cudf, index = all_ticker_list)\n",
    "        elif dim_reduction_method == 'none':\n",
    "            after_dim_reduction_return_df = after_scaling_return_df\n",
    "            \n",
    "        ################## 3. hierarchical_clsutering  ################## \n",
    "        distance_matrix_array = linkage(after_dim_reduction_return_df, method = linkage_method, metric = 'euclidean')\n",
    "        after_dim_reduction_return_df['cluster_label'] = fcluster(distance_matrix_array, 11, criterion = 'maxclust')\n",
    "        # storing clustering results in a dict : within_cluster_ticker_dict\n",
    "        cluster_label_list = list((after_dim_reduction_return_df.loc[:,'cluster_label'].unique()))\n",
    "        for cluster_label in cluster_label_list:\n",
    "            cluster_ticker_dict[cluster_label] = list(after_dim_reduction_return_df[after_dim_reduction_return_df.loc[:,'cluster_label'] == cluster_label].index)\n",
    "        \n",
    "        ################## (Optional) For visualization ##################\n",
    "        pca = PCA(n_components=2)\n",
    "        daily_return_array_for_viz = pca.fit_transform(after_dim_reduction_return_df.iloc[:,:-1])\n",
    "        daily_return_df_for_viz = pd.DataFrame(daily_return_array_for_viz, index = all_ticker_list)  # shape : [stocks * PCs]\n",
    "        daily_return_df_for_viz.loc[: ,'cluster_label'] = after_dim_reduction_return_df.loc[:,'cluster_label']\n",
    "        daily_return_df_for_viz.rename(columns = {0: 'PC_1',1:'PC_2'}, inplace=True)\n",
    "        \n",
    "        # --------------------- #\n",
    "        #  GMVP within cluster  #\n",
    "        # --------------------- #\n",
    "        # GMVP on each cluster using the function 'GMVP_within_cluster' --> to create a matrix of daily returns of clusters\n",
    "        stock_weight_within_cluster_dict = {}\n",
    "        daily_cluster_return_dict = {}\n",
    "        \n",
    "        ################## 4. computing stock weights within a cluster ##################\n",
    "        for cluster_label in cluster_label_list:\n",
    "            daily_cluster_return_series, stock_weight_within_cluster_array = GMVP_within_cluster(data_period, index_no, cluster_ticker_dict[cluster_label])\n",
    "            daily_cluster_return_dict[cluster_label] = daily_cluster_return_series\n",
    "            stock_weight_within_cluster_dict[cluster_label] = stock_weight_within_cluster_array\n",
    "\n",
    "        daily_cluster_return_df = pd.DataFrame.from_dict(daily_cluster_return_dict)\n",
    "        \n",
    "        # ---------------------- #\n",
    "        #  GMVP between clusters #\n",
    "        # ---------------------- #\n",
    "        cov_mat_of_cluster_df = daily_cluster_return_df.cov()\n",
    "        cov_mat_of_cluster_array = cov_mat_of_cluster_df.values\n",
    "        inv_cov_mat_array = np.linalg.pinv(cov_mat_of_cluster_array) # Use pseudo-inverse incase matrix is singular / ill-conditioned\n",
    "\n",
    "        ################## 5. computing cluster weights ##################\n",
    "        one_vector_array = np.ones(len(inv_cov_mat_array))\n",
    "        inv_dot_one_array = np.dot(inv_cov_mat_array, one_vector_array)\n",
    "        cluster_weight_array = inv_dot_one_array/ np.dot( inv_dot_one_array , one_vector_array)\n",
    "        cluster_weight_df = pd.DataFrame(data= cluster_weight_array, columns = ['weight'], index = cluster_label_list)\n",
    "        \n",
    "        # compute stdev of portfolio, which can be calculated from daily returns of clusters\n",
    "        in_sample_variance = np.dot(cluster_weight_array, np.dot(cov_mat_of_cluster_array, cluster_weight_array))\n",
    "        in_sample_stdev = np.sqrt(in_sample_variance)\n",
    "        \n",
    "        ################## 6. computing stock weights in a portfolio (portfolio weights) ##################\n",
    "        temp_portfolio_weight_list = []\n",
    "\n",
    "        for cluster_label in cluster_label_list:\n",
    "            stock_weight_within_sector_array =  cluster_weight_df.loc[cluster_label,'weight'] * stock_weight_within_cluster_dict[cluster_label]\n",
    "            stock_weight_within_sector_df = pd.DataFrame(stock_weight_within_sector_array, index = cluster_ticker_dict[cluster_label], columns = ['weight'])\n",
    "            temp_portfolio_weight_list.append(stock_weight_within_sector_df)\n",
    "\n",
    "        portfolio_weight_df = pd.concat(temp_portfolio_weight_list)\n",
    "        \n",
    "        # ---------------------------------------------------------- #\n",
    "        # Calculating daily return based on GMV optimization results #\n",
    "        # ---------------------------------------------------------- #\n",
    "        # we should use 'index+1' ; we optimize portfolio at the time point 'index' and see how it goes for the time period from 'index' to 'index+1'\n",
    "        if (index_no+1) < len(daily_return_df_list):\n",
    "            \n",
    "            # appending to the list only if we invest in the market, following the portfolio optimization\n",
    "            in_sample_stdev_list.append(in_sample_stdev)\n",
    "            \n",
    "            # appending data only if the data is used for calculating next time's return \n",
    "            future_daily_return_df = daily_return_df_list[index_no+1]\n",
    "            future_daily_cluster_return_dict = {}\n",
    "\n",
    "            for cluster_label in cluster_label_list:\n",
    "\n",
    "                # 1st optimization - cluster_weight calculated from 'between_cluster GMV'\n",
    "                cluster_weight = cluster_weight_df.loc[cluster_label,'weight']\n",
    "                # 2nd optimization - stock_weight calculated from 'inside_cluster GMV'\n",
    "                stock_weight_within_cluster_array = stock_weight_within_cluster_dict[cluster_label]\n",
    "                # based on the asset allocation reuslt from 1st optimization and 2nd optimization, now we can compute the each stock's weight\n",
    "                future_daily_cluster_return_df = (future_daily_return_df.loc[:, cluster_ticker_dict[cluster_label]] * stock_weight_within_cluster_array * cluster_weight)\n",
    "                future_daily_cluster_return_series = future_daily_cluster_return_df.sum(axis=1)[-rebalancing_period:]\n",
    "                future_daily_cluster_return_dict[cluster_label] = future_daily_cluster_return_series\n",
    "\n",
    "            # out-of-sample daily portfolio returns (60 days)\n",
    "            future_daily_cluster_return_df = pd.DataFrame.from_dict(future_daily_cluster_return_dict)\n",
    "            daily_portfolio_return_series_60days = future_daily_cluster_return_df.sum(axis=1)\n",
    "            daily_portfolio_return_list.extend(daily_portfolio_return_series_60days)\n",
    "            \n",
    "            # standard deviation of out-of-sample portfolio returns\n",
    "            out_of_sample_stdev = daily_portfolio_return_series_60days.std()\n",
    "            out_of_sample_stdev_list.append(out_of_sample_stdev)\n",
    "            \n",
    "            # saving outcomes to a dictionary\n",
    "            cluster_and_stock_dict[index_no] = {'cluster_return' : daily_cluster_return_df,\n",
    "                                                'cluster_weight' : cluster_weight_df,\n",
    "                                                'cluster_ticker' : cluster_ticker_dict,\n",
    "                                                'stock_weight' : portfolio_weight_df,\n",
    "                                                'daily_return_for_viz' : daily_return_df_for_viz\n",
    "                                                }\n",
    "            \n",
    "    daily_portfolio_return_array = np.array(daily_portfolio_return_list)\n",
    "    in_sample_stdev_series = pd.Series(in_sample_stdev_list)\n",
    "    out_of_sample_stdev_series = pd.Series(out_of_sample_stdev_list)\n",
    "    \n",
    "    return daily_portfolio_return_array, in_sample_stdev_series, out_of_sample_stdev_series, cluster_and_stock_dict"
   ]
  },
  {
   "cell_type": "markdown",
   "metadata": {},
   "source": [
    "---"
   ]
  },
  {
   "cell_type": "markdown",
   "metadata": {},
   "source": [
    "## Step 03. Portfolio optimization\n",
    "- With custom functions that we have created above, now we can perform GMV portfolio optimization on 591 stocks from either periods, validation period or test period.\n",
    "- An example is provided for you to learn how we can use custom functions for performing portfolio optimization"
   ]
  },
  {
   "cell_type": "markdown",
   "metadata": {},
   "source": [
    "__1. Portfolio optimization for the validation or test period__"
   ]
  },
  {
   "cell_type": "code",
   "execution_count": 40,
   "metadata": {},
   "outputs": [
    {
     "data": {
      "application/vnd.jupyter.widget-view+json": {
       "model_id": "2221945f45924648906c27b25297631e",
       "version_major": 2,
       "version_minor": 0
      },
      "text/plain": [
       "HBox(children=(FloatProgress(value=0.0, max=31.0), HTML(value='')))"
      ]
     },
     "metadata": {},
     "output_type": "display_data"
    },
    {
     "name": "stdout",
     "output_type": "stream",
     "text": [
      "\n"
     ]
    }
   ],
   "source": [
    "# data_period = 'validation' or 'test'\n",
    "# scaling_method = 'standard_scaled' or 'none'\n",
    "# dim_reduction_method = 'PCA', 'tsne', or 'none'\n",
    "# linkage_method = 'ward','complete','average','single','centroid','weighted' or 'median'  \n",
    "# linkage method reference : https://docs.scipy.org/doc/scipy/reference/generated/scipy.cluster.hierarchy.linkage.html \n",
    "\n",
    "(portfolio_return, in_sample_std, out_of_sample_std, cluster_and_stock_dict) = GMVP_between_clusters(data_period = 'test',\n",
    "                                                                                                     scaling_method = 'none',\n",
    "                                                                                                     dim_reduction_method = 'tsne',\n",
    "                                                                                                     linkage_method = 'average')"
   ]
  },
  {
   "cell_type": "markdown",
   "metadata": {},
   "source": [
    "__2. Performance check-up__"
   ]
  },
  {
   "cell_type": "code",
   "execution_count": 41,
   "metadata": {},
   "outputs": [
    {
     "name": "stdout",
     "output_type": "stream",
     "text": [
      "annualized in-sample stdev : 0.0395\n",
      "annualized out-of-sample stdev : 0.0960\n",
      "------------------------------\n",
      "annualized_sharpe_ratio : 1.3374\n",
      "annualized_sortino_ratio : 2.0216\n",
      "------------------------------\n",
      "annaulized downside_stdev : 0.0651\n",
      "MDD : -11.77%\n",
      "CVaR_95 : -1.06%\n"
     ]
    }
   ],
   "source": [
    "# in-sample_std\n",
    "print(f\"annualized in-sample stdev : {(in_sample_std).mean()*np.sqrt(252):.4f}\")\n",
    "# out-of-sample_std\n",
    "print(f\"annualized out-of-sample stdev : {(out_of_sample_std).mean()*np.sqrt(252):.4f}\")\n",
    "print('------------------------------')\n",
    "print(f\"annualized_sharpe_ratio : {get_single_sharpe_ratio(portfolio_return)*np.sqrt(252):.4f}\")\n",
    "print(f\"annualized_sortino_ratio : {get_single_sortino_ratio(portfolio_return)*np.sqrt(252):.4f}\")\n",
    "print('------------------------------')\n",
    "# downside_std\n",
    "print(f\"annaulized downside_stdev : {get_single_downside_stdev(portfolio_return)*np.sqrt(252):.4f}\")\n",
    "# MDD\n",
    "print(f\"MDD : {get_maximum_drawdown(portfolio_return)*100:.2f}%\")\n",
    "# CVaR_95\n",
    "print(f\"CVaR_95 : {get_cvar_95(portfolio_return)*100:.2f}%\")"
   ]
  },
  {
   "cell_type": "markdown",
   "metadata": {},
   "source": [
    "__3. Cumulative_wealth__"
   ]
  },
  {
   "cell_type": "code",
   "execution_count": 42,
   "metadata": {},
   "outputs": [
    {
     "data": {
      "text/plain": [
       "<matplotlib.axes._subplots.AxesSubplot at 0x7f71d7991f98>"
      ]
     },
     "execution_count": 42,
     "metadata": {},
     "output_type": "execute_result"
    },
    {
     "data": {
      "image/png": "[encoded data removed]",
      "text/plain": [
       "<Figure size 432x288 with 1 Axes>"
      ]
     },
     "metadata": {
      "needs_background": "light"
     },
     "output_type": "display_data"
    }
   ],
   "source": [
    "if len(portfolio_return) == 2760:\n",
    "    dates_index = investment_date_validation\n",
    "else:\n",
    "    dates_index = investment_date_test\n",
    "\n",
    "portfolio_return_df = pd.DataFrame(portfolio_return, index = dates_index, columns = ['standard_scale'])\n",
    "cumulative_wealth_df = (portfolio_return_df+1).cumprod()\n",
    "cumulative_wealth_df.plot()"
   ]
  },
  {
   "cell_type": "markdown",
   "metadata": {},
   "source": [
    "__4. Visualization of daily returns of stocks using two principal components__"
   ]
  },
  {
   "cell_type": "code",
   "execution_count": 43,
   "metadata": {},
   "outputs": [
    {
     "data": {
      "text/html": [
       "<div>\n",
       "<style scoped>\n",
       "    .dataframe tbody tr th:only-of-type {\n",
       "        vertical-align: middle;\n",
       "    }\n",
       "\n",
       "    .dataframe tbody tr th {\n",
       "        vertical-align: top;\n",
       "    }\n",
       "\n",
       "    .dataframe thead th {\n",
       "        text-align: right;\n",
       "    }\n",
       "</style>\n",
       "<table border=\"1\" class=\"dataframe\">\n",
       "  <thead>\n",
       "    <tr style=\"text-align: right;\">\n",
       "      <th></th>\n",
       "      <th>PC_1</th>\n",
       "      <th>PC_2</th>\n",
       "      <th>cluster_label</th>\n",
       "    </tr>\n",
       "  </thead>\n",
       "  <tbody>\n",
       "    <tr>\n",
       "      <th>MMM</th>\n",
       "      <td>1.024949</td>\n",
       "      <td>0.333027</td>\n",
       "      <td>8</td>\n",
       "    </tr>\n",
       "    <tr>\n",
       "      <th>ABT</th>\n",
       "      <td>-18.107586</td>\n",
       "      <td>-3.797674</td>\n",
       "      <td>10</td>\n",
       "    </tr>\n",
       "    <tr>\n",
       "      <th>ABMD</th>\n",
       "      <td>7.626936</td>\n",
       "      <td>-16.734718</td>\n",
       "      <td>5</td>\n",
       "    </tr>\n",
       "  </tbody>\n",
       "</table>\n",
       "</div>"
      ],
      "text/plain": [
       "           PC_1       PC_2  cluster_label\n",
       "MMM    1.024949   0.333027              8\n",
       "ABT  -18.107586  -3.797674             10\n",
       "ABMD   7.626936 -16.734718              5"
      ]
     },
     "execution_count": 43,
     "metadata": {},
     "output_type": "execute_result"
    }
   ],
   "source": [
    "# first period of validation period\n",
    "cluster_and_stock_dict[0]['daily_return_for_viz'].head(3)"
   ]
  },
  {
   "cell_type": "code",
   "execution_count": 44,
   "metadata": {},
   "outputs": [
    {
     "data": {
      "text/html": [
       "<div>\n",
       "<style scoped>\n",
       "    .dataframe tbody tr th:only-of-type {\n",
       "        vertical-align: middle;\n",
       "    }\n",
       "\n",
       "    .dataframe tbody tr th {\n",
       "        vertical-align: top;\n",
       "    }\n",
       "\n",
       "    .dataframe thead th {\n",
       "        text-align: right;\n",
       "    }\n",
       "</style>\n",
       "<table border=\"1\" class=\"dataframe\">\n",
       "  <thead>\n",
       "    <tr style=\"text-align: right;\">\n",
       "      <th></th>\n",
       "      <th>PC_1</th>\n",
       "      <th>PC_2</th>\n",
       "      <th>cluster_label</th>\n",
       "    </tr>\n",
       "  </thead>\n",
       "  <tbody>\n",
       "    <tr>\n",
       "      <th>MMM</th>\n",
       "      <td>1.024949</td>\n",
       "      <td>0.333027</td>\n",
       "      <td>cluster_8</td>\n",
       "    </tr>\n",
       "    <tr>\n",
       "      <th>ABT</th>\n",
       "      <td>-18.107586</td>\n",
       "      <td>-3.797674</td>\n",
       "      <td>cluster_10</td>\n",
       "    </tr>\n",
       "    <tr>\n",
       "      <th>ABMD</th>\n",
       "      <td>7.626936</td>\n",
       "      <td>-16.734718</td>\n",
       "      <td>cluster_5</td>\n",
       "    </tr>\n",
       "  </tbody>\n",
       "</table>\n",
       "</div>"
      ],
      "text/plain": [
       "           PC_1       PC_2 cluster_label\n",
       "MMM    1.024949   0.333027     cluster_8\n",
       "ABT  -18.107586  -3.797674    cluster_10\n",
       "ABMD   7.626936 -16.734718     cluster_5"
      ]
     },
     "execution_count": 44,
     "metadata": {},
     "output_type": "execute_result"
    }
   ],
   "source": [
    "daily_return_for_viz = cluster_and_stock_dict[0]['daily_return_for_viz']\n",
    "daily_return_for_viz['cluster_label'] = 'cluster_' + daily_return_for_viz['cluster_label'].astype(str)\n",
    "daily_return_for_viz.head(3)"
   ]
  },
  {
   "cell_type": "code",
   "execution_count": 45,
   "metadata": {},
   "outputs": [
    {
     "data": {
      "text/plain": [
       "cluster_8     129\n",
       "cluster_10    105\n",
       "cluster_4      89\n",
       "cluster_2      82\n",
       "cluster_3      39\n",
       "cluster_5      39\n",
       "cluster_7      27\n",
       "cluster_11     27\n",
       "cluster_6      22\n",
       "cluster_9      22\n",
       "cluster_1       9\n",
       "Name: cluster_label, dtype: int64"
      ]
     },
     "execution_count": 45,
     "metadata": {},
     "output_type": "execute_result"
    }
   ],
   "source": [
    "daily_return_for_viz.loc[:,'cluster_label'].value_counts()"
   ]
  },
  {
   "cell_type": "code",
   "execution_count": 46,
   "metadata": {},
   "outputs": [
    {
     "data": {
      "text/plain": [
       "<matplotlib.legend.Legend at 0x7f71d7811748>"
      ]
     },
     "execution_count": 46,
     "metadata": {},
     "output_type": "execute_result"
    },
    {
     "data": {
      "image/png": "[encoded data removed]",
      "text/plain": [
       "<Figure size 864x576 with 1 Axes>"
      ]
     },
     "metadata": {
      "needs_background": "light"
     },
     "output_type": "display_data"
    }
   ],
   "source": [
    "plt.figure(figsize=(12,8))\n",
    "sns.scatterplot(x='PC_1', y='PC_2', hue=\"cluster_label\", data=daily_return_for_viz)\n",
    "plt.legend(bbox_to_anchor=(1.02, 1), loc=2)"
   ]
  },
  {
   "cell_type": "markdown",
   "metadata": {},
   "source": [
    "__5. Difference between `in-sample stdev` and `out-of-sample stdev`__"
   ]
  },
  {
   "cell_type": "code",
   "execution_count": 47,
   "metadata": {},
   "outputs": [
    {
     "data": {
      "text/plain": [
       "<matplotlib.axes._subplots.AxesSubplot at 0x7f7154d92518>"
      ]
     },
     "execution_count": 47,
     "metadata": {},
     "output_type": "execute_result"
    },
    {
     "data": {
      "image/png": "[encoded data removed]",
      "text/plain": [
       "<Figure size 432x288 with 1 Axes>"
      ]
     },
     "metadata": {
      "needs_background": "light"
     },
     "output_type": "display_data"
    }
   ],
   "source": [
    "(pd.Series(out_of_sample_std)/in_sample_std).plot()"
   ]
  },
  {
   "cell_type": "markdown",
   "metadata": {},
   "source": [
    "---"
   ]
  }
 ],
 "metadata": {
  "kernelspec": {
   "display_name": "Python 3",
   "language": "python",
   "name": "python3"
  },
  "language_info": {
   "codemirror_mode": {
    "name": "ipython",
    "version": 3
   },
   "file_extension": ".py",
   "mimetype": "text/x-python",
   "name": "python",
   "nbconvert_exporter": "python",
   "pygments_lexer": "ipython3",
   "version": "3.7.3"
  },
  "toc-showcode": false,
  "toc-showmarkdowntxt": false
 },
 "nbformat": 4,
 "nbformat_minor": 4
}
