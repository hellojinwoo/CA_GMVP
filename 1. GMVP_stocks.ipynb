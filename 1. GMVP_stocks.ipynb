{
 "cells": [
  {
   "cell_type": "markdown",
   "metadata": {},
   "source": [
    "# Chapter 01. GMVP on individual stocks\n",
    "\n",
    "- In this chpater, we are going to apply a global minimum variance portfolio(GMVP) on individual stocks.\n",
    "- The portfolio performance of it will be used as a first benchmark for comparison\n",
    "\n",
    "__Contents__\n",
    "\n",
    "- [__Step 01. Loading stock data__](#Step-01.-Loading-stock-data)\n",
    "- [__Step 02. Validation period performance__](#Step-02.-Validation-period-performance)\n",
    "- [__Step 03. Test period performance__](#Step-03.-Test-period-performance)\n",
    "\n",
    "reference : https://srome.github.io/Eigenvesting-II-Optimize-Your-Portfolio-With-Optimization/"
   ]
  },
  {
   "cell_type": "markdown",
   "metadata": {},
   "source": [
    "---"
   ]
  },
  {
   "cell_type": "markdown",
   "metadata": {
    "toc-hr-collapsed": true
   },
   "source": [
    "## Step 01. Loading stock data"
   ]
  },
  {
   "cell_type": "markdown",
   "metadata": {},
   "source": [
    "__1. Importing required libraries__"
   ]
  },
  {
   "cell_type": "code",
   "execution_count": 2,
   "metadata": {},
   "outputs": [
    {
     "name": "stdout",
     "output_type": "stream",
     "text": [
      "The autoreload extension is already loaded. To reload it, use:\n",
      "  %reload_ext autoreload\n"
     ]
    }
   ],
   "source": [
    "# for importing libraries again that is already imported, just in case that any change is made in libraries\n",
    "%load_ext autoreload\n",
    "%autoreload 2\n",
    "\n",
    "# libraries for general work\n",
    "import pickle\n",
    "import numpy as np\n",
    "import pandas as pd\n",
    "from tqdm import tqdm_notebook as tqdm\n",
    "\n",
    "# for computing portfolio performance\n",
    "from portfolio_performance_function import *\n",
    "\n",
    "# Disable printing all warnings on python \n",
    "import warnings\n",
    "warnings.filterwarnings(\"ignore\")\n",
    "\n",
    "# libraries related with plotting\n",
    "import seaborn as sns\n",
    "import matplotlib.pyplot as plt"
   ]
  },
  {
   "cell_type": "markdown",
   "metadata": {},
   "source": [
    "__2. Loading daily price of all stocks for indexing dates : `daily_price_df`__"
   ]
  },
  {
   "cell_type": "code",
   "execution_count": 3,
   "metadata": {},
   "outputs": [
    {
     "data": {
      "text/html": [
       "<div>\n",
       "<style scoped>\n",
       "    .dataframe tbody tr th:only-of-type {\n",
       "        vertical-align: middle;\n",
       "    }\n",
       "\n",
       "    .dataframe tbody tr th {\n",
       "        vertical-align: top;\n",
       "    }\n",
       "\n",
       "    .dataframe thead th {\n",
       "        text-align: right;\n",
       "    }\n",
       "</style>\n",
       "<table border=\"1\" class=\"dataframe\">\n",
       "  <thead>\n",
       "    <tr style=\"text-align: right;\">\n",
       "      <th></th>\n",
       "      <th>MMM</th>\n",
       "      <th>ABT</th>\n",
       "      <th>ABMD</th>\n",
       "      <th>ACHC</th>\n",
       "      <th>ATVI</th>\n",
       "      <th>ADBE</th>\n",
       "      <th>AMD</th>\n",
       "      <th>AES</th>\n",
       "      <th>AMG</th>\n",
       "      <th>AFL</th>\n",
       "      <th>...</th>\n",
       "      <th>ZBRA</th>\n",
       "      <th>ZION</th>\n",
       "      <th>XEL</th>\n",
       "      <th>XRX</th>\n",
       "      <th>XLNX</th>\n",
       "      <th>YUM</th>\n",
       "      <th>BRK-B</th>\n",
       "      <th>HEI-A</th>\n",
       "      <th>LGF-A</th>\n",
       "      <th>JW-A</th>\n",
       "    </tr>\n",
       "  </thead>\n",
       "  <tbody>\n",
       "    <tr>\n",
       "      <th>1999-11-01</th>\n",
       "      <td>26.186508</td>\n",
       "      <td>7.625059</td>\n",
       "      <td>10.2500</td>\n",
       "      <td>3.750</td>\n",
       "      <td>1.057096</td>\n",
       "      <td>17.013006</td>\n",
       "      <td>10.15625</td>\n",
       "      <td>22.383265</td>\n",
       "      <td>17.685398</td>\n",
       "      <td>5.895580</td>\n",
       "      <td>...</td>\n",
       "      <td>26.222221</td>\n",
       "      <td>44.172218</td>\n",
       "      <td>8.828288</td>\n",
       "      <td>59.627827</td>\n",
       "      <td>28.284966</td>\n",
       "      <td>4.807233</td>\n",
       "      <td>41.740002</td>\n",
       "      <td>1.899360</td>\n",
       "      <td>1.423901</td>\n",
       "      <td>12.179971</td>\n",
       "    </tr>\n",
       "    <tr>\n",
       "      <th>1999-11-02</th>\n",
       "      <td>26.430267</td>\n",
       "      <td>7.187653</td>\n",
       "      <td>10.3125</td>\n",
       "      <td>3.750</td>\n",
       "      <td>1.071191</td>\n",
       "      <td>16.888933</td>\n",
       "      <td>10.28125</td>\n",
       "      <td>22.780302</td>\n",
       "      <td>17.523146</td>\n",
       "      <td>6.068317</td>\n",
       "      <td>...</td>\n",
       "      <td>25.388889</td>\n",
       "      <td>45.481014</td>\n",
       "      <td>8.853581</td>\n",
       "      <td>57.188522</td>\n",
       "      <td>28.801279</td>\n",
       "      <td>4.733161</td>\n",
       "      <td>42.820000</td>\n",
       "      <td>1.891793</td>\n",
       "      <td>1.385417</td>\n",
       "      <td>12.134530</td>\n",
       "    </tr>\n",
       "    <tr>\n",
       "      <th>1999-11-03</th>\n",
       "      <td>26.325787</td>\n",
       "      <td>6.963037</td>\n",
       "      <td>10.2500</td>\n",
       "      <td>3.875</td>\n",
       "      <td>1.089984</td>\n",
       "      <td>17.075039</td>\n",
       "      <td>10.65625</td>\n",
       "      <td>22.209560</td>\n",
       "      <td>17.604273</td>\n",
       "      <td>6.150932</td>\n",
       "      <td>...</td>\n",
       "      <td>24.944445</td>\n",
       "      <td>44.920109</td>\n",
       "      <td>8.727110</td>\n",
       "      <td>57.324043</td>\n",
       "      <td>30.417568</td>\n",
       "      <td>4.651680</td>\n",
       "      <td>43.060001</td>\n",
       "      <td>1.755583</td>\n",
       "      <td>1.539352</td>\n",
       "      <td>11.725501</td>\n",
       "    </tr>\n",
       "  </tbody>\n",
       "</table>\n",
       "<p>3 rows × 590 columns</p>\n",
       "</div>"
      ],
      "text/plain": [
       "                  MMM       ABT     ABMD   ACHC      ATVI       ADBE  \\\n",
       "1999-11-01  26.186508  7.625059  10.2500  3.750  1.057096  17.013006   \n",
       "1999-11-02  26.430267  7.187653  10.3125  3.750  1.071191  16.888933   \n",
       "1999-11-03  26.325787  6.963037  10.2500  3.875  1.089984  17.075039   \n",
       "\n",
       "                 AMD        AES        AMG       AFL  ...       ZBRA  \\\n",
       "1999-11-01  10.15625  22.383265  17.685398  5.895580  ...  26.222221   \n",
       "1999-11-02  10.28125  22.780302  17.523146  6.068317  ...  25.388889   \n",
       "1999-11-03  10.65625  22.209560  17.604273  6.150932  ...  24.944445   \n",
       "\n",
       "                 ZION       XEL        XRX       XLNX       YUM      BRK-B  \\\n",
       "1999-11-01  44.172218  8.828288  59.627827  28.284966  4.807233  41.740002   \n",
       "1999-11-02  45.481014  8.853581  57.188522  28.801279  4.733161  42.820000   \n",
       "1999-11-03  44.920109  8.727110  57.324043  30.417568  4.651680  43.060001   \n",
       "\n",
       "               HEI-A     LGF-A       JW-A  \n",
       "1999-11-01  1.899360  1.423901  12.179971  \n",
       "1999-11-02  1.891793  1.385417  12.134530  \n",
       "1999-11-03  1.755583  1.539352  11.725501  \n",
       "\n",
       "[3 rows x 590 columns]"
      ]
     },
     "execution_count": 3,
     "metadata": {},
     "output_type": "execute_result"
    }
   ],
   "source": [
    "# Loading\n",
    "with open('./data/russel1000_daily_price_df.pickle', 'rb') as f:\n",
    "    daily_price_df = pickle.load(f)\n",
    "del daily_price_df.index.name\n",
    "\n",
    "daily_price_df.head(3)"
   ]
  },
  {
   "cell_type": "markdown",
   "metadata": {},
   "source": [
    "__3. Creating a list of all tickers : `all_tickers_list`__"
   ]
  },
  {
   "cell_type": "code",
   "execution_count": 4,
   "metadata": {},
   "outputs": [],
   "source": [
    "all_tickers_list = list(daily_price_df.columns)"
   ]
  },
  {
   "cell_type": "markdown",
   "metadata": {},
   "source": [
    "__4. Loading a grouped daily return data for validation : `daily_return_df_list_validation`__"
   ]
  },
  {
   "cell_type": "code",
   "execution_count": 5,
   "metadata": {},
   "outputs": [
    {
     "name": "stdout",
     "output_type": "stream",
     "text": [
      "Total number of portfolio rebalancing  : 47\n",
      "shape of dataframe : (252, 590)\n"
     ]
    }
   ],
   "source": [
    "# Loading\n",
    "with open('./data/russel1000_daily_return_df_validation.pickle', 'rb') as f:\n",
    "    daily_return_df_list_validation = pickle.load(f)\n",
    "    \n",
    "print(f\"Total number of portfolio rebalancing  : {len(daily_return_df_list_validation)}\" )\n",
    "print(f\"shape of dataframe : {daily_return_df_list_validation[0].shape}\" )"
   ]
  },
  {
   "cell_type": "code",
   "execution_count": 6,
   "metadata": {},
   "outputs": [
    {
     "data": {
      "text/plain": [
       "DatetimeIndex(['1999-11-02', '1999-11-03', '1999-11-04', '1999-11-05',\n",
       "               '1999-11-08', '1999-11-09', '1999-11-10', '1999-11-11',\n",
       "               '1999-11-12', '1999-11-15',\n",
       "               ...\n",
       "               '2000-10-17', '2000-10-18', '2000-10-19', '2000-10-20',\n",
       "               '2000-10-23', '2000-10-24', '2000-10-25', '2000-10-26',\n",
       "               '2000-10-27', '2000-10-30'],\n",
       "              dtype='datetime64[ns]', length=252, freq=None)"
      ]
     },
     "execution_count": 6,
     "metadata": {},
     "output_type": "execute_result"
    }
   ],
   "source": [
    "daily_return_df_list_validation[0].index"
   ]
  },
  {
   "cell_type": "code",
   "execution_count": 7,
   "metadata": {},
   "outputs": [
    {
     "name": "stdout",
     "output_type": "stream",
     "text": [
      "---validation---\n",
      "first day date: 2000-10-31\n",
      "last day date: 2011-10-20\n"
     ]
    }
   ],
   "source": [
    "print(\"---validation---\")\n",
    "print(f\"first day date: {daily_return_df_list_validation[1].index[-60].date()}\")\n",
    "print(f\"last day date: {daily_return_df_list_validation[-1].index[-1].date()}\")"
   ]
  },
  {
   "cell_type": "code",
   "execution_count": 8,
   "metadata": {},
   "outputs": [],
   "source": [
    "# investment dates\n",
    "investment_dates_validation = daily_price_df.loc['2000-10-31':'2011-10-20',:].index"
   ]
  },
  {
   "cell_type": "code",
   "execution_count": 9,
   "metadata": {},
   "outputs": [
    {
     "data": {
      "text/plain": [
       "2760"
      ]
     },
     "execution_count": 9,
     "metadata": {},
     "output_type": "execute_result"
    }
   ],
   "source": [
    "len(investment_dates_validation)"
   ]
  },
  {
   "cell_type": "markdown",
   "metadata": {},
   "source": [
    "__5. Loading a grouped daily return data for test : `daily_return_df_list_test`__"
   ]
  },
  {
   "cell_type": "code",
   "execution_count": 10,
   "metadata": {},
   "outputs": [
    {
     "name": "stdout",
     "output_type": "stream",
     "text": [
      "Total number of portfolio rebalancing : 31\n",
      "shape of dataframe : (252, 590)\n"
     ]
    }
   ],
   "source": [
    "# Loading\n",
    "with open('./data/russel1000_daily_return_df_test.pickle', 'rb') as f:\n",
    "    daily_return_df_list_test = pickle.load(f)\n",
    "    \n",
    "print(f\"Total number of portfolio rebalancing : {len(daily_return_df_list_test)}\" )\n",
    "print(f\"shape of dataframe : {daily_return_df_list_test[0].shape}\" )"
   ]
  },
  {
   "cell_type": "code",
   "execution_count": 11,
   "metadata": {},
   "outputs": [
    {
     "name": "stdout",
     "output_type": "stream",
     "text": [
      "---test---\n",
      "first day date: 2012-10-04\n",
      "last day date: 2019-11-29\n"
     ]
    }
   ],
   "source": [
    "print(\"---test---\")\n",
    "print(f\"first day date: {daily_return_df_list_test[1].index[-60].date()}\")\n",
    "print(f\"last day date: {daily_return_df_list_test[-1].index[-1].date()}\")"
   ]
  },
  {
   "cell_type": "code",
   "execution_count": 12,
   "metadata": {},
   "outputs": [],
   "source": [
    "# investment dates\n",
    "investment_dates_test = daily_price_df.loc['2012-10-04':'2019-11-29',:].index"
   ]
  },
  {
   "cell_type": "code",
   "execution_count": 13,
   "metadata": {},
   "outputs": [
    {
     "data": {
      "text/plain": [
       "1800"
      ]
     },
     "execution_count": 13,
     "metadata": {},
     "output_type": "execute_result"
    }
   ],
   "source": [
    "len(investment_dates_test)"
   ]
  },
  {
   "cell_type": "markdown",
   "metadata": {},
   "source": [
    "---"
   ]
  },
  {
   "cell_type": "markdown",
   "metadata": {
    "toc-hr-collapsed": true
   },
   "source": [
    "## Step 02. Validation period performance"
   ]
  },
  {
   "cell_type": "markdown",
   "metadata": {},
   "source": [
    "- We have 2 different time periods, validation_period and test_period for performing a portfolio optimization.\n",
    "    - `Validation period` : 1999-11-02 ~ 2011-10-20\n",
    "    - `Test period` : 2011-10-20 ~ 2019-11-29\n",
    "- When we use computational clustering methods such as 'hierarchical clustering', we use validation period to decide upon which hyper-parameters produces the best outcome.\n",
    "- Since we do not have any hyper-parameters in sector-based GMVP, we do not need to control hyper-parameters in this chapter.\n",
    "\n",
    "<img src =\"images/image_1.png\" align='center' width = '700'>"
   ]
  },
  {
   "cell_type": "markdown",
   "metadata": {},
   "source": [
    "__1. Portfolio optimization for validation period__\n",
    "- __Input :__  \n",
    "    1. daily_return_df_list_validation\n",
    "- __Output :__  \n",
    "    1. portfolio_weights_list  \n",
    "    2. portfolio_daily_returns_list   \n",
    "    3. in_sample_stdev_list  \n",
    "    4. out_of_sample_stdev_list  "
   ]
  },
  {
   "cell_type": "code",
   "execution_count": 28,
   "metadata": {},
   "outputs": [
    {
     "data": {
      "application/vnd.jupyter.widget-view+json": {
       "model_id": "a18605a2c0fe432a9a47c109c36b8074",
       "version_major": 2,
       "version_minor": 0
      },
      "text/plain": [
       "HBox(children=(FloatProgress(value=0.0, max=47.0), HTML(value='')))"
      ]
     },
     "metadata": {},
     "output_type": "display_data"
    },
    {
     "name": "stdout",
     "output_type": "stream",
     "text": [
      "\n"
     ]
    }
   ],
   "source": [
    "rebalancing_period = 60\n",
    "\n",
    "portfolio_weights_df_list = []\n",
    "daily_portfolio_returns_list = []\n",
    "in_sample_stdev_list = []\n",
    "out_of_sample_stdev_list = []\n",
    "\n",
    "for time_index in tqdm(range(len(daily_return_df_list_validation))):\n",
    "\n",
    "    selected_stocks_data = (daily_return_df_list_validation[time_index])\n",
    "\n",
    "    cov_mat = selected_stocks_data.cov()\n",
    "    cov_mat_values = cov_mat.values\n",
    "    inv_cov_mat = np.linalg.pinv(cov_mat_values) # Use pseudo-inverse incase matrix is singular / ill-conditioned\n",
    "\n",
    "    # get the portfolio weights\n",
    "    ones = np.ones(len(inv_cov_mat))\n",
    "    inv_dot_ones = np.dot(inv_cov_mat, ones)\n",
    "    portfolio_weights = inv_dot_ones/ np.dot(inv_dot_ones, ones)\n",
    "    portfolio_weights_df = pd.DataFrame(data= portfolio_weights, columns = ['weight'], index = all_tickers_list).sort_values(by=['weight'], ascending = False)\n",
    "    portfolio_weights_df_list.append(portfolio_weights_df)\n",
    "    \n",
    "    in_sample_variance = np.dot(portfolio_weights, np.dot(cov_mat_values, portfolio_weights))\n",
    "    in_sample_stdev = np.sqrt(in_sample_variance)\n",
    "\n",
    "    # we should use 'index+1' ; we optimize portfolio at the time point 'index' and see how it goes for the time period from 'index' to 'index+1'\n",
    "    if (time_index+1) < len(daily_return_df_list_validation):\n",
    "\n",
    "        in_sample_stdev_list.append(in_sample_stdev)\n",
    "\n",
    "        next_session_daily_return = daily_return_df_list_validation[time_index+1]\n",
    "        weighted_returns = (next_session_daily_return * portfolio_weights)\n",
    "\n",
    "        # using the portfolio weights, get the daily portfolio returns\n",
    "        portfolio_daily_returns = weighted_returns.sum(axis=1)[-rebalancing_period:]\n",
    "        out_of_sample_stdev_list.append(portfolio_daily_returns.std())\n",
    "        daily_portfolio_returns_list.extend(portfolio_daily_returns)\n",
    "\n",
    "daily_portfolio_returns_array = np.array(daily_portfolio_returns_list)"
   ]
  },
  {
   "cell_type": "code",
   "execution_count": 29,
   "metadata": {},
   "outputs": [],
   "source": [
    "result_dict_validation = {'daily_return' : daily_portfolio_returns_array,\n",
    "                          'in_sample_stdev' : in_sample_stdev_list,\n",
    "                          'out_of_sample_stdev' : out_of_sample_stdev_list,\n",
    "                          'portfolio_weights' : portfolio_weights_df_list}"
   ]
  },
  {
   "cell_type": "code",
   "execution_count": 31,
   "metadata": {},
   "outputs": [],
   "source": [
    "# # Saving\n",
    "# with open('result/1. GMVP_stocks_result_validation.pickle', 'wb') as f: # \n",
    "#     pickle.dump(result_dict_validation, f, pickle.HIGHEST_PROTOCOL)"
   ]
  },
  {
   "cell_type": "code",
   "execution_count": 32,
   "metadata": {},
   "outputs": [],
   "source": [
    "# Loading\n",
    "with open('result/1. GMVP_stocks_result_validation.pickle', 'rb') as f:\n",
    "    result_dict_validation = pickle.load(f)"
   ]
  },
  {
   "cell_type": "markdown",
   "metadata": {},
   "source": [
    "__2. Performance check-up__"
   ]
  },
  {
   "cell_type": "code",
   "execution_count": 33,
   "metadata": {},
   "outputs": [
    {
     "name": "stdout",
     "output_type": "stream",
     "text": [
      "in-sample stdev : 0.00352\n",
      "out-of-sample stdev : 0.00673\n",
      "------------------------------\n",
      "downside_std : 0.00582\n",
      "MDD : -50.25%\n",
      "CVaR_95 : -1.35%\n"
     ]
    }
   ],
   "source": [
    "# estimated_std\n",
    "print(f\"in-sample stdev : {pd.Series(in_sample_stdev_list).mean():.5f}\")\n",
    "# realized_std\n",
    "print(f\"out-of-sample stdev : {pd.Series(out_of_sample_stdev_list).mean():.5f}\")\n",
    "print('------------------------------')\n",
    "# downside_std\n",
    "print(f\"downside_std : {get_single_downside_stdev(daily_portfolio_returns_array):.5f}\")\n",
    "# MDD\n",
    "print(f\"MDD : {get_maximum_drawdown(daily_portfolio_returns_array)*100:.2f}%\")\n",
    "# CVaR_95\n",
    "print(f\"CVaR_95 : {get_cvar_95(daily_portfolio_returns_array)*100:.2f}%\")"
   ]
  },
  {
   "cell_type": "code",
   "execution_count": 34,
   "metadata": {},
   "outputs": [
    {
     "data": {
      "image/png": "[encoded data removed]",
      "text/plain": [
       "<Figure size 432x288 with 1 Axes>"
      ]
     },
     "metadata": {
      "needs_background": "light"
     },
     "output_type": "display_data"
    }
   ],
   "source": [
    "# cumulative wealth\n",
    "(pd.DataFrame(daily_portfolio_returns_array, index=investment_dates_validation , columns=['stocks'])+1).cumprod().plot();"
   ]
  },
  {
   "cell_type": "markdown",
   "metadata": {},
   "source": [
    "---"
   ]
  },
  {
   "cell_type": "markdown",
   "metadata": {
    "toc-hr-collapsed": true
   },
   "source": [
    "## Step 03. Test period performance"
   ]
  },
  {
   "cell_type": "markdown",
   "metadata": {},
   "source": [
    "__1. Portfolio optimization for test period__\n",
    "- __Input :__  \n",
    "    1. daily_return_df_list_validation\n",
    "- __Output :__  \n",
    "    1. portfolio_weights_list  \n",
    "    2. daily_portfolio_returns_array  \n",
    "    3. in_sample_stdev_list  \n",
    "    4. out_of_sample_stdev_list  "
   ]
  },
  {
   "cell_type": "code",
   "execution_count": 35,
   "metadata": {},
   "outputs": [
    {
     "data": {
      "application/vnd.jupyter.widget-view+json": {
       "model_id": "6c286a3d3313439b887918c59418171a",
       "version_major": 2,
       "version_minor": 0
      },
      "text/plain": [
       "HBox(children=(FloatProgress(value=0.0, max=31.0), HTML(value='')))"
      ]
     },
     "metadata": {},
     "output_type": "display_data"
    },
    {
     "name": "stdout",
     "output_type": "stream",
     "text": [
      "\n"
     ]
    }
   ],
   "source": [
    "rebalancing_period = 60\n",
    "\n",
    "portfolio_weights_list = []\n",
    "daily_portfolio_returns_list = []\n",
    "in_sample_stdev_list = []\n",
    "out_of_sample_stdev_list = []\n",
    "\n",
    "for time_index in tqdm(range(len(daily_return_df_list_test))):\n",
    "\n",
    "    selected_stocks_data = (daily_return_df_list_test[time_index])\n",
    "\n",
    "    cov_mat = selected_stocks_data.cov()\n",
    "    cov_mat_values = cov_mat.values\n",
    "    inv_cov_mat = np.linalg.pinv(cov_mat_values) # Use pseudo-inverse incase matrix is singular / ill-conditioned\n",
    "\n",
    "    # Construct minimum variance weights\n",
    "    ones = np.ones(len(inv_cov_mat))\n",
    "    inv_dot_ones = np.dot(inv_cov_mat, ones)\n",
    "    portfolio_weights = inv_dot_ones/ np.dot(inv_dot_ones, ones)\n",
    "    portfolio_weights_df = pd.DataFrame(data= portfolio_weights, columns = ['weight'], index = all_tickers_list).sort_values(by=['weight'], ascending = False)\n",
    "    portfolio_weights_df_list.append(portfolio_weights_df)\n",
    "    \n",
    "    in_sample_variance = np.dot(portfolio_weights, np.dot(cov_mat_values, portfolio_weights))\n",
    "    in_sample_stdev = np.sqrt(in_sample_variance)\n",
    "\n",
    "    # we should use 'index+1' ; we optimize portfolio at the time point 'index' and see how it goes for the time period from 'index' to 'index+1'\n",
    "    if (time_index+1) < len(daily_return_df_list_test):\n",
    "\n",
    "        in_sample_stdev_list.append(in_sample_stdev)\n",
    "\n",
    "        next_session_daily_return = daily_return_df_list_test[time_index+1]\n",
    "        weighted_returns = (next_session_daily_return * portfolio_weights)\n",
    "\n",
    "        # out of 180 days, the first 160 days are overlappign with each other\n",
    "        portfolio_daily_returns = weighted_returns.sum(axis=1)[-rebalancing_period:]\n",
    "        out_of_sample_stdev_list.append(portfolio_daily_returns.std())\n",
    "        daily_portfolio_returns_list.extend(portfolio_daily_returns)\n",
    "\n",
    "daily_portfolio_returns_array = np.array(daily_portfolio_returns_list)"
   ]
  },
  {
   "cell_type": "code",
   "execution_count": 36,
   "metadata": {},
   "outputs": [],
   "source": [
    "result_dict_test = {'daily_return' : daily_portfolio_returns_array,\n",
    "                    'in_sample_stdev' : in_sample_stdev_list,\n",
    "                    'out_of_sample_stdev' : out_of_sample_stdev_list,\n",
    "                    'portfolio_weights' : portfolio_weights_df_list}"
   ]
  },
  {
   "cell_type": "code",
   "execution_count": 37,
   "metadata": {},
   "outputs": [],
   "source": [
    "# # Saving\n",
    "# with open('result/1. GMVP_stocks_result_test.pickle', 'wb') as f: # \n",
    "#     pickle.dump(result_dict_test, f, pickle.HIGHEST_PROTOCOL)"
   ]
  },
  {
   "cell_type": "code",
   "execution_count": 38,
   "metadata": {},
   "outputs": [],
   "source": [
    "# Loading\n",
    "with open('result/1. GMVP_stocks_result_test.pickle', 'rb') as f:\n",
    "    result_dict_test = pickle.load(f)"
   ]
  },
  {
   "cell_type": "markdown",
   "metadata": {},
   "source": [
    "__2. Performance check-up__"
   ]
  },
  {
   "cell_type": "code",
   "execution_count": 39,
   "metadata": {},
   "outputs": [
    {
     "name": "stdout",
     "output_type": "stream",
     "text": [
      "in-sample stdev : 0.00309\n",
      "out-of-sample stdev : 0.00599\n",
      "------------------------------\n",
      "downside_std : 0.00435\n",
      "MDD : -15.40%\n",
      "CVaR_95 : -1.12%\n"
     ]
    }
   ],
   "source": [
    "# estimated_std\n",
    "print(f\"in-sample stdev : {pd.Series(in_sample_stdev_list).mean():.5f}\")\n",
    "# realized_std\n",
    "print(f\"out-of-sample stdev : {pd.Series(out_of_sample_stdev_list).mean():.5f}\")\n",
    "print('------------------------------')\n",
    "# downside_std\n",
    "print(f\"downside_std : {get_single_downside_stdev(daily_portfolio_returns_array):.5f}\")\n",
    "# MDD\n",
    "print(f\"MDD : {get_maximum_drawdown(daily_portfolio_returns_array)*100:.2f}%\")\n",
    "# CVaR_95\n",
    "print(f\"CVaR_95 : {get_cvar_95(daily_portfolio_returns_array)*100:.2f}%\")"
   ]
  },
  {
   "cell_type": "code",
   "execution_count": 40,
   "metadata": {},
   "outputs": [
    {
     "data": {
      "image/png": "[encoded data removed]",
      "text/plain": [
       "<Figure size 432x288 with 1 Axes>"
      ]
     },
     "metadata": {
      "needs_background": "light"
     },
     "output_type": "display_data"
    }
   ],
   "source": [
    "# cumulative wealth\n",
    "(pd.DataFrame(daily_portfolio_returns_array, index=investment_dates_test , columns=['stocks'])+1).cumprod().plot();"
   ]
  },
  {
   "cell_type": "markdown",
   "metadata": {},
   "source": [
    "__Portfolio weights__"
   ]
  },
  {
   "cell_type": "code",
   "execution_count": 41,
   "metadata": {},
   "outputs": [
    {
     "name": "stdout",
     "output_type": "stream",
     "text": [
      "time index : 0\n",
      "maximum weight: IR, 2.29%\n",
      "minimum weight: ACGL, -2.12%\n"
     ]
    }
   ],
   "source": [
    "time_index = 0\n",
    "\n",
    "print(f\"time index : {time_index}\")\n",
    "weight_df = portfolio_weights_df_list[time_index]\n",
    "print(f\"maximum weight: {weight_df.index[-1]}, {weight_df.iloc[0,0]*100:.2f}%\")\n",
    "print(f\"minimum weight: {weight_df.index[0]}, {weight_df.iloc[-1,0]*100:.2f}%\")"
   ]
  },
  {
   "cell_type": "markdown",
   "metadata": {},
   "source": [
    "__Difference between `in-sample stdev` and `out-of-sample stdev`__"
   ]
  },
  {
   "cell_type": "code",
   "execution_count": 42,
   "metadata": {},
   "outputs": [
    {
     "data": {
      "text/plain": [
       "<matplotlib.axes._subplots.AxesSubplot at 0x7f53f17c26a0>"
      ]
     },
     "execution_count": 42,
     "metadata": {},
     "output_type": "execute_result"
    },
    {
     "data": {
      "image/png": "[encoded data removed]",
      "text/plain": [
       "<Figure size 432x288 with 1 Axes>"
      ]
     },
     "metadata": {
      "needs_background": "light"
     },
     "output_type": "display_data"
    }
   ],
   "source": [
    "(pd.Series(out_of_sample_stdev_list)/pd.Series(in_sample_stdev_list)).plot()"
   ]
  }
 ],
 "metadata": {
  "kernelspec": {
   "display_name": "Python 3",
   "language": "python",
   "name": "python3"
  },
  "language_info": {
   "codemirror_mode": {
    "name": "ipython",
    "version": 3
   },
   "file_extension": ".py",
   "mimetype": "text/x-python",
   "name": "python",
   "nbconvert_exporter": "python",
   "pygments_lexer": "ipython3",
   "version": "3.7.3"
  },
  "toc-showcode": false,
  "toc-showmarkdowntxt": false
 },
 "nbformat": 4,
 "nbformat_minor": 4
}
