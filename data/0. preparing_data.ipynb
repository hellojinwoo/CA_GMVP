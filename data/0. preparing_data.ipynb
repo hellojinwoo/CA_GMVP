{
 "cells": [
  {
   "cell_type": "markdown",
   "metadata": {},
   "source": [
    "# __Chapter 0. Preparing data__\n",
    "\n",
    "- In this chapter, we are going to download the '__adjusted closing price__' of stocks listed in the stock index __Russel 1000__. \n",
    "- The reason that we use Russel 1000 instead of S&P 500 is that the number of stocks left is not many when we filter stocks with missing values from 1999 to 2019, if we use S&P 500.\n",
    "- We are aware of that filtering stocks with missing values will cause __Survivorship bias__. This will be fixed in the future research\n",
    "- The adjusted closing price is going to turn into daily returns of stocks and then be used when we optimize a portfolio.\n",
    "\n",
    "#### __Description of Data__\n",
    "- __Timespan :__ Nov.1999 - Nov.2019 (recent 20 years)\n",
    "- __Stock index used :__ Russel 1000\n",
    "- __Source :__ Yahoo Finance\n",
    "- __Library used for downloading data__ : Pandas datareader\n",
    "\n",
    "#### __Contents__\n",
    "\n",
    "- [__Step 01. Loading stock data__](#Step-01.-Loading-stock-data)\n",
    "- [__Step 02. Filtering tickers__](#Step-02.-Filtering-tickers)\n",
    "- [__Step 03. Creating a daily_price_df__](#Step-03.-Creating-a-daily_price_df)\n",
    "- [__Step 04. Grouping daily_return by a year__](#Step-04.-Grouping-daily_return-by-a-year)\n",
    "- [__Step 05. Downloading industry information__](#Step-05.-Downloading-industry-information)"
   ]
  },
  {
   "cell_type": "markdown",
   "metadata": {},
   "source": [
    "---"
   ]
  },
  {
   "cell_type": "markdown",
   "metadata": {
    "toc-hr-collapsed": true,
    "toc-nb-collapsed": true
   },
   "source": [
    "## Step 01. Loading stock data"
   ]
  },
  {
   "cell_type": "markdown",
   "metadata": {},
   "source": [
    "__1. Importing required libraries__"
   ]
  },
  {
   "cell_type": "code",
   "execution_count": 1,
   "metadata": {},
   "outputs": [],
   "source": [
    "# for importing libraries again that is already imported, just in case that any change is made in libraries\n",
    "%load_ext autoreload\n",
    "%autoreload 2\n",
    "\n",
    "# libraries for general work\n",
    "import pickle\n",
    "import numpy as np\n",
    "import pandas as pd\n",
    "from tqdm import tqdm_notebook as tqdm\n",
    "\n",
    "# for downloading stock data\n",
    "import pandas_datareader.data as pdr\n",
    "import datetime\n",
    "\n",
    "# for downloading industry information of each company\n",
    "# source : https://github.com/davidastephens/pandas-finance\n",
    "from pandas_finance import Equity\n",
    "\n",
    "# Disable printing all warnings on python \n",
    "import warnings\n",
    "warnings.filterwarnings(\"ignore\")"
   ]
  },
  {
   "cell_type": "markdown",
   "metadata": {},
   "source": [
    "__2. Loading Russel 1000 index constituents__\n",
    "- loading the tickers consisting the Russel 1000 index from the beginning of __Nov.1999__ till the end of __Nov.2019__"
   ]
  },
  {
   "cell_type": "code",
   "execution_count": 2,
   "metadata": {},
   "outputs": [
    {
     "data": {
      "text/plain": [
       "['TWOU', 'MMM', 'ABT', 'ABBV', 'ABMD']"
      ]
     },
     "execution_count": 2,
     "metadata": {},
     "output_type": "execute_result"
    }
   ],
   "source": [
    "russel1000_tickers = pd.read_csv(\"./russel1000_constituents.csv\", header=None)\n",
    "russel1000_tickers = list(russel1000_tickers.iloc[:,0])\n",
    "russel1000_tickers[:5]"
   ]
  },
  {
   "cell_type": "code",
   "execution_count": 3,
   "metadata": {},
   "outputs": [
    {
     "data": {
      "text/plain": [
       "968"
      ]
     },
     "execution_count": 3,
     "metadata": {},
     "output_type": "execute_result"
    }
   ],
   "source": [
    "len(russel1000_tickers)"
   ]
  },
  {
   "cell_type": "markdown",
   "metadata": {},
   "source": [
    "__3. Setting dates of `start` and `end` (the start and end dates when we download stocks)__"
   ]
  },
  {
   "cell_type": "code",
   "execution_count": 4,
   "metadata": {},
   "outputs": [],
   "source": [
    "# We will look at stock prices over the past year, starting at January 1, 2016\n",
    "start = (1999, 11, 1)\n",
    "start = datetime.datetime(*start)\n",
    "end = (2019, 12, 1)\n",
    "end = datetime.datetime(*end)"
   ]
  },
  {
   "cell_type": "markdown",
   "metadata": {},
   "source": [
    "__4. Download stock data__"
   ]
  },
  {
   "cell_type": "code",
   "execution_count": 5,
   "metadata": {},
   "outputs": [
    {
     "data": {
      "application/vnd.jupyter.widget-view+json": {
       "model_id": "6e34f22fe95f4fe3b447f5a54a1f4a44",
       "version_major": 2,
       "version_minor": 0
      },
      "text/plain": [
       "HBox(children=(HTML(value=''), FloatProgress(value=0.0, max=968.0), HTML(value='')))"
      ]
     },
     "metadata": {},
     "output_type": "display_data"
    },
    {
     "name": "stdout",
     "output_type": "stream",
     "text": [
      "The following ticker made an error : AGN\n",
      "The following ticker made an error : APY\n",
      "The following ticker made an error : WTR\n",
      "The following ticker made an error : BHGE\n",
      "The following ticker made an error : BBT\n",
      "The following ticker made an error : BRK.B\n",
      "The following ticker made an error : BPR\n",
      "The following ticker made an error : BFA\n",
      "The following ticker made an error : BFB\n",
      "The following ticker made an error : CBS\n",
      "The following ticker made an error : CELG\n",
      "The following ticker made an error : CTL\n",
      "The following ticker made an error : CHK\n",
      "The following ticker made an error : CXO\n",
      "The following ticker made an error : CY\n",
      "The following ticker made an error : DPS\n",
      "The following ticker made an error : DNB\n",
      "The following ticker made an error : DNKN\n",
      "The following ticker made an error : ETFC\n",
      "The following ticker made an error : EQC\n",
      "The following ticker made an error : XOG\n",
      "The following ticker made an error : FDC\n",
      "The following ticker made an error : GLIBA\n",
      "The following ticker made an error : GWR\n",
      "The following ticker made an error : HCP\n",
      "The following ticker made an error : HDS\n",
      "The following ticker made an error : HEI.A\n",
      "The following ticker made an error : GDI\n",
      "The following ticker made an error : HPT\n",
      "The following ticker made an error : LM\n",
      "The following ticker made an error : LEN.B\n",
      "The following ticker made an error : JEC\n",
      "The following ticker made an error : LGF.A\n",
      "The following ticker made an error : LOGM\n",
      "The following ticker made an error : MSG\n",
      "The following ticker made an error : LPT\n",
      "The following ticker made an error : MDLZ\n",
      "The following ticker made an error : MYL\n",
      "The following ticker made an error : NCR\n",
      "The following ticker made an error : PE\n",
      "The following ticker made an error : NBL\n",
      "The following ticker made an error : RTN\n",
      "The following ticker made an error : S\n",
      "The following ticker made an error : STI\n",
      "The following ticker made an error : SNH\n",
      "The following ticker made an error : SERV\n",
      "The following ticker made an error : TCO\n",
      "The following ticker made an error : AMTD\n",
      "The following ticker made an error : TIF\n",
      "The following ticker made an error : TMK\n",
      "The following ticker made an error : TRCO\n",
      "The following ticker made an error : SYMC\n",
      "The following ticker made an error : DATA\n",
      "The following ticker made an error : ULTI\n",
      "The following ticker made an error : X\n",
      "The following ticker made an error : UTX\n",
      "The following ticker made an error : VMI\n",
      "The following ticker made an error : VSM\n",
      "The following ticker made an error : VIA\n",
      "The following ticker made an error : USG\n",
      "The following ticker made an error : UBNT\n",
      "The following ticker made an error : WBC\n",
      "The following ticker made an error : WFT\n",
      "The following ticker made an error : WCG\n",
      "The following ticker made an error : JW.A\n",
      "The following ticker made an error : WP\n",
      "The following ticker made an error : WPX\n",
      "The following ticker made an error : WYND\n",
      "The following ticker made an error : VIAB\n",
      "The following ticker made an error : ZAYO\n",
      "\n"
     ]
    }
   ],
   "source": [
    "stock_data_dict = {}\n",
    "missing_tickers = []\n",
    "\n",
    "for ticker in tqdm(russel1000_tickers):\n",
    "    try:\n",
    "        stock_data = pdr.DataReader(ticker, 'yahoo', start, end)\n",
    "        stock_data_dict[ticker] = stock_data\n",
    "    except:\n",
    "        print(f\"The following ticker made an error : {ticker}\")\n",
    "        missing_tickers.append(ticker)"
   ]
  },
  {
   "cell_type": "code",
   "execution_count": 6,
   "metadata": {},
   "outputs": [
    {
     "data": {
      "text/plain": [
       "898"
      ]
     },
     "execution_count": 6,
     "metadata": {},
     "output_type": "execute_result"
    }
   ],
   "source": [
    "len(stock_data_dict)"
   ]
  },
  {
   "cell_type": "code",
   "execution_count": 7,
   "metadata": {},
   "outputs": [
    {
     "data": {
      "text/plain": [
       "70"
      ]
     },
     "execution_count": 7,
     "metadata": {},
     "output_type": "execute_result"
    }
   ],
   "source": [
    "len(missing_tickers)"
   ]
  },
  {
   "cell_type": "markdown",
   "metadata": {},
   "source": [
    "__5. Checking `missing_tickers` once again__"
   ]
  },
  {
   "cell_type": "code",
   "execution_count": 8,
   "metadata": {},
   "outputs": [],
   "source": [
    "replaced_missing_tickers = []\n",
    "\n",
    "for ticker in missing_tickers:\n",
    "    replaced_ticker = ticker.replace('.','-')\n",
    "    replaced_missing_tickers.append(replaced_ticker)"
   ]
  },
  {
   "cell_type": "code",
   "execution_count": 9,
   "metadata": {},
   "outputs": [
    {
     "data": {
      "application/vnd.jupyter.widget-view+json": {
       "model_id": "e2cfe7714c99412a822793be3cb5f35b",
       "version_major": 2,
       "version_minor": 0
      },
      "text/plain": [
       "HBox(children=(HTML(value=''), FloatProgress(value=0.0, max=70.0), HTML(value='')))"
      ]
     },
     "metadata": {},
     "output_type": "display_data"
    },
    {
     "name": "stdout",
     "output_type": "stream",
     "text": [
      "The following ticker made an error : AGN\n",
      "The following ticker made an error : APY\n",
      "The following ticker made an error : WTR\n",
      "The following ticker made an error : BHGE\n",
      "The following ticker made an error : BBT\n",
      "The following ticker made an error : BPR\n",
      "The following ticker made an error : BFA\n",
      "The following ticker made an error : BFB\n",
      "The following ticker made an error : CBS\n",
      "The following ticker made an error : CELG\n",
      "The following ticker made an error : CTL\n",
      "The following ticker made an error : CHK\n",
      "The following ticker made an error : CXO\n",
      "The following ticker made an error : CY\n",
      "The following ticker made an error : DPS\n",
      "The following ticker made an error : DNB\n",
      "The following ticker made an error : DNKN\n",
      "The following ticker made an error : ETFC\n",
      "The following ticker made an error : XOG\n",
      "The following ticker made an error : FDC\n",
      "The following ticker made an error : GLIBA\n",
      "The following ticker made an error : GWR\n",
      "The following ticker made an error : HCP\n",
      "The following ticker made an error : HDS\n",
      "The following ticker made an error : GDI\n",
      "The following ticker made an error : HPT\n",
      "The following ticker made an error : LM\n",
      "The following ticker made an error : JEC\n",
      "The following ticker made an error : LOGM\n",
      "The following ticker made an error : MSG\n",
      "The following ticker made an error : LPT\n",
      "The following ticker made an error : MYL\n",
      "The following ticker made an error : PE\n",
      "The following ticker made an error : NBL\n",
      "The following ticker made an error : RTN\n",
      "The following ticker made an error : S\n",
      "The following ticker made an error : STI\n",
      "The following ticker made an error : SNH\n",
      "The following ticker made an error : SERV\n",
      "The following ticker made an error : TCO\n",
      "The following ticker made an error : AMTD\n",
      "The following ticker made an error : TIF\n",
      "The following ticker made an error : TMK\n",
      "The following ticker made an error : TRCO\n",
      "The following ticker made an error : SYMC\n",
      "The following ticker made an error : DATA\n",
      "The following ticker made an error : ULTI\n",
      "The following ticker made an error : UTX\n",
      "The following ticker made an error : VSM\n",
      "The following ticker made an error : VIA\n",
      "The following ticker made an error : USG\n",
      "The following ticker made an error : UBNT\n",
      "The following ticker made an error : WBC\n",
      "The following ticker made an error : WFT\n",
      "The following ticker made an error : WCG\n",
      "The following ticker made an error : WP\n",
      "The following ticker made an error : WPX\n",
      "The following ticker made an error : WYND\n",
      "The following ticker made an error : VIAB\n",
      "The following ticker made an error : ZAYO\n",
      "\n"
     ]
    }
   ],
   "source": [
    "for ticker in tqdm(replaced_missing_tickers):\n",
    "    try:\n",
    "        stock_data = pdr.DataReader(ticker, 'yahoo', start, end)\n",
    "        stock_data_dict[ticker] = stock_data\n",
    "    except:\n",
    "        print(f\"The following ticker made an error : {ticker}\")\n",
    "        missing_tickers.append(ticker)"
   ]
  },
  {
   "cell_type": "code",
   "execution_count": 10,
   "metadata": {},
   "outputs": [
    {
     "data": {
      "text/plain": [
       "908"
      ]
     },
     "execution_count": 10,
     "metadata": {},
     "output_type": "execute_result"
    }
   ],
   "source": [
    "len(stock_data_dict)"
   ]
  },
  {
   "cell_type": "code",
   "execution_count": 11,
   "metadata": {},
   "outputs": [],
   "source": [
    "# Saving\n",
    "with open('russel1000_raw_data_dict.pickle', 'wb') as f: # \n",
    "    pickle.dump(stock_data_dict, f, pickle.HIGHEST_PROTOCOL)"
   ]
  },
  {
   "cell_type": "markdown",
   "metadata": {},
   "source": [
    "---"
   ]
  },
  {
   "cell_type": "markdown",
   "metadata": {},
   "source": [
    "## Step 02. Filtering tickers"
   ]
  },
  {
   "cell_type": "markdown",
   "metadata": {},
   "source": [
    "__1. Filtering tickers with missing value__"
   ]
  },
  {
   "cell_type": "code",
   "execution_count": 12,
   "metadata": {},
   "outputs": [],
   "source": [
    "ticker_list_in_stock_data_dict = list(stock_data_dict.keys())\n",
    "stock_data_dict_len_list = []\n",
    "\n",
    "for ticker in ticker_list_in_stock_data_dict:\n",
    "    stock_data_dict_len_list.append(len(stock_data_dict[ticker]))"
   ]
  },
  {
   "cell_type": "code",
   "execution_count": 13,
   "metadata": {},
   "outputs": [
    {
     "data": {
      "text/plain": [
       "5053"
      ]
     },
     "execution_count": 13,
     "metadata": {},
     "output_type": "execute_result"
    }
   ],
   "source": [
    "maximum_len = pd.Series(stock_data_dict_len_list).max()\n",
    "maximum_len"
   ]
  },
  {
   "cell_type": "code",
   "execution_count": 14,
   "metadata": {},
   "outputs": [],
   "source": [
    "filtered_stock_data_dict = {}\n",
    "\n",
    "for ticker in ticker_list_in_stock_data_dict:\n",
    "    if len(stock_data_dict[ticker]) == maximum_len:\n",
    "        filtered_stock_data_dict[ticker] = stock_data_dict[ticker]"
   ]
  },
  {
   "cell_type": "code",
   "execution_count": 15,
   "metadata": {},
   "outputs": [
    {
     "data": {
      "text/plain": [
       "571"
      ]
     },
     "execution_count": 15,
     "metadata": {},
     "output_type": "execute_result"
    }
   ],
   "source": [
    "len(filtered_stock_data_dict)"
   ]
  },
  {
   "cell_type": "code",
   "execution_count": 19,
   "metadata": {},
   "outputs": [],
   "source": [
    "# # Saving\n",
    "# with open('russel1000_stock_data_dict.pickle', 'wb') as f: # \n",
    "#     pickle.dump(filtered_stock_data_dict, f, pickle.HIGHEST_PROTOCOL)"
   ]
  },
  {
   "cell_type": "code",
   "execution_count": 20,
   "metadata": {},
   "outputs": [],
   "source": [
    "# Loading\n",
    "with open('russel1000_stock_data_dict.pickle', 'rb') as f:\n",
    "    filtered_stock_data_dict = pickle.load(f)"
   ]
  },
  {
   "cell_type": "markdown",
   "metadata": {},
   "source": [
    "---"
   ]
  },
  {
   "cell_type": "markdown",
   "metadata": {},
   "source": [
    "## Step 03. Creating a daily_price_df"
   ]
  },
  {
   "cell_type": "markdown",
   "metadata": {},
   "source": [
    "__1. Creating a dataframe of price : `daily_price_df`__"
   ]
  },
  {
   "cell_type": "code",
   "execution_count": 21,
   "metadata": {},
   "outputs": [],
   "source": [
    "daily_price_dict = {}\n",
    "filtered_tickers = list(filtered_stock_data_dict.keys())\n",
    "\n",
    "for ticker in filtered_tickers:\n",
    "    daily_price_dict[ticker] = filtered_stock_data_dict[ticker].loc[:,'Adj Close']"
   ]
  },
  {
   "cell_type": "code",
   "execution_count": 23,
   "metadata": {},
   "outputs": [
    {
     "data": {
      "text/html": [
       "<div>\n",
       "<style scoped>\n",
       "    .dataframe tbody tr th:only-of-type {\n",
       "        vertical-align: middle;\n",
       "    }\n",
       "\n",
       "    .dataframe tbody tr th {\n",
       "        vertical-align: top;\n",
       "    }\n",
       "\n",
       "    .dataframe thead th {\n",
       "        text-align: right;\n",
       "    }\n",
       "</style>\n",
       "<table border=\"1\" class=\"dataframe\">\n",
       "  <thead>\n",
       "    <tr style=\"text-align: right;\">\n",
       "      <th></th>\n",
       "      <th>MMM</th>\n",
       "      <th>ABT</th>\n",
       "      <th>ABMD</th>\n",
       "      <th>ACHC</th>\n",
       "      <th>ATVI</th>\n",
       "      <th>ADBE</th>\n",
       "      <th>AMD</th>\n",
       "      <th>AES</th>\n",
       "      <th>AMG</th>\n",
       "      <th>AFL</th>\n",
       "      <th>...</th>\n",
       "      <th>XLNX</th>\n",
       "      <th>YUM</th>\n",
       "      <th>BRK-B</th>\n",
       "      <th>EQC</th>\n",
       "      <th>HEI-A</th>\n",
       "      <th>LGF-A</th>\n",
       "      <th>NCR</th>\n",
       "      <th>X</th>\n",
       "      <th>VMI</th>\n",
       "      <th>JW-A</th>\n",
       "    </tr>\n",
       "  </thead>\n",
       "  <tbody>\n",
       "    <tr>\n",
       "      <th>1999-11-01</th>\n",
       "      <td>27.326748</td>\n",
       "      <td>10.175731</td>\n",
       "      <td>10.2500</td>\n",
       "      <td>3.750</td>\n",
       "      <td>1.045129</td>\n",
       "      <td>17.013006</td>\n",
       "      <td>10.15625</td>\n",
       "      <td>21.740425</td>\n",
       "      <td>17.608480</td>\n",
       "      <td>8.143493</td>\n",
       "      <td>...</td>\n",
       "      <td>27.857941</td>\n",
       "      <td>5.373026</td>\n",
       "      <td>41.740002</td>\n",
       "      <td>7.317558</td>\n",
       "      <td>2.147241</td>\n",
       "      <td>1.423901</td>\n",
       "      <td>8.022765</td>\n",
       "      <td>19.023846</td>\n",
       "      <td>13.733675</td>\n",
       "      <td>11.674436</td>\n",
       "    </tr>\n",
       "    <tr>\n",
       "      <th>1999-11-02</th>\n",
       "      <td>27.581104</td>\n",
       "      <td>9.592007</td>\n",
       "      <td>10.3125</td>\n",
       "      <td>3.750</td>\n",
       "      <td>1.059064</td>\n",
       "      <td>16.888933</td>\n",
       "      <td>10.28125</td>\n",
       "      <td>22.126066</td>\n",
       "      <td>17.446932</td>\n",
       "      <td>8.382089</td>\n",
       "      <td>...</td>\n",
       "      <td>28.366455</td>\n",
       "      <td>5.290237</td>\n",
       "      <td>42.820000</td>\n",
       "      <td>7.418488</td>\n",
       "      <td>2.138686</td>\n",
       "      <td>1.385417</td>\n",
       "      <td>7.739959</td>\n",
       "      <td>19.689667</td>\n",
       "      <td>13.659440</td>\n",
       "      <td>11.630880</td>\n",
       "    </tr>\n",
       "    <tr>\n",
       "      <th>1999-11-03</th>\n",
       "      <td>27.472086</td>\n",
       "      <td>9.292256</td>\n",
       "      <td>10.2500</td>\n",
       "      <td>3.875</td>\n",
       "      <td>1.077644</td>\n",
       "      <td>17.075039</td>\n",
       "      <td>10.65625</td>\n",
       "      <td>21.571711</td>\n",
       "      <td>17.527702</td>\n",
       "      <td>8.496197</td>\n",
       "      <td>...</td>\n",
       "      <td>29.958338</td>\n",
       "      <td>5.199167</td>\n",
       "      <td>43.060001</td>\n",
       "      <td>7.317558</td>\n",
       "      <td>1.984700</td>\n",
       "      <td>1.539352</td>\n",
       "      <td>7.859035</td>\n",
       "      <td>19.499424</td>\n",
       "      <td>13.461479</td>\n",
       "      <td>11.238826</td>\n",
       "    </tr>\n",
       "  </tbody>\n",
       "</table>\n",
       "<p>3 rows × 571 columns</p>\n",
       "</div>"
      ],
      "text/plain": [
       "                  MMM        ABT     ABMD   ACHC      ATVI       ADBE  \\\n",
       "1999-11-01  27.326748  10.175731  10.2500  3.750  1.045129  17.013006   \n",
       "1999-11-02  27.581104   9.592007  10.3125  3.750  1.059064  16.888933   \n",
       "1999-11-03  27.472086   9.292256  10.2500  3.875  1.077644  17.075039   \n",
       "\n",
       "                 AMD        AES        AMG       AFL  ...       XLNX  \\\n",
       "1999-11-01  10.15625  21.740425  17.608480  8.143493  ...  27.857941   \n",
       "1999-11-02  10.28125  22.126066  17.446932  8.382089  ...  28.366455   \n",
       "1999-11-03  10.65625  21.571711  17.527702  8.496197  ...  29.958338   \n",
       "\n",
       "                 YUM      BRK-B       EQC     HEI-A     LGF-A       NCR  \\\n",
       "1999-11-01  5.373026  41.740002  7.317558  2.147241  1.423901  8.022765   \n",
       "1999-11-02  5.290237  42.820000  7.418488  2.138686  1.385417  7.739959   \n",
       "1999-11-03  5.199167  43.060001  7.317558  1.984700  1.539352  7.859035   \n",
       "\n",
       "                    X        VMI       JW-A  \n",
       "1999-11-01  19.023846  13.733675  11.674436  \n",
       "1999-11-02  19.689667  13.659440  11.630880  \n",
       "1999-11-03  19.499424  13.461479  11.238826  \n",
       "\n",
       "[3 rows x 571 columns]"
      ]
     },
     "execution_count": 23,
     "metadata": {},
     "output_type": "execute_result"
    }
   ],
   "source": [
    "daily_price_df = pd.DataFrame.from_dict(daily_price_dict)\n",
    "daily_price_df.index.name = None\n",
    "\n",
    "daily_price_df.head(3)"
   ]
  },
  {
   "cell_type": "markdown",
   "metadata": {},
   "source": [
    "__2. Checking the dtypes of__ `daily_price_df`\n",
    "- Need to check the datatypes of data included in dataframe because some of the numbers may not be numbers(floats, ints, etc) but actually strings.\n",
    "- If some strings are mixed with numbers in the dataframe, some computations such as `.cov()` cannot be performed."
   ]
  },
  {
   "cell_type": "code",
   "execution_count": 24,
   "metadata": {},
   "outputs": [
    {
     "data": {
      "text/plain": [
       "float64    571\n",
       "dtype: int64"
      ]
     },
     "execution_count": 24,
     "metadata": {},
     "output_type": "execute_result"
    }
   ],
   "source": [
    "daily_price_df.dtypes.value_counts()"
   ]
  },
  {
   "cell_type": "markdown",
   "metadata": {},
   "source": [
    "- The datatype `object` in pandas means string, while `float64` means float numbere.\n",
    "- Source : <a href=\"https://pbpython.com/pandas_dtypes.html\">_Overview of Pandas Data Types_</a>"
   ]
  },
  {
   "cell_type": "code",
   "execution_count": 26,
   "metadata": {},
   "outputs": [],
   "source": [
    "# # Saving\n",
    "# with open('russel1000_daily_price_df.pickle', 'wb') as f: # \n",
    "#     pickle.dump(daily_price_df, f, pickle.HIGHEST_PROTOCOL)"
   ]
  },
  {
   "cell_type": "code",
   "execution_count": 27,
   "metadata": {},
   "outputs": [],
   "source": [
    "# Loading\n",
    "with open('russel1000_daily_price_df.pickle', 'rb') as f:\n",
    "    daily_price_df = pickle.load(f)"
   ]
  },
  {
   "cell_type": "markdown",
   "metadata": {},
   "source": [
    "---"
   ]
  },
  {
   "cell_type": "markdown",
   "metadata": {},
   "source": [
    "## Step 04. Grouping daily_return by a year"
   ]
  },
  {
   "cell_type": "markdown",
   "metadata": {},
   "source": [
    "__1. Creating a dataframe of return : `daily_return_df`__"
   ]
  },
  {
   "cell_type": "code",
   "execution_count": 28,
   "metadata": {},
   "outputs": [
    {
     "data": {
      "text/html": [
       "<div>\n",
       "<style scoped>\n",
       "    .dataframe tbody tr th:only-of-type {\n",
       "        vertical-align: middle;\n",
       "    }\n",
       "\n",
       "    .dataframe tbody tr th {\n",
       "        vertical-align: top;\n",
       "    }\n",
       "\n",
       "    .dataframe thead th {\n",
       "        text-align: right;\n",
       "    }\n",
       "</style>\n",
       "<table border=\"1\" class=\"dataframe\">\n",
       "  <thead>\n",
       "    <tr style=\"text-align: right;\">\n",
       "      <th></th>\n",
       "      <th>MMM</th>\n",
       "      <th>ABT</th>\n",
       "      <th>ABMD</th>\n",
       "      <th>ACHC</th>\n",
       "      <th>ATVI</th>\n",
       "      <th>ADBE</th>\n",
       "      <th>AMD</th>\n",
       "      <th>AES</th>\n",
       "      <th>AMG</th>\n",
       "      <th>AFL</th>\n",
       "      <th>...</th>\n",
       "      <th>XLNX</th>\n",
       "      <th>YUM</th>\n",
       "      <th>BRK-B</th>\n",
       "      <th>EQC</th>\n",
       "      <th>HEI-A</th>\n",
       "      <th>LGF-A</th>\n",
       "      <th>NCR</th>\n",
       "      <th>X</th>\n",
       "      <th>VMI</th>\n",
       "      <th>JW-A</th>\n",
       "    </tr>\n",
       "  </thead>\n",
       "  <tbody>\n",
       "    <tr>\n",
       "      <th>1999-11-02</th>\n",
       "      <td>0.009308</td>\n",
       "      <td>-0.057364</td>\n",
       "      <td>0.006098</td>\n",
       "      <td>0.000000</td>\n",
       "      <td>0.013333</td>\n",
       "      <td>-0.007293</td>\n",
       "      <td>0.012308</td>\n",
       "      <td>0.017738</td>\n",
       "      <td>-0.009174</td>\n",
       "      <td>0.029299</td>\n",
       "      <td>...</td>\n",
       "      <td>0.018254</td>\n",
       "      <td>-0.015408</td>\n",
       "      <td>0.025874</td>\n",
       "      <td>0.013793</td>\n",
       "      <td>-0.003984</td>\n",
       "      <td>-0.027027</td>\n",
       "      <td>-0.035250</td>\n",
       "      <td>0.034999</td>\n",
       "      <td>-0.005405</td>\n",
       "      <td>-0.003731</td>\n",
       "    </tr>\n",
       "    <tr>\n",
       "      <th>1999-11-03</th>\n",
       "      <td>-0.003953</td>\n",
       "      <td>-0.031250</td>\n",
       "      <td>-0.006061</td>\n",
       "      <td>0.033333</td>\n",
       "      <td>0.017543</td>\n",
       "      <td>0.011019</td>\n",
       "      <td>0.036474</td>\n",
       "      <td>-0.025054</td>\n",
       "      <td>0.004629</td>\n",
       "      <td>0.013613</td>\n",
       "      <td>...</td>\n",
       "      <td>0.056118</td>\n",
       "      <td>-0.017215</td>\n",
       "      <td>0.005605</td>\n",
       "      <td>-0.013605</td>\n",
       "      <td>-0.072000</td>\n",
       "      <td>0.111111</td>\n",
       "      <td>0.015385</td>\n",
       "      <td>-0.009662</td>\n",
       "      <td>-0.014493</td>\n",
       "      <td>-0.033708</td>\n",
       "    </tr>\n",
       "    <tr>\n",
       "      <th>1999-11-04</th>\n",
       "      <td>0.002646</td>\n",
       "      <td>0.028863</td>\n",
       "      <td>0.021341</td>\n",
       "      <td>0.000000</td>\n",
       "      <td>0.008621</td>\n",
       "      <td>0.000908</td>\n",
       "      <td>-0.032258</td>\n",
       "      <td>-0.003352</td>\n",
       "      <td>0.006913</td>\n",
       "      <td>0.018315</td>\n",
       "      <td>...</td>\n",
       "      <td>0.012546</td>\n",
       "      <td>0.000000</td>\n",
       "      <td>0.004645</td>\n",
       "      <td>0.006896</td>\n",
       "      <td>0.000000</td>\n",
       "      <td>0.250000</td>\n",
       "      <td>0.024621</td>\n",
       "      <td>-0.002439</td>\n",
       "      <td>0.007352</td>\n",
       "      <td>0.019380</td>\n",
       "    </tr>\n",
       "  </tbody>\n",
       "</table>\n",
       "<p>3 rows × 571 columns</p>\n",
       "</div>"
      ],
      "text/plain": [
       "                 MMM       ABT      ABMD      ACHC      ATVI      ADBE  \\\n",
       "1999-11-02  0.009308 -0.057364  0.006098  0.000000  0.013333 -0.007293   \n",
       "1999-11-03 -0.003953 -0.031250 -0.006061  0.033333  0.017543  0.011019   \n",
       "1999-11-04  0.002646  0.028863  0.021341  0.000000  0.008621  0.000908   \n",
       "\n",
       "                 AMD       AES       AMG       AFL  ...      XLNX       YUM  \\\n",
       "1999-11-02  0.012308  0.017738 -0.009174  0.029299  ...  0.018254 -0.015408   \n",
       "1999-11-03  0.036474 -0.025054  0.004629  0.013613  ...  0.056118 -0.017215   \n",
       "1999-11-04 -0.032258 -0.003352  0.006913  0.018315  ...  0.012546  0.000000   \n",
       "\n",
       "               BRK-B       EQC     HEI-A     LGF-A       NCR         X  \\\n",
       "1999-11-02  0.025874  0.013793 -0.003984 -0.027027 -0.035250  0.034999   \n",
       "1999-11-03  0.005605 -0.013605 -0.072000  0.111111  0.015385 -0.009662   \n",
       "1999-11-04  0.004645  0.006896  0.000000  0.250000  0.024621 -0.002439   \n",
       "\n",
       "                 VMI      JW-A  \n",
       "1999-11-02 -0.005405 -0.003731  \n",
       "1999-11-03 -0.014493 -0.033708  \n",
       "1999-11-04  0.007352  0.019380  \n",
       "\n",
       "[3 rows x 571 columns]"
      ]
     },
     "execution_count": 28,
     "metadata": {},
     "output_type": "execute_result"
    }
   ],
   "source": [
    "daily_return_df = daily_price_df.pct_change()\n",
    "daily_return_df = daily_return_df.dropna(axis=0)\n",
    "daily_return_df.head(3)"
   ]
  },
  {
   "cell_type": "code",
   "execution_count": 29,
   "metadata": {},
   "outputs": [
    {
     "data": {
      "text/html": [
       "<div>\n",
       "<style scoped>\n",
       "    .dataframe tbody tr th:only-of-type {\n",
       "        vertical-align: middle;\n",
       "    }\n",
       "\n",
       "    .dataframe tbody tr th {\n",
       "        vertical-align: top;\n",
       "    }\n",
       "\n",
       "    .dataframe thead th {\n",
       "        text-align: right;\n",
       "    }\n",
       "</style>\n",
       "<table border=\"1\" class=\"dataframe\">\n",
       "  <thead>\n",
       "    <tr style=\"text-align: right;\">\n",
       "      <th></th>\n",
       "      <th>MMM</th>\n",
       "      <th>ABT</th>\n",
       "      <th>ABMD</th>\n",
       "      <th>ACHC</th>\n",
       "      <th>ATVI</th>\n",
       "      <th>ADBE</th>\n",
       "      <th>AMD</th>\n",
       "      <th>AES</th>\n",
       "      <th>AMG</th>\n",
       "      <th>AFL</th>\n",
       "      <th>...</th>\n",
       "      <th>XLNX</th>\n",
       "      <th>YUM</th>\n",
       "      <th>BRK-B</th>\n",
       "      <th>EQC</th>\n",
       "      <th>HEI-A</th>\n",
       "      <th>LGF-A</th>\n",
       "      <th>NCR</th>\n",
       "      <th>X</th>\n",
       "      <th>VMI</th>\n",
       "      <th>JW-A</th>\n",
       "    </tr>\n",
       "  </thead>\n",
       "  <tbody>\n",
       "    <tr>\n",
       "      <th>2019-11-26</th>\n",
       "      <td>-0.005933</td>\n",
       "      <td>0.011007</td>\n",
       "      <td>0.035667</td>\n",
       "      <td>-0.017078</td>\n",
       "      <td>0.008189</td>\n",
       "      <td>0.008582</td>\n",
       "      <td>-0.020106</td>\n",
       "      <td>-0.001597</td>\n",
       "      <td>-0.010399</td>\n",
       "      <td>0.007919</td>\n",
       "      <td>...</td>\n",
       "      <td>-0.006317</td>\n",
       "      <td>0.017753</td>\n",
       "      <td>-0.000730</td>\n",
       "      <td>0.008290</td>\n",
       "      <td>0.004159</td>\n",
       "      <td>0.025082</td>\n",
       "      <td>0.003598</td>\n",
       "      <td>-0.007977</td>\n",
       "      <td>0.005276</td>\n",
       "      <td>0.010036</td>\n",
       "    </tr>\n",
       "    <tr>\n",
       "      <th>2019-11-27</th>\n",
       "      <td>0.008155</td>\n",
       "      <td>0.000000</td>\n",
       "      <td>0.013024</td>\n",
       "      <td>0.011480</td>\n",
       "      <td>0.005723</td>\n",
       "      <td>0.003767</td>\n",
       "      <td>0.010772</td>\n",
       "      <td>0.007467</td>\n",
       "      <td>0.003503</td>\n",
       "      <td>0.001644</td>\n",
       "      <td>...</td>\n",
       "      <td>0.023126</td>\n",
       "      <td>0.008922</td>\n",
       "      <td>0.007309</td>\n",
       "      <td>0.005177</td>\n",
       "      <td>0.007374</td>\n",
       "      <td>0.018085</td>\n",
       "      <td>0.001494</td>\n",
       "      <td>0.018275</td>\n",
       "      <td>0.006438</td>\n",
       "      <td>0.009725</td>\n",
       "    </tr>\n",
       "    <tr>\n",
       "      <th>2019-11-29</th>\n",
       "      <td>-0.004924</td>\n",
       "      <td>0.000351</td>\n",
       "      <td>-0.003100</td>\n",
       "      <td>-0.013497</td>\n",
       "      <td>0.006424</td>\n",
       "      <td>0.001521</td>\n",
       "      <td>-0.006597</td>\n",
       "      <td>0.001059</td>\n",
       "      <td>-0.006748</td>\n",
       "      <td>0.000365</td>\n",
       "      <td>...</td>\n",
       "      <td>-0.006106</td>\n",
       "      <td>0.000298</td>\n",
       "      <td>-0.000907</td>\n",
       "      <td>-0.004847</td>\n",
       "      <td>0.007119</td>\n",
       "      <td>-0.022988</td>\n",
       "      <td>-0.020585</td>\n",
       "      <td>-0.058148</td>\n",
       "      <td>-0.004659</td>\n",
       "      <td>-0.010469</td>\n",
       "    </tr>\n",
       "  </tbody>\n",
       "</table>\n",
       "<p>3 rows × 571 columns</p>\n",
       "</div>"
      ],
      "text/plain": [
       "                 MMM       ABT      ABMD      ACHC      ATVI      ADBE  \\\n",
       "2019-11-26 -0.005933  0.011007  0.035667 -0.017078  0.008189  0.008582   \n",
       "2019-11-27  0.008155  0.000000  0.013024  0.011480  0.005723  0.003767   \n",
       "2019-11-29 -0.004924  0.000351 -0.003100 -0.013497  0.006424  0.001521   \n",
       "\n",
       "                 AMD       AES       AMG       AFL  ...      XLNX       YUM  \\\n",
       "2019-11-26 -0.020106 -0.001597 -0.010399  0.007919  ... -0.006317  0.017753   \n",
       "2019-11-27  0.010772  0.007467  0.003503  0.001644  ...  0.023126  0.008922   \n",
       "2019-11-29 -0.006597  0.001059 -0.006748  0.000365  ... -0.006106  0.000298   \n",
       "\n",
       "               BRK-B       EQC     HEI-A     LGF-A       NCR         X  \\\n",
       "2019-11-26 -0.000730  0.008290  0.004159  0.025082  0.003598 -0.007977   \n",
       "2019-11-27  0.007309  0.005177  0.007374  0.018085  0.001494  0.018275   \n",
       "2019-11-29 -0.000907 -0.004847  0.007119 -0.022988 -0.020585 -0.058148   \n",
       "\n",
       "                 VMI      JW-A  \n",
       "2019-11-26  0.005276  0.010036  \n",
       "2019-11-27  0.006438  0.009725  \n",
       "2019-11-29 -0.004659 -0.010469  \n",
       "\n",
       "[3 rows x 571 columns]"
      ]
     },
     "execution_count": 29,
     "metadata": {},
     "output_type": "execute_result"
    }
   ],
   "source": [
    "daily_return_df.tail(3)"
   ]
  },
  {
   "cell_type": "markdown",
   "metadata": {},
   "source": [
    "__2. Grouping price data by a year__ : `grouped_daily_price_df_list`"
   ]
  },
  {
   "cell_type": "code",
   "execution_count": 30,
   "metadata": {},
   "outputs": [],
   "source": [
    "# past 252 days' daily returns are considered to calculate the covariance\n",
    "seq_length = 252\n",
    "\n",
    "# portfolio rebalnacing period is 60 days\n",
    "rebalancing_period = 60\n",
    "    \n",
    "# sliced dataframes are stored in the list below temporarily\n",
    "sliced_daily_return_df_list = []\n",
    "\n",
    "# for validation\n",
    "for i in range(0, (daily_return_df.shape[0]-(seq_length)+1), rebalancing_period):  # i gets bigger by 20 : 0, 20, 40,...\n",
    "    sliced_daily_return_df = (daily_return_df.iloc[(i):(i+seq_length),:])\n",
    "    sliced_daily_return_df_list.append(sliced_daily_return_df) # this is used for portfolio optimization, so can stay as pd.DataFrame"
   ]
  },
  {
   "cell_type": "code",
   "execution_count": 31,
   "metadata": {},
   "outputs": [
    {
     "data": {
      "text/plain": [
       "81"
      ]
     },
     "execution_count": 31,
     "metadata": {},
     "output_type": "execute_result"
    }
   ],
   "source": [
    "len(sliced_daily_return_df_list)"
   ]
  },
  {
   "cell_type": "code",
   "execution_count": 32,
   "metadata": {},
   "outputs": [],
   "source": [
    "validation_daily_price_df_list = []\n",
    "test_daily_price_df_list = []\n",
    "\n",
    "# for validation\n",
    "for i in range(len(sliced_daily_return_df_list)):\n",
    "    if i <= (47-1):\n",
    "        validation_daily_price_df_list.append(sliced_daily_return_df_list[i])\n",
    "    elif i >= (47+4-1) : \n",
    "        test_daily_price_df_list.append(sliced_daily_return_df_list[i])"
   ]
  },
  {
   "cell_type": "code",
   "execution_count": 33,
   "metadata": {},
   "outputs": [
    {
     "name": "stdout",
     "output_type": "stream",
     "text": [
      "len(validation_daily_price_df_list) : 47\n",
      "len(test_daily_price_df_list) : 31\n"
     ]
    }
   ],
   "source": [
    "print(f\"len(validation_daily_price_df_list) : {len(validation_daily_price_df_list)}\")\n",
    "print(f\"len(test_daily_price_df_list) : {len(test_daily_price_df_list)}\")"
   ]
  },
  {
   "cell_type": "code",
   "execution_count": 35,
   "metadata": {},
   "outputs": [],
   "source": [
    "# # Saving - validation data\n",
    "# with open('./russel1000_daily_return_df_validation.pickle', 'wb') as f: \n",
    "#     pickle.dump(validation_daily_price_df_list, f, pickle.HIGHEST_PROTOCOL)"
   ]
  },
  {
   "cell_type": "code",
   "execution_count": 38,
   "metadata": {},
   "outputs": [],
   "source": [
    "# # Saving - test data\n",
    "# with open('./russel1000_daily_return_df_test.pickle', 'wb') as f: \n",
    "#     pickle.dump(test_daily_price_df_list, f, pickle.HIGHEST_PROTOCOL)"
   ]
  },
  {
   "cell_type": "markdown",
   "metadata": {},
   "source": [
    "---"
   ]
  },
  {
   "cell_type": "markdown",
   "metadata": {},
   "source": [
    "## Step 05. Downloading industry information"
   ]
  },
  {
   "cell_type": "code",
   "execution_count": 39,
   "metadata": {},
   "outputs": [],
   "source": [
    "sector_dict = {}\n",
    "\n",
    "sector_dict['Industrials'] = []\n",
    "sector_dict['Healthcare'] = []\n",
    "sector_dict['Communication Services'] = []\n",
    "sector_dict['Technology'] = []\n",
    "sector_dict['Utilities'] = []\n",
    "sector_dict['Financial Services'] = []\n",
    "sector_dict['Basic Materials'] = []\n",
    "sector_dict['Real Estate'] = []\n",
    "sector_dict['Consumer Defensive'] = []\n",
    "sector_dict['Consumer Cyclical'] = []\n",
    "sector_dict['Energy'] = []"
   ]
  },
  {
   "cell_type": "code",
   "execution_count": 40,
   "metadata": {},
   "outputs": [
    {
     "data": {
      "application/vnd.jupyter.widget-view+json": {
       "model_id": "ebaae08ef3664e649a8360fddfd2e9dc",
       "version_major": 2,
       "version_minor": 0
      },
      "text/plain": [
       "HBox(children=(HTML(value=''), FloatProgress(value=0.0, max=571.0), HTML(value='')))"
      ]
     },
     "metadata": {},
     "output_type": "display_data"
    },
    {
     "name": "stdout",
     "output_type": "stream",
     "text": [
      "following ticker made an issue : EV\n",
      "following ticker made an issue : GD\n",
      "following ticker made an issue : VAR\n",
      "\n"
     ]
    }
   ],
   "source": [
    "for ticker in tqdm(filtered_tickers):\n",
    "    try: \n",
    "        ticker_sector = Equity(ticker).sector\n",
    "        sector_dict[ticker_sector].append(ticker)\n",
    "    except:\n",
    "        print(f\"following ticker made an issue : {ticker}\")"
   ]
  },
  {
   "cell_type": "code",
   "execution_count": 41,
   "metadata": {},
   "outputs": [],
   "source": [
    "sector_dict[\"Financial Services\"].append('BBT')\n",
    "sector_dict[\"Energy\"].append('CHK')\n",
    "sector_dict[\"Industrials\"].append('GD')\n",
    "sector_dict[\"Industrials\"].append('JEC')\n",
    "sector_dict[\"Financial Services\"].append('STI')"
   ]
  },
  {
   "cell_type": "code",
   "execution_count": 42,
   "metadata": {},
   "outputs": [
    {
     "name": "stdout",
     "output_type": "stream",
     "text": [
      "Industrials : 89\n",
      "Healthcare : 65\n",
      "Communication Services : 17\n",
      "Technology : 67\n",
      "Utilities : 30\n",
      "Financial Services : 87\n",
      "Basic Materials : 30\n",
      "Real Estate : 48\n",
      "Consumer Defensive : 37\n",
      "Consumer Cyclical : 72\n",
      "Energy : 31\n",
      "\n",
      "Total number of tickers : 573\n"
     ]
    }
   ],
   "source": [
    "industry_sum = 0\n",
    "\n",
    "for industry in sector_dict.keys():\n",
    "    print(f\"{industry} : {len(sector_dict[industry])}\")\n",
    "    industry_sum+= int(len(sector_dict[industry]))\n",
    "\n",
    "print()\n",
    "print(f\"Total number of tickers : {industry_sum}\")"
   ]
  },
  {
   "cell_type": "code",
   "execution_count": 43,
   "metadata": {},
   "outputs": [],
   "source": [
    "# Saving\n",
    "with open('./russel1000_sector_dict.pickle', 'wb') as f: # \n",
    "    pickle.dump(sector_dict, f, pickle.HIGHEST_PROTOCOL)"
   ]
  }
 ],
 "metadata": {
  "kernelspec": {
   "display_name": "Python 3",
   "language": "python",
   "name": "python3"
  },
  "language_info": {
   "codemirror_mode": {
    "name": "ipython",
    "version": 3
   },
   "file_extension": ".py",
   "mimetype": "text/x-python",
   "name": "python",
   "nbconvert_exporter": "python",
   "pygments_lexer": "ipython3",
   "version": "3.8.5"
  },
  "toc-showcode": false,
  "toc-showmarkdowntxt": false
 },
 "nbformat": 4,
 "nbformat_minor": 4
}
