{
 "cells": [
  {
   "cell_type": "markdown",
   "metadata": {},
   "source": [
    "# __Preparing data__\n",
    "\n",
    "- In this chapter, we are going to download the '__adjusted closing price__' of stocks listed in the stock index __Russel 1000__. \n",
    "- The reason that we use Russel 1000 instead of S&P 500 is that the number of stocks left is not many when we filter stocks with missing values from 1999 to 2019, if we use S&P 500.\n",
    "- We are aware of that filtering stocks with missing values will cause __Survivorship bias__. This will be fixed in the future research\n",
    "- The adjusted closing price is going to turn into daily returns of stocks and then be used when we optimize a portfolio.\n",
    "\n",
    "#### __Description of Data__\n",
    "- __Timespan :__ Nov.1999 - Nov.2019 (recent 20 years)\n",
    "- __Stock index used :__ Russel 1000\n",
    "- __Source :__ Yahoo Finance\n",
    "- __Library used for downloading data__ : Pandas datareader\n",
    "\n",
    "#### __Contents__\n",
    "\n",
    "- [__Step 01. Loading stock data__](#Step-01.-Loading-stock-data)\n",
    "- [__Step 02. Filtering tickers__](#Step-02.-Filtering-tickers)\n",
    "- [__Step 03. Creating a daily_price_df__](#Step-03.-Creating-a-daily_price_df)\n",
    "- [__Step 04. Downloading industry information__](#Step-05.-Downloading-industry-information)"
   ]
  },
  {
   "cell_type": "markdown",
   "metadata": {},
   "source": [
    "---"
   ]
  },
  {
   "cell_type": "markdown",
   "metadata": {
    "toc-hr-collapsed": true
   },
   "source": [
    "## Step 01. Loading stock data"
   ]
  },
  {
   "cell_type": "markdown",
   "metadata": {},
   "source": [
    "__1. Importing required libraries__"
   ]
  },
  {
   "cell_type": "code",
   "execution_count": 1,
   "metadata": {},
   "outputs": [],
   "source": [
    "# for importing libraries again that is already imported, just in case that any change is made in libraries\n",
    "%load_ext autoreload\n",
    "%autoreload 2\n",
    "\n",
    "# libraries for general work\n",
    "import pickle\n",
    "import numpy as np\n",
    "import pandas as pd\n",
    "from tqdm import tqdm_notebook as tqdm\n",
    "\n",
    "# for downloading stock data\n",
    "import pandas_datareader.data as pdr\n",
    "import datetime\n",
    "\n",
    "# for downloading industry information of each company\n",
    "# source : https://github.com/davidastephens/pandas-finance\n",
    "from pandas_finance import Equity\n",
    "\n",
    "# Disable printing all warnings on python \n",
    "import warnings\n",
    "warnings.filterwarnings(\"ignore\")"
   ]
  },
  {
   "cell_type": "markdown",
   "metadata": {},
   "source": [
    "__2. Loading Russel 1000 index constituents__\n",
    "- loading the tickers consisting the Russel 1000 index from the beginning of __Nov.1999__ till the end of __Nov.2019__"
   ]
  },
  {
   "cell_type": "code",
   "execution_count": 2,
   "metadata": {},
   "outputs": [
    {
     "data": {
      "text/plain": [
       "['TWOU', 'MMM', 'ABT', 'ABBV', 'ABMD']"
      ]
     },
     "execution_count": 2,
     "metadata": {},
     "output_type": "execute_result"
    }
   ],
   "source": [
    "russel1000_tickers = pd.read_csv(\"./russel1000_constituents.csv\", header=None)\n",
    "russel1000_tickers = list(russel1000_tickers.iloc[:,0])\n",
    "russel1000_tickers[:5]"
   ]
  },
  {
   "cell_type": "code",
   "execution_count": 3,
   "metadata": {},
   "outputs": [
    {
     "data": {
      "text/plain": [
       "968"
      ]
     },
     "execution_count": 3,
     "metadata": {},
     "output_type": "execute_result"
    }
   ],
   "source": [
    "len(russel1000_tickers)"
   ]
  },
  {
   "cell_type": "markdown",
   "metadata": {},
   "source": [
    "__3. Setting dates of `start` and `end` (the start and end dates when we download stocks)__"
   ]
  },
  {
   "cell_type": "code",
   "execution_count": 4,
   "metadata": {},
   "outputs": [],
   "source": [
    "# We will look at stock prices over the past year, starting at January 1, 2016\n",
    "start = (1999, 11, 1)\n",
    "start = datetime.datetime(*start)\n",
    "end = (2019, 12, 1)\n",
    "end = datetime.datetime(*end)"
   ]
  },
  {
   "cell_type": "markdown",
   "metadata": {},
   "source": [
    "__4. Download stock data__"
   ]
  },
  {
   "cell_type": "code",
   "execution_count": 5,
   "metadata": {},
   "outputs": [
    {
     "data": {
      "application/vnd.jupyter.widget-view+json": {
       "model_id": "3ca75cc51a1f4b7480d69f68159522a0",
       "version_major": 2,
       "version_minor": 0
      },
      "text/plain": [
       "HBox(children=(FloatProgress(value=0.0, max=968.0), HTML(value='')))"
      ]
     },
     "metadata": {},
     "output_type": "display_data"
    },
    {
     "name": "stdout",
     "output_type": "stream",
     "text": [
      "The following ticker made an error : BHGE\n",
      "The following ticker made an error : BRK.B\n",
      "The following ticker made an error : BFA\n",
      "The following ticker made an error : BFB\n",
      "The following ticker made an error : DPS\n",
      "The following ticker made an error : DNB\n",
      "The following ticker made an error : EGN\n",
      "The following ticker made an error : FDC\n",
      "The following ticker made an error : HEI.A\n",
      "The following ticker made an error : HPT\n",
      "The following ticker made an error : LEN.B\n",
      "The following ticker made an error : LGF.A\n",
      "The following ticker made an error : PF\n",
      "The following ticker made an error : TSRO\n",
      "The following ticker made an error : TMK\n",
      "The following ticker made an error : TRCO\n",
      "The following ticker made an error : DATA\n",
      "The following ticker made an error : ULTI\n",
      "The following ticker made an error : VVC\n",
      "The following ticker made an error : VSM\n",
      "The following ticker made an error : USG\n",
      "The following ticker made an error : UBNT\n",
      "The following ticker made an error : WFT\n",
      "The following ticker made an error : JW.A\n",
      "The following ticker made an error : WP\n",
      "\n"
     ]
    }
   ],
   "source": [
    "stock_data_dict = {}\n",
    "missing_tickers = []\n",
    "\n",
    "for ticker in tqdm(russel1000_tickers):\n",
    "    try:\n",
    "        stock_data = pdr.DataReader(ticker, 'yahoo', start, end)\n",
    "        stock_data_dict[ticker] = stock_data\n",
    "    except:\n",
    "        print(f\"The following ticker made an error : {ticker}\")\n",
    "        missing_tickers.append(ticker)"
   ]
  },
  {
   "cell_type": "code",
   "execution_count": 6,
   "metadata": {},
   "outputs": [
    {
     "data": {
      "text/plain": [
       "943"
      ]
     },
     "execution_count": 6,
     "metadata": {},
     "output_type": "execute_result"
    }
   ],
   "source": [
    "len(stock_data_dict)"
   ]
  },
  {
   "cell_type": "code",
   "execution_count": 7,
   "metadata": {},
   "outputs": [
    {
     "data": {
      "text/plain": [
       "25"
      ]
     },
     "execution_count": 7,
     "metadata": {},
     "output_type": "execute_result"
    }
   ],
   "source": [
    "len(missing_tickers)"
   ]
  },
  {
   "cell_type": "markdown",
   "metadata": {},
   "source": [
    "__5. Checking `missing_tickers` once again__"
   ]
  },
  {
   "cell_type": "code",
   "execution_count": 8,
   "metadata": {},
   "outputs": [],
   "source": [
    "replaced_missing_tickers = []\n",
    "\n",
    "for ticker in missing_tickers:\n",
    "    replaced_ticker = ticker.replace('.','-')\n",
    "    replaced_missing_tickers.append(replaced_ticker)"
   ]
  },
  {
   "cell_type": "code",
   "execution_count": 9,
   "metadata": {},
   "outputs": [
    {
     "data": {
      "application/vnd.jupyter.widget-view+json": {
       "model_id": "44e5782954714f72b6093e3e30d91eca",
       "version_major": 2,
       "version_minor": 0
      },
      "text/plain": [
       "HBox(children=(FloatProgress(value=0.0, max=25.0), HTML(value='')))"
      ]
     },
     "metadata": {},
     "output_type": "display_data"
    },
    {
     "name": "stdout",
     "output_type": "stream",
     "text": [
      "The following ticker made an error : BHGE\n",
      "The following ticker made an error : BFA\n",
      "The following ticker made an error : BFB\n",
      "The following ticker made an error : DPS\n",
      "The following ticker made an error : DNB\n",
      "The following ticker made an error : EGN\n",
      "The following ticker made an error : FDC\n",
      "The following ticker made an error : HPT\n",
      "The following ticker made an error : PF\n",
      "The following ticker made an error : TSRO\n",
      "The following ticker made an error : TMK\n",
      "The following ticker made an error : TRCO\n",
      "The following ticker made an error : DATA\n",
      "The following ticker made an error : ULTI\n",
      "The following ticker made an error : VVC\n",
      "The following ticker made an error : VSM\n",
      "The following ticker made an error : USG\n",
      "The following ticker made an error : UBNT\n",
      "The following ticker made an error : WFT\n",
      "The following ticker made an error : WP\n",
      "\n"
     ]
    }
   ],
   "source": [
    "for ticker in tqdm(replaced_missing_tickers):\n",
    "    try:\n",
    "        stock_data = pdr.DataReader(ticker, 'yahoo', start, end)\n",
    "        stock_data_dict[ticker] = stock_data\n",
    "    except:\n",
    "        print(f\"The following ticker made an error : {ticker}\")\n",
    "        missing_tickers.append(ticker)"
   ]
  },
  {
   "cell_type": "code",
   "execution_count": 10,
   "metadata": {},
   "outputs": [
    {
     "data": {
      "text/plain": [
       "948"
      ]
     },
     "execution_count": 10,
     "metadata": {},
     "output_type": "execute_result"
    }
   ],
   "source": [
    "len(stock_data_dict)"
   ]
  },
  {
   "cell_type": "code",
   "execution_count": 11,
   "metadata": {},
   "outputs": [],
   "source": [
    "# Saving\n",
    "with open('russel1000_raw_data_dict.pickle', 'wb') as f: # \n",
    "    pickle.dump(stock_data_dict, f, pickle.HIGHEST_PROTOCOL)"
   ]
  },
  {
   "cell_type": "markdown",
   "metadata": {},
   "source": [
    "---"
   ]
  },
  {
   "cell_type": "markdown",
   "metadata": {},
   "source": [
    "## Step 02. Filtering tickers"
   ]
  },
  {
   "cell_type": "markdown",
   "metadata": {},
   "source": [
    "__1. Filtering tickers with missing value__"
   ]
  },
  {
   "cell_type": "code",
   "execution_count": 12,
   "metadata": {},
   "outputs": [],
   "source": [
    "ticker_list_in_stock_data_dict = list(stock_data_dict.keys())\n",
    "stock_data_dict_len_list = []\n",
    "\n",
    "for ticker in ticker_list_in_stock_data_dict:\n",
    "    stock_data_dict_len_list.append(len(stock_data_dict[ticker]))"
   ]
  },
  {
   "cell_type": "code",
   "execution_count": 13,
   "metadata": {},
   "outputs": [
    {
     "data": {
      "text/plain": [
       "5053"
      ]
     },
     "execution_count": 13,
     "metadata": {},
     "output_type": "execute_result"
    }
   ],
   "source": [
    "maximum_len = pd.Series(stock_data_dict_len_list).max()\n",
    "maximum_len"
   ]
  },
  {
   "cell_type": "code",
   "execution_count": 14,
   "metadata": {},
   "outputs": [],
   "source": [
    "filtered_stock_data_dict = {}\n",
    "\n",
    "for ticker in ticker_list_in_stock_data_dict:\n",
    "    if len(stock_data_dict[ticker]) == maximum_len:\n",
    "        filtered_stock_data_dict[ticker] = stock_data_dict[ticker]"
   ]
  },
  {
   "cell_type": "code",
   "execution_count": 15,
   "metadata": {},
   "outputs": [
    {
     "data": {
      "text/plain": [
       "590"
      ]
     },
     "execution_count": 15,
     "metadata": {},
     "output_type": "execute_result"
    }
   ],
   "source": [
    "len(filtered_stock_data_dict)"
   ]
  },
  {
   "cell_type": "code",
   "execution_count": 16,
   "metadata": {},
   "outputs": [],
   "source": [
    "# Saving\n",
    "with open('russel1000_stock_data_dict.pickle', 'wb') as f: # \n",
    "    pickle.dump(filtered_stock_data_dict, f, pickle.HIGHEST_PROTOCOL)"
   ]
  },
  {
   "cell_type": "code",
   "execution_count": 17,
   "metadata": {},
   "outputs": [],
   "source": [
    "# Loading\n",
    "with open('russel1000_stock_data_dict.pickle', 'rb') as f:\n",
    "    filtered_stock_data_dict = pickle.load(f)"
   ]
  },
  {
   "cell_type": "markdown",
   "metadata": {},
   "source": [
    "---"
   ]
  },
  {
   "cell_type": "markdown",
   "metadata": {},
   "source": [
    "## Step 03. Creating a daily_price_df"
   ]
  },
  {
   "cell_type": "markdown",
   "metadata": {},
   "source": [
    "__1. Creating a dataframe of price : `daily_price_df`__"
   ]
  },
  {
   "cell_type": "code",
   "execution_count": 18,
   "metadata": {},
   "outputs": [],
   "source": [
    "daily_price_dict = {}\n",
    "filtered_tickers = list(filtered_stock_data_dict.keys())\n",
    "\n",
    "for ticker in filtered_tickers:\n",
    "    daily_price_dict[ticker] = filtered_stock_data_dict[ticker].loc[:,'Adj Close']"
   ]
  },
  {
   "cell_type": "code",
   "execution_count": 19,
   "metadata": {},
   "outputs": [
    {
     "data": {
      "text/html": [
       "<div>\n",
       "<style scoped>\n",
       "    .dataframe tbody tr th:only-of-type {\n",
       "        vertical-align: middle;\n",
       "    }\n",
       "\n",
       "    .dataframe tbody tr th {\n",
       "        vertical-align: top;\n",
       "    }\n",
       "\n",
       "    .dataframe thead th {\n",
       "        text-align: right;\n",
       "    }\n",
       "</style>\n",
       "<table border=\"1\" class=\"dataframe\">\n",
       "  <thead>\n",
       "    <tr style=\"text-align: right;\">\n",
       "      <th></th>\n",
       "      <th>MMM</th>\n",
       "      <th>ABT</th>\n",
       "      <th>ABMD</th>\n",
       "      <th>ACHC</th>\n",
       "      <th>ATVI</th>\n",
       "      <th>ADBE</th>\n",
       "      <th>AMD</th>\n",
       "      <th>AES</th>\n",
       "      <th>AMG</th>\n",
       "      <th>AFL</th>\n",
       "      <th>...</th>\n",
       "      <th>ZBRA</th>\n",
       "      <th>ZION</th>\n",
       "      <th>XEL</th>\n",
       "      <th>XRX</th>\n",
       "      <th>XLNX</th>\n",
       "      <th>YUM</th>\n",
       "      <th>BRK-B</th>\n",
       "      <th>HEI-A</th>\n",
       "      <th>LGF-A</th>\n",
       "      <th>JW-A</th>\n",
       "    </tr>\n",
       "  </thead>\n",
       "  <tbody>\n",
       "    <tr>\n",
       "      <th>1999-11-01</th>\n",
       "      <td>26.186508</td>\n",
       "      <td>7.625059</td>\n",
       "      <td>10.2500</td>\n",
       "      <td>3.750</td>\n",
       "      <td>1.057096</td>\n",
       "      <td>17.013006</td>\n",
       "      <td>10.15625</td>\n",
       "      <td>22.383265</td>\n",
       "      <td>17.685398</td>\n",
       "      <td>5.895580</td>\n",
       "      <td>...</td>\n",
       "      <td>26.222221</td>\n",
       "      <td>44.172218</td>\n",
       "      <td>8.828288</td>\n",
       "      <td>59.627827</td>\n",
       "      <td>28.284966</td>\n",
       "      <td>4.807233</td>\n",
       "      <td>41.740002</td>\n",
       "      <td>1.899360</td>\n",
       "      <td>1.423901</td>\n",
       "      <td>12.179971</td>\n",
       "    </tr>\n",
       "    <tr>\n",
       "      <th>1999-11-02</th>\n",
       "      <td>26.430267</td>\n",
       "      <td>7.187653</td>\n",
       "      <td>10.3125</td>\n",
       "      <td>3.750</td>\n",
       "      <td>1.071191</td>\n",
       "      <td>16.888933</td>\n",
       "      <td>10.28125</td>\n",
       "      <td>22.780302</td>\n",
       "      <td>17.523146</td>\n",
       "      <td>6.068317</td>\n",
       "      <td>...</td>\n",
       "      <td>25.388889</td>\n",
       "      <td>45.481014</td>\n",
       "      <td>8.853581</td>\n",
       "      <td>57.188522</td>\n",
       "      <td>28.801279</td>\n",
       "      <td>4.733161</td>\n",
       "      <td>42.820000</td>\n",
       "      <td>1.891793</td>\n",
       "      <td>1.385417</td>\n",
       "      <td>12.134530</td>\n",
       "    </tr>\n",
       "    <tr>\n",
       "      <th>1999-11-03</th>\n",
       "      <td>26.325787</td>\n",
       "      <td>6.963037</td>\n",
       "      <td>10.2500</td>\n",
       "      <td>3.875</td>\n",
       "      <td>1.089984</td>\n",
       "      <td>17.075039</td>\n",
       "      <td>10.65625</td>\n",
       "      <td>22.209560</td>\n",
       "      <td>17.604273</td>\n",
       "      <td>6.150932</td>\n",
       "      <td>...</td>\n",
       "      <td>24.944445</td>\n",
       "      <td>44.920109</td>\n",
       "      <td>8.727110</td>\n",
       "      <td>57.324043</td>\n",
       "      <td>30.417568</td>\n",
       "      <td>4.651680</td>\n",
       "      <td>43.060001</td>\n",
       "      <td>1.755583</td>\n",
       "      <td>1.539352</td>\n",
       "      <td>11.725501</td>\n",
       "    </tr>\n",
       "  </tbody>\n",
       "</table>\n",
       "<p>3 rows × 590 columns</p>\n",
       "</div>"
      ],
      "text/plain": [
       "                  MMM       ABT     ABMD   ACHC      ATVI       ADBE  \\\n",
       "1999-11-01  26.186508  7.625059  10.2500  3.750  1.057096  17.013006   \n",
       "1999-11-02  26.430267  7.187653  10.3125  3.750  1.071191  16.888933   \n",
       "1999-11-03  26.325787  6.963037  10.2500  3.875  1.089984  17.075039   \n",
       "\n",
       "                 AMD        AES        AMG       AFL  ...       ZBRA  \\\n",
       "1999-11-01  10.15625  22.383265  17.685398  5.895580  ...  26.222221   \n",
       "1999-11-02  10.28125  22.780302  17.523146  6.068317  ...  25.388889   \n",
       "1999-11-03  10.65625  22.209560  17.604273  6.150932  ...  24.944445   \n",
       "\n",
       "                 ZION       XEL        XRX       XLNX       YUM      BRK-B  \\\n",
       "1999-11-01  44.172218  8.828288  59.627827  28.284966  4.807233  41.740002   \n",
       "1999-11-02  45.481014  8.853581  57.188522  28.801279  4.733161  42.820000   \n",
       "1999-11-03  44.920109  8.727110  57.324043  30.417568  4.651680  43.060001   \n",
       "\n",
       "               HEI-A     LGF-A       JW-A  \n",
       "1999-11-01  1.899360  1.423901  12.179971  \n",
       "1999-11-02  1.891793  1.385417  12.134530  \n",
       "1999-11-03  1.755583  1.539352  11.725501  \n",
       "\n",
       "[3 rows x 590 columns]"
      ]
     },
     "execution_count": 19,
     "metadata": {},
     "output_type": "execute_result"
    }
   ],
   "source": [
    "daily_price_df = pd.DataFrame.from_dict(daily_price_dict)\n",
    "del daily_price_df.index.name\n",
    "\n",
    "daily_price_df.head(3)"
   ]
  },
  {
   "cell_type": "markdown",
   "metadata": {},
   "source": [
    "__2. Checking the dtypes of__ `daily_price_df`\n",
    "- Need to check the datatypes of data included in dataframe because some of the numbers may not be numbers(floats, ints, etc) but actually strings.\n",
    "- If some strings are mixed with numbers in the dataframe, some computations such as `.cov()` cannot be performed."
   ]
  },
  {
   "cell_type": "code",
   "execution_count": 20,
   "metadata": {},
   "outputs": [
    {
     "data": {
      "text/plain": [
       "float64    590\n",
       "dtype: int64"
      ]
     },
     "execution_count": 20,
     "metadata": {},
     "output_type": "execute_result"
    }
   ],
   "source": [
    "daily_price_df.dtypes.value_counts()"
   ]
  },
  {
   "cell_type": "markdown",
   "metadata": {},
   "source": [
    "- The datatype `object` in pandas means string, while `float64` means float numbere.\n",
    "- Source : <a href=\"https://pbpython.com/pandas_dtypes.html\">_Overview of Pandas Data Types_</a>"
   ]
  },
  {
   "cell_type": "code",
   "execution_count": 22,
   "metadata": {},
   "outputs": [],
   "source": [
    "# # Saving\n",
    "# with open('data/russel1000_daily_price_df.pickle', 'wb') as f: # \n",
    "#     pickle.dump(daily_price_df, f, pickle.HIGHEST_PROTOCOL)"
   ]
  },
  {
   "cell_type": "code",
   "execution_count": 23,
   "metadata": {},
   "outputs": [],
   "source": [
    "# Loading\n",
    "with open('data/russel1000_daily_price_df.pickle', 'rb') as f:\n",
    "    daily_price_df = pickle.load(f)"
   ]
  },
  {
   "cell_type": "markdown",
   "metadata": {},
   "source": [
    "---"
   ]
  },
  {
   "cell_type": "markdown",
   "metadata": {},
   "source": [
    "## Step 04. Downloading industry information"
   ]
  },
  {
   "cell_type": "code",
   "execution_count": 35,
   "metadata": {},
   "outputs": [],
   "source": [
    "sector_dict = {}\n",
    "\n",
    "sector_dict['Industrials'] = []\n",
    "sector_dict['Healthcare'] = []\n",
    "sector_dict['Communication Services'] = []\n",
    "sector_dict['Technology'] = []\n",
    "sector_dict['Utilities'] = []\n",
    "sector_dict['Financial Services'] = []\n",
    "sector_dict['Basic Materials'] = []\n",
    "sector_dict['Real Estate'] = []\n",
    "sector_dict['Consumer Defensive'] = []\n",
    "sector_dict['Consumer Cyclical'] = []\n",
    "sector_dict['Energy'] = []"
   ]
  },
  {
   "cell_type": "code",
   "execution_count": 36,
   "metadata": {},
   "outputs": [
    {
     "data": {
      "application/vnd.jupyter.widget-view+json": {
       "model_id": "bcceb69c82e645898b604fff0108226e",
       "version_major": 2,
       "version_minor": 0
      },
      "text/plain": [
       "HBox(children=(FloatProgress(value=0.0, max=590.0), HTML(value='')))"
      ]
     },
     "metadata": {},
     "output_type": "display_data"
    },
    {
     "name": "stdout",
     "output_type": "stream",
     "text": [
      "following ticker made an issue : BBT\n",
      "following ticker made an issue : CHK\n",
      "following ticker made an issue : GD\n",
      "following ticker made an issue : JEC\n",
      "following ticker made an issue : STI\n",
      "\n"
     ]
    }
   ],
   "source": [
    "for ticker in tqdm(filtered_tickers):\n",
    "    try: \n",
    "        ticker_sector = Equity(ticker).sector\n",
    "        sector_dict[ticker_sector].append(ticker)\n",
    "    except:\n",
    "        print(f\"following ticker made an issue : {ticker}\")"
   ]
  },
  {
   "cell_type": "code",
   "execution_count": 37,
   "metadata": {},
   "outputs": [],
   "source": [
    "sector_dict[\"Financial Services\"].append('BBT')\n",
    "sector_dict[\"Energy\"].append('CHK')\n",
    "sector_dict[\"Industrials\"].append('GD')\n",
    "sector_dict[\"Industrials\"].append('JEC')\n",
    "sector_dict[\"Financial Services\"].append('STI')"
   ]
  },
  {
   "cell_type": "code",
   "execution_count": 38,
   "metadata": {},
   "outputs": [
    {
     "name": "stdout",
     "output_type": "stream",
     "text": [
      "Industrials : 93\n",
      "Healthcare : 68\n",
      "Communication Services : 18\n",
      "Technology : 67\n",
      "Utilities : 31\n",
      "Financial Services : 92\n",
      "Basic Materials : 30\n",
      "Real Estate : 49\n",
      "Consumer Defensive : 37\n",
      "Consumer Cyclical : 73\n",
      "Energy : 32\n",
      "\n",
      "Total number of tickers : 590\n"
     ]
    }
   ],
   "source": [
    "industry_sum = 0\n",
    "\n",
    "for industry in sector_dict.keys():\n",
    "    print(f\"{industry} : {len(sector_dict[industry])}\")\n",
    "    industry_sum+= int(len(sector_dict[industry]))\n",
    "\n",
    "print()\n",
    "print(f\"Total number of tickers : {industry_sum}\")"
   ]
  },
  {
   "cell_type": "code",
   "execution_count": 39,
   "metadata": {},
   "outputs": [],
   "source": [
    "# Saving\n",
    "with open('./russel1000_sector_dict.pickle', 'wb') as f: # \n",
    "    pickle.dump(sector_dict, f, pickle.HIGHEST_PROTOCOL)"
   ]
  }
 ],
 "metadata": {
  "kernelspec": {
   "display_name": "Python 3",
   "language": "python",
   "name": "python3"
  },
  "language_info": {
   "codemirror_mode": {
    "name": "ipython",
    "version": 3
   },
   "file_extension": ".py",
   "mimetype": "text/x-python",
   "name": "python",
   "nbconvert_exporter": "python",
   "pygments_lexer": "ipython3",
   "version": "3.7.3"
  },
  "toc-showcode": false,
  "toc-showmarkdowntxt": false
 },
 "nbformat": 4,
 "nbformat_minor": 4
}
